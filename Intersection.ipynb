{
 "cells": [
  {
   "cell_type": "markdown",
   "id": "644980cc",
   "metadata": {},
   "source": [
    "# Intersection"
   ]
  },
  {
   "cell_type": "code",
   "execution_count": null,
   "id": "37924e9d",
   "metadata": {},
   "outputs": [],
   "source": [
    "using Plots\n",
    "using Revise"
   ]
  },
  {
   "cell_type": "code",
   "execution_count": null,
   "id": "ddf29698",
   "metadata": {},
   "outputs": [
    {
     "name": "stderr",
     "output_type": "stream",
     "text": [
      "\u001b[36m\u001b[1m[ \u001b[22m\u001b[39m\u001b[36m\u001b[1mInfo: \u001b[22m\u001b[39mPrecompiling PolygonAlgorithms [32a0d02f-32d9-4438-b5ed-3a2932b48f96]\n"
     ]
    }
   ],
   "source": [
    "using PolygonAlgorithms\n",
    "using PolygonAlgorithms: x_coords, y_coords, translate"
   ]
  },
  {
   "cell_type": "code",
   "execution_count": null,
   "id": "cb0fdd8b",
   "metadata": {},
   "outputs": [],
   "source": [
    "using PolygonAlgorithms: PointInfo, Node, DoublyLinkedList, generate_list, find_and_insert_intersections!"
   ]
  },
  {
   "cell_type": "markdown",
   "id": "a9b1c14a",
   "metadata": {},
   "source": [
    "## Segments"
   ]
  },
  {
   "cell_type": "code",
   "execution_count": null,
   "id": "b8137ad1",
   "metadata": {},
   "outputs": [],
   "source": [
    "seg1 = ((1.0, 1.0), (2.0, 3.0));\n",
    "seg2 = ((2.0, 2.0), (5.0, 0.0));"
   ]
  },
  {
   "cell_type": "code",
   "execution_count": null,
   "id": "63f5cc64",
   "metadata": {},
   "outputs": [
    {
     "data": {
      "image/svg+xml": [
       "<?xml version=\"1.0\" encoding=\"utf-8\"?>\n",
       "<svg xmlns=\"http://www.w3.org/2000/svg\" xmlns:xlink=\"http://www.w3.org/1999/xlink\" width=\"600\" height=\"400\" viewBox=\"0 0 2400 1600\">\n",
       "<defs>\n",
       "  <clipPath id=\"clip760\">\n",
       "    <rect x=\"0\" y=\"0\" width=\"2400\" height=\"1600\"/>\n",
       "  </clipPath>\n",
       "</defs>\n",
       "<path clip-path=\"url(#clip760)\" d=\"M0 1600 L2400 1600 L2400 0 L0 0  Z\" fill=\"#ffffff\" fill-rule=\"evenodd\" fill-opacity=\"1\"/>\n",
       "<defs>\n",
       "  <clipPath id=\"clip761\">\n",
       "    <rect x=\"480\" y=\"0\" width=\"1681\" height=\"1600\"/>\n",
       "  </clipPath>\n",
       "</defs>\n",
       "<path clip-path=\"url(#clip760)\" d=\"M110.881 1486.45 L2352.76 1486.45 L2352.76 47.2441 L110.881 47.2441  Z\" fill=\"#ffffff\" fill-rule=\"evenodd\" fill-opacity=\"1\"/>\n",
       "<defs>\n",
       "  <clipPath id=\"clip762\">\n",
       "    <rect x=\"110\" y=\"47\" width=\"2243\" height=\"1440\"/>\n",
       "  </clipPath>\n",
       "</defs>\n",
       "<polyline clip-path=\"url(#clip762)\" style=\"stroke:#000000; stroke-linecap:round; stroke-linejoin:round; stroke-width:2; stroke-opacity:0.1; fill:none\" points=\"326.659,1486.45 326.659,47.2441 \"/>\n",
       "<polyline clip-path=\"url(#clip762)\" style=\"stroke:#000000; stroke-linecap:round; stroke-linejoin:round; stroke-width:2; stroke-opacity:0.1; fill:none\" points=\"779.239,1486.45 779.239,47.2441 \"/>\n",
       "<polyline clip-path=\"url(#clip762)\" style=\"stroke:#000000; stroke-linecap:round; stroke-linejoin:round; stroke-width:2; stroke-opacity:0.1; fill:none\" points=\"1231.82,1486.45 1231.82,47.2441 \"/>\n",
       "<polyline clip-path=\"url(#clip762)\" style=\"stroke:#000000; stroke-linecap:round; stroke-linejoin:round; stroke-width:2; stroke-opacity:0.1; fill:none\" points=\"1684.4,1486.45 1684.4,47.2441 \"/>\n",
       "<polyline clip-path=\"url(#clip762)\" style=\"stroke:#000000; stroke-linecap:round; stroke-linejoin:round; stroke-width:2; stroke-opacity:0.1; fill:none\" points=\"2136.98,1486.45 2136.98,47.2441 \"/>\n",
       "<polyline clip-path=\"url(#clip760)\" style=\"stroke:#000000; stroke-linecap:round; stroke-linejoin:round; stroke-width:4; stroke-opacity:1; fill:none\" points=\"110.881,1486.45 2352.76,1486.45 \"/>\n",
       "<polyline clip-path=\"url(#clip760)\" style=\"stroke:#000000; stroke-linecap:round; stroke-linejoin:round; stroke-width:4; stroke-opacity:1; fill:none\" points=\"326.659,1486.45 326.659,1467.55 \"/>\n",
       "<polyline clip-path=\"url(#clip760)\" style=\"stroke:#000000; stroke-linecap:round; stroke-linejoin:round; stroke-width:4; stroke-opacity:1; fill:none\" points=\"779.239,1486.45 779.239,1467.55 \"/>\n",
       "<polyline clip-path=\"url(#clip760)\" style=\"stroke:#000000; stroke-linecap:round; stroke-linejoin:round; stroke-width:4; stroke-opacity:1; fill:none\" points=\"1231.82,1486.45 1231.82,1467.55 \"/>\n",
       "<polyline clip-path=\"url(#clip760)\" style=\"stroke:#000000; stroke-linecap:round; stroke-linejoin:round; stroke-width:4; stroke-opacity:1; fill:none\" points=\"1684.4,1486.45 1684.4,1467.55 \"/>\n",
       "<polyline clip-path=\"url(#clip760)\" style=\"stroke:#000000; stroke-linecap:round; stroke-linejoin:round; stroke-width:4; stroke-opacity:1; fill:none\" points=\"2136.98,1486.45 2136.98,1467.55 \"/>\n",
       "<path clip-path=\"url(#clip760)\" d=\"M317.041 1544.91 L324.68 1544.91 L324.68 1518.55 L316.369 1520.21 L316.369 1515.95 L324.633 1514.29 L329.309 1514.29 L329.309 1544.91 L336.948 1544.91 L336.948 1548.85 L317.041 1548.85 L317.041 1544.91 Z\" fill=\"#000000\" fill-rule=\"evenodd\" fill-opacity=\"1\" /><path clip-path=\"url(#clip760)\" d=\"M773.891 1544.91 L790.211 1544.91 L790.211 1548.85 L768.266 1548.85 L768.266 1544.91 Q770.928 1542.16 775.512 1537.53 Q780.118 1532.88 781.299 1531.53 Q783.544 1529.01 784.424 1527.27 Q785.327 1525.51 785.327 1523.82 Q785.327 1521.07 783.382 1519.33 Q781.461 1517.6 778.359 1517.6 Q776.16 1517.6 773.706 1518.36 Q771.276 1519.13 768.498 1520.68 L768.498 1515.95 Q771.322 1514.82 773.776 1514.24 Q776.229 1513.66 778.266 1513.66 Q783.637 1513.66 786.831 1516.35 Q790.026 1519.03 790.026 1523.52 Q790.026 1525.65 789.215 1527.57 Q788.428 1529.47 786.322 1532.07 Q785.743 1532.74 782.641 1535.95 Q779.54 1539.15 773.891 1544.91 Z\" fill=\"#000000\" fill-rule=\"evenodd\" fill-opacity=\"1\" /><path clip-path=\"url(#clip760)\" d=\"M1236.07 1530.21 Q1239.42 1530.93 1241.3 1533.2 Q1243.2 1535.47 1243.2 1538.8 Q1243.2 1543.92 1239.68 1546.72 Q1236.16 1549.52 1229.68 1549.52 Q1227.5 1549.52 1225.19 1549.08 Q1222.89 1548.66 1220.44 1547.81 L1220.44 1543.29 Q1222.39 1544.43 1224.7 1545.01 Q1227.02 1545.58 1229.54 1545.58 Q1233.94 1545.58 1236.23 1543.85 Q1238.54 1542.11 1238.54 1538.8 Q1238.54 1535.75 1236.39 1534.03 Q1234.26 1532.3 1230.44 1532.3 L1226.41 1532.3 L1226.41 1528.45 L1230.63 1528.45 Q1234.08 1528.45 1235.9 1527.09 Q1237.73 1525.7 1237.73 1523.11 Q1237.73 1520.45 1235.83 1519.03 Q1233.96 1517.6 1230.44 1517.6 Q1228.52 1517.6 1226.32 1518.01 Q1224.12 1518.43 1221.48 1519.31 L1221.48 1515.14 Q1224.14 1514.4 1226.46 1514.03 Q1228.8 1513.66 1230.86 1513.66 Q1236.18 1513.66 1239.28 1516.09 Q1242.39 1518.5 1242.39 1522.62 Q1242.39 1525.49 1240.74 1527.48 Q1239.1 1529.45 1236.07 1530.21 Z\" fill=\"#000000\" fill-rule=\"evenodd\" fill-opacity=\"1\" /><path clip-path=\"url(#clip760)\" d=\"M1687.41 1518.36 L1675.6 1536.81 L1687.41 1536.81 L1687.41 1518.36 M1686.18 1514.29 L1692.06 1514.29 L1692.06 1536.81 L1696.99 1536.81 L1696.99 1540.7 L1692.06 1540.7 L1692.06 1548.85 L1687.41 1548.85 L1687.41 1540.7 L1671.81 1540.7 L1671.81 1536.19 L1686.18 1514.29 Z\" fill=\"#000000\" fill-rule=\"evenodd\" fill-opacity=\"1\" /><path clip-path=\"url(#clip760)\" d=\"M2127.26 1514.29 L2145.61 1514.29 L2145.61 1518.22 L2131.54 1518.22 L2131.54 1526.7 Q2132.56 1526.35 2133.58 1526.19 Q2134.59 1526 2135.61 1526 Q2141.4 1526 2144.78 1529.17 Q2148.16 1532.34 2148.16 1537.76 Q2148.16 1543.34 2144.69 1546.44 Q2141.21 1549.52 2134.89 1549.52 Q2132.72 1549.52 2130.45 1549.15 Q2128.2 1548.78 2125.8 1548.04 L2125.8 1543.34 Q2127.88 1544.47 2130.1 1545.03 Q2132.33 1545.58 2134.8 1545.58 Q2138.81 1545.58 2141.14 1543.48 Q2143.48 1541.37 2143.48 1537.76 Q2143.48 1534.15 2141.14 1532.04 Q2138.81 1529.94 2134.8 1529.94 Q2132.93 1529.94 2131.05 1530.35 Q2129.2 1530.77 2127.26 1531.65 L2127.26 1514.29 Z\" fill=\"#000000\" fill-rule=\"evenodd\" fill-opacity=\"1\" /><polyline clip-path=\"url(#clip762)\" style=\"stroke:#000000; stroke-linecap:round; stroke-linejoin:round; stroke-width:2; stroke-opacity:0.1; fill:none\" points=\"110.881,1445.72 2352.76,1445.72 \"/>\n",
       "<polyline clip-path=\"url(#clip762)\" style=\"stroke:#000000; stroke-linecap:round; stroke-linejoin:round; stroke-width:2; stroke-opacity:0.1; fill:none\" points=\"110.881,993.136 2352.76,993.136 \"/>\n",
       "<polyline clip-path=\"url(#clip762)\" style=\"stroke:#000000; stroke-linecap:round; stroke-linejoin:round; stroke-width:2; stroke-opacity:0.1; fill:none\" points=\"110.881,540.556 2352.76,540.556 \"/>\n",
       "<polyline clip-path=\"url(#clip762)\" style=\"stroke:#000000; stroke-linecap:round; stroke-linejoin:round; stroke-width:2; stroke-opacity:0.1; fill:none\" points=\"110.881,87.9763 2352.76,87.9763 \"/>\n",
       "<polyline clip-path=\"url(#clip760)\" style=\"stroke:#000000; stroke-linecap:round; stroke-linejoin:round; stroke-width:4; stroke-opacity:1; fill:none\" points=\"110.881,1486.45 110.881,47.2441 \"/>\n",
       "<polyline clip-path=\"url(#clip760)\" style=\"stroke:#000000; stroke-linecap:round; stroke-linejoin:round; stroke-width:4; stroke-opacity:1; fill:none\" points=\"110.881,1445.72 129.779,1445.72 \"/>\n",
       "<polyline clip-path=\"url(#clip760)\" style=\"stroke:#000000; stroke-linecap:round; stroke-linejoin:round; stroke-width:4; stroke-opacity:1; fill:none\" points=\"110.881,993.136 129.779,993.136 \"/>\n",
       "<polyline clip-path=\"url(#clip760)\" style=\"stroke:#000000; stroke-linecap:round; stroke-linejoin:round; stroke-width:4; stroke-opacity:1; fill:none\" points=\"110.881,540.556 129.779,540.556 \"/>\n",
       "<polyline clip-path=\"url(#clip760)\" style=\"stroke:#000000; stroke-linecap:round; stroke-linejoin:round; stroke-width:4; stroke-opacity:1; fill:none\" points=\"110.881,87.9763 129.779,87.9763 \"/>\n",
       "<path clip-path=\"url(#clip760)\" d=\"M62.9365 1431.51 Q59.3254 1431.51 57.4967 1435.08 Q55.6912 1438.62 55.6912 1445.75 Q55.6912 1452.86 57.4967 1456.42 Q59.3254 1459.96 62.9365 1459.96 Q66.5707 1459.96 68.3763 1456.42 Q70.205 1452.86 70.205 1445.75 Q70.205 1438.62 68.3763 1435.08 Q66.5707 1431.51 62.9365 1431.51 M62.9365 1427.81 Q68.7467 1427.81 71.8022 1432.42 Q74.8809 1437 74.8809 1445.75 Q74.8809 1454.48 71.8022 1459.08 Q68.7467 1463.67 62.9365 1463.67 Q57.1264 1463.67 54.0477 1459.08 Q50.9921 1454.48 50.9921 1445.75 Q50.9921 1437 54.0477 1432.42 Q57.1264 1427.81 62.9365 1427.81 Z\" fill=\"#000000\" fill-rule=\"evenodd\" fill-opacity=\"1\" /><path clip-path=\"url(#clip760)\" d=\"M54.9736 1006.48 L62.6124 1006.48 L62.6124 980.115 L54.3023 981.782 L54.3023 977.523 L62.5661 975.856 L67.242 975.856 L67.242 1006.48 L74.8809 1006.48 L74.8809 1010.42 L54.9736 1010.42 L54.9736 1006.48 Z\" fill=\"#000000\" fill-rule=\"evenodd\" fill-opacity=\"1\" /><path clip-path=\"url(#clip760)\" d=\"M58.5615 553.901 L74.8809 553.901 L74.8809 557.836 L52.9366 557.836 L52.9366 553.901 Q55.5986 551.146 60.1819 546.517 Q64.7883 541.864 65.9689 540.521 Q68.2143 537.998 69.0939 536.262 Q69.9967 534.503 69.9967 532.813 Q69.9967 530.058 68.0522 528.322 Q66.1309 526.586 63.0291 526.586 Q60.83 526.586 58.3763 527.35 Q55.9458 528.114 53.168 529.665 L53.168 524.943 Q55.9921 523.808 58.4458 523.23 Q60.8995 522.651 62.9365 522.651 Q68.3068 522.651 71.5013 525.336 Q74.6957 528.021 74.6957 532.512 Q74.6957 534.642 73.8855 536.563 Q73.0985 538.461 70.992 541.054 Q70.4133 541.725 67.3115 544.943 Q64.2096 548.137 58.5615 553.901 Z\" fill=\"#000000\" fill-rule=\"evenodd\" fill-opacity=\"1\" /><path clip-path=\"url(#clip760)\" d=\"M67.7513 86.6221 Q71.1078 87.3397 72.9827 89.6082 Q74.8809 91.8767 74.8809 95.21 Q74.8809 100.326 71.3624 103.127 Q67.8439 105.928 61.3624 105.928 Q59.1865 105.928 56.8717 105.488 Q54.5801 105.071 52.1264 104.215 L52.1264 99.7008 Q54.0708 100.835 56.3856 101.414 Q58.7004 101.992 61.2236 101.992 Q65.6217 101.992 67.9133 100.256 Q70.2281 98.5202 70.2281 95.21 Q70.2281 92.1545 68.0754 90.4415 Q65.9457 88.7054 62.1263 88.7054 L58.0986 88.7054 L58.0986 84.8629 L62.3115 84.8629 Q65.7606 84.8629 67.5893 83.4971 Q69.418 82.1083 69.418 79.5157 Q69.418 76.8537 67.5198 75.4416 Q65.6448 74.0064 62.1263 74.0064 Q60.205 74.0064 58.006 74.4231 Q55.8069 74.8398 53.168 75.7194 L53.168 71.5528 Q55.8301 70.812 58.1449 70.4416 Q60.4828 70.0713 62.543 70.0713 Q67.867 70.0713 70.9689 72.5018 Q74.0707 74.9092 74.0707 79.0296 Q74.0707 81.8999 72.4272 83.8907 Q70.7837 85.8582 67.7513 86.6221 Z\" fill=\"#000000\" fill-rule=\"evenodd\" fill-opacity=\"1\" /><polyline clip-path=\"url(#clip762)\" style=\"stroke:#009af9; stroke-linecap:round; stroke-linejoin:round; stroke-width:4; stroke-opacity:1; fill:none\" points=\"326.659,993.136 779.239,87.9763 \"/>\n",
       "<polyline clip-path=\"url(#clip762)\" style=\"stroke:#e26f46; stroke-linecap:round; stroke-linejoin:round; stroke-width:4; stroke-opacity:1; fill:none\" points=\"779.239,540.556 2136.98,1445.72 \"/>\n",
       "<path clip-path=\"url(#clip760)\" d=\"M2001.41 250.738 L2278.03 250.738 L2278.03 95.2176 L2001.41 95.2176  Z\" fill=\"#ffffff\" fill-rule=\"evenodd\" fill-opacity=\"1\"/>\n",
       "<polyline clip-path=\"url(#clip760)\" style=\"stroke:#000000; stroke-linecap:round; stroke-linejoin:round; stroke-width:4; stroke-opacity:1; fill:none\" points=\"2001.41,250.738 2278.03,250.738 2278.03,95.2176 2001.41,95.2176 2001.41,250.738 \"/>\n",
       "<polyline clip-path=\"url(#clip760)\" style=\"stroke:#009af9; stroke-linecap:round; stroke-linejoin:round; stroke-width:4; stroke-opacity:1; fill:none\" points=\"2026.32,147.058 2175.78,147.058 \"/>\n",
       "<path clip-path=\"url(#clip760)\" d=\"M2214.53 166.745 Q2212.72 171.375 2211.01 172.787 Q2209.3 174.199 2206.43 174.199 L2203.02 174.199 L2203.02 170.634 L2205.52 170.634 Q2207.28 170.634 2208.26 169.8 Q2209.23 168.967 2210.41 165.865 L2211.17 163.921 L2200.69 138.412 L2205.2 138.412 L2213.3 158.689 L2221.4 138.412 L2225.92 138.412 L2214.53 166.745 Z\" fill=\"#000000\" fill-rule=\"evenodd\" fill-opacity=\"1\" /><path clip-path=\"url(#clip760)\" d=\"M2233.21 160.402 L2240.85 160.402 L2240.85 134.037 L2232.54 135.703 L2232.54 131.444 L2240.8 129.778 L2245.48 129.778 L2245.48 160.402 L2253.12 160.402 L2253.12 164.338 L2233.21 164.338 L2233.21 160.402 Z\" fill=\"#000000\" fill-rule=\"evenodd\" fill-opacity=\"1\" /><polyline clip-path=\"url(#clip760)\" style=\"stroke:#e26f46; stroke-linecap:round; stroke-linejoin:round; stroke-width:4; stroke-opacity:1; fill:none\" points=\"2026.32,198.898 2175.78,198.898 \"/>\n",
       "<path clip-path=\"url(#clip760)\" d=\"M2214.53 218.585 Q2212.72 223.215 2211.01 224.627 Q2209.3 226.039 2206.43 226.039 L2203.02 226.039 L2203.02 222.474 L2205.52 222.474 Q2207.28 222.474 2208.26 221.64 Q2209.23 220.807 2210.41 217.705 L2211.17 215.761 L2200.69 190.252 L2205.2 190.252 L2213.3 210.529 L2221.4 190.252 L2225.92 190.252 L2214.53 218.585 Z\" fill=\"#000000\" fill-rule=\"evenodd\" fill-opacity=\"1\" /><path clip-path=\"url(#clip760)\" d=\"M2236.43 212.242 L2252.75 212.242 L2252.75 216.178 L2230.8 216.178 L2230.8 212.242 Q2233.46 209.488 2238.05 204.858 Q2242.65 200.205 2243.83 198.863 Q2246.08 196.34 2246.96 194.604 Q2247.86 192.844 2247.86 191.155 Q2247.86 188.4 2245.92 186.664 Q2244 184.928 2240.89 184.928 Q2238.7 184.928 2236.24 185.692 Q2233.81 186.455 2231.03 188.006 L2231.03 183.284 Q2233.86 182.15 2236.31 181.571 Q2238.77 180.993 2240.8 180.993 Q2246.17 180.993 2249.37 183.678 Q2252.56 186.363 2252.56 190.854 Q2252.56 192.983 2251.75 194.905 Q2250.96 196.803 2248.86 199.395 Q2248.28 200.067 2245.18 203.284 Q2242.08 206.479 2236.43 212.242 Z\" fill=\"#000000\" fill-rule=\"evenodd\" fill-opacity=\"1\" /></svg>\n"
      ]
     },
     "execution_count": null,
     "metadata": {},
     "output_type": "execute_result"
    }
   ],
   "source": [
    "point = intersect_geometry(seg1, seg2)\n",
    "\n",
    "plot([seg1[1][1], seg1[2][1]], [seg1[1][2], seg1[2][2]], aspectratio=:equal)\n",
    "plot!([seg2[1][1], seg2[2][1]], [seg2[1][2], seg2[2][2]])\n",
    "if !isnothing(point)\n",
    "    scatter!([point[1]], [point[2]])\n",
    "end\n",
    "plot!()"
   ]
  },
  {
   "cell_type": "code",
   "execution_count": null,
   "id": "b78daa62",
   "metadata": {},
   "outputs": [
    {
     "data": {
      "image/svg+xml": [
       "<?xml version=\"1.0\" encoding=\"utf-8\"?>\n",
       "<svg xmlns=\"http://www.w3.org/2000/svg\" xmlns:xlink=\"http://www.w3.org/1999/xlink\" width=\"600\" height=\"400\" viewBox=\"0 0 2400 1600\">\n",
       "<defs>\n",
       "  <clipPath id=\"clip800\">\n",
       "    <rect x=\"0\" y=\"0\" width=\"2400\" height=\"1600\"/>\n",
       "  </clipPath>\n",
       "</defs>\n",
       "<path clip-path=\"url(#clip800)\" d=\"M0 1600 L2400 1600 L2400 0 L0 0  Z\" fill=\"#ffffff\" fill-rule=\"evenodd\" fill-opacity=\"1\"/>\n",
       "<defs>\n",
       "  <clipPath id=\"clip801\">\n",
       "    <rect x=\"480\" y=\"0\" width=\"1681\" height=\"1600\"/>\n",
       "  </clipPath>\n",
       "</defs>\n",
       "<path clip-path=\"url(#clip800)\" d=\"M178.867 1486.45 L2352.76 1486.45 L2352.76 47.2441 L178.867 47.2441  Z\" fill=\"#ffffff\" fill-rule=\"evenodd\" fill-opacity=\"1\"/>\n",
       "<defs>\n",
       "  <clipPath id=\"clip802\">\n",
       "    <rect x=\"178\" y=\"47\" width=\"2175\" height=\"1440\"/>\n",
       "  </clipPath>\n",
       "</defs>\n",
       "<polyline clip-path=\"url(#clip802)\" style=\"stroke:#000000; stroke-linecap:round; stroke-linejoin:round; stroke-width:2; stroke-opacity:0.1; fill:none\" points=\"247.507,1486.45 247.507,47.2441 \"/>\n",
       "<polyline clip-path=\"url(#clip802)\" style=\"stroke:#000000; stroke-linecap:round; stroke-linejoin:round; stroke-width:2; stroke-opacity:0.1; fill:none\" points=\"586.942,1486.45 586.942,47.2441 \"/>\n",
       "<polyline clip-path=\"url(#clip802)\" style=\"stroke:#000000; stroke-linecap:round; stroke-linejoin:round; stroke-width:2; stroke-opacity:0.1; fill:none\" points=\"926.376,1486.45 926.376,47.2441 \"/>\n",
       "<polyline clip-path=\"url(#clip802)\" style=\"stroke:#000000; stroke-linecap:round; stroke-linejoin:round; stroke-width:2; stroke-opacity:0.1; fill:none\" points=\"1265.81,1486.45 1265.81,47.2441 \"/>\n",
       "<polyline clip-path=\"url(#clip802)\" style=\"stroke:#000000; stroke-linecap:round; stroke-linejoin:round; stroke-width:2; stroke-opacity:0.1; fill:none\" points=\"1605.25,1486.45 1605.25,47.2441 \"/>\n",
       "<polyline clip-path=\"url(#clip802)\" style=\"stroke:#000000; stroke-linecap:round; stroke-linejoin:round; stroke-width:2; stroke-opacity:0.1; fill:none\" points=\"1944.68,1486.45 1944.68,47.2441 \"/>\n",
       "<polyline clip-path=\"url(#clip802)\" style=\"stroke:#000000; stroke-linecap:round; stroke-linejoin:round; stroke-width:2; stroke-opacity:0.1; fill:none\" points=\"2284.12,1486.45 2284.12,47.2441 \"/>\n",
       "<polyline clip-path=\"url(#clip800)\" style=\"stroke:#000000; stroke-linecap:round; stroke-linejoin:round; stroke-width:4; stroke-opacity:1; fill:none\" points=\"178.867,1486.45 2352.76,1486.45 \"/>\n",
       "<polyline clip-path=\"url(#clip800)\" style=\"stroke:#000000; stroke-linecap:round; stroke-linejoin:round; stroke-width:4; stroke-opacity:1; fill:none\" points=\"247.507,1486.45 247.507,1467.55 \"/>\n",
       "<polyline clip-path=\"url(#clip800)\" style=\"stroke:#000000; stroke-linecap:round; stroke-linejoin:round; stroke-width:4; stroke-opacity:1; fill:none\" points=\"586.942,1486.45 586.942,1467.55 \"/>\n",
       "<polyline clip-path=\"url(#clip800)\" style=\"stroke:#000000; stroke-linecap:round; stroke-linejoin:round; stroke-width:4; stroke-opacity:1; fill:none\" points=\"926.376,1486.45 926.376,1467.55 \"/>\n",
       "<polyline clip-path=\"url(#clip800)\" style=\"stroke:#000000; stroke-linecap:round; stroke-linejoin:round; stroke-width:4; stroke-opacity:1; fill:none\" points=\"1265.81,1486.45 1265.81,1467.55 \"/>\n",
       "<polyline clip-path=\"url(#clip800)\" style=\"stroke:#000000; stroke-linecap:round; stroke-linejoin:round; stroke-width:4; stroke-opacity:1; fill:none\" points=\"1605.25,1486.45 1605.25,1467.55 \"/>\n",
       "<polyline clip-path=\"url(#clip800)\" style=\"stroke:#000000; stroke-linecap:round; stroke-linejoin:round; stroke-width:4; stroke-opacity:1; fill:none\" points=\"1944.68,1486.45 1944.68,1467.55 \"/>\n",
       "<polyline clip-path=\"url(#clip800)\" style=\"stroke:#000000; stroke-linecap:round; stroke-linejoin:round; stroke-width:4; stroke-opacity:1; fill:none\" points=\"2284.12,1486.45 2284.12,1467.55 \"/>\n",
       "<path clip-path=\"url(#clip800)\" d=\"M202.067 1532.02 L231.743 1532.02 L231.743 1535.95 L202.067 1535.95 L202.067 1532.02 Z\" fill=\"#000000\" fill-rule=\"evenodd\" fill-opacity=\"1\" /><path clip-path=\"url(#clip800)\" d=\"M242.646 1544.91 L250.284 1544.91 L250.284 1518.55 L241.974 1520.21 L241.974 1515.95 L250.238 1514.29 L254.914 1514.29 L254.914 1544.91 L262.553 1544.91 L262.553 1548.85 L242.646 1548.85 L242.646 1544.91 Z\" fill=\"#000000\" fill-rule=\"evenodd\" fill-opacity=\"1\" /><path clip-path=\"url(#clip800)\" d=\"M272.044 1514.29 L290.4 1514.29 L290.4 1518.22 L276.326 1518.22 L276.326 1526.7 Q277.345 1526.35 278.363 1526.19 Q279.382 1526 280.4 1526 Q286.187 1526 289.567 1529.17 Q292.946 1532.34 292.946 1537.76 Q292.946 1543.34 289.474 1546.44 Q286.002 1549.52 279.682 1549.52 Q277.507 1549.52 275.238 1549.15 Q272.993 1548.78 270.585 1548.04 L270.585 1543.34 Q272.669 1544.47 274.891 1545.03 Q277.113 1545.58 279.59 1545.58 Q283.594 1545.58 285.932 1543.48 Q288.27 1541.37 288.27 1537.76 Q288.27 1534.15 285.932 1532.04 Q283.594 1529.94 279.59 1529.94 Q277.715 1529.94 275.84 1530.35 Q273.988 1530.77 272.044 1531.65 L272.044 1514.29 Z\" fill=\"#000000\" fill-rule=\"evenodd\" fill-opacity=\"1\" /><path clip-path=\"url(#clip800)\" d=\"M541.004 1532.02 L570.68 1532.02 L570.68 1535.95 L541.004 1535.95 L541.004 1532.02 Z\" fill=\"#000000\" fill-rule=\"evenodd\" fill-opacity=\"1\" /><path clip-path=\"url(#clip800)\" d=\"M581.583 1544.91 L589.222 1544.91 L589.222 1518.55 L580.912 1520.21 L580.912 1515.95 L589.175 1514.29 L593.851 1514.29 L593.851 1544.91 L601.49 1544.91 L601.49 1548.85 L581.583 1548.85 L581.583 1544.91 Z\" fill=\"#000000\" fill-rule=\"evenodd\" fill-opacity=\"1\" /><path clip-path=\"url(#clip800)\" d=\"M620.934 1517.37 Q617.323 1517.37 615.495 1520.93 Q613.689 1524.47 613.689 1531.6 Q613.689 1538.71 615.495 1542.27 Q617.323 1545.82 620.934 1545.82 Q624.569 1545.82 626.374 1542.27 Q628.203 1538.71 628.203 1531.6 Q628.203 1524.47 626.374 1520.93 Q624.569 1517.37 620.934 1517.37 M620.934 1513.66 Q626.745 1513.66 629.8 1518.27 Q632.879 1522.85 632.879 1531.6 Q632.879 1540.33 629.8 1544.94 Q626.745 1549.52 620.934 1549.52 Q615.124 1549.52 612.046 1544.94 Q608.99 1540.33 608.99 1531.6 Q608.99 1522.85 612.046 1518.27 Q615.124 1513.66 620.934 1513.66 Z\" fill=\"#000000\" fill-rule=\"evenodd\" fill-opacity=\"1\" /><path clip-path=\"url(#clip800)\" d=\"M896.018 1532.02 L925.694 1532.02 L925.694 1535.95 L896.018 1535.95 L896.018 1532.02 Z\" fill=\"#000000\" fill-rule=\"evenodd\" fill-opacity=\"1\" /><path clip-path=\"url(#clip800)\" d=\"M935.832 1514.29 L954.189 1514.29 L954.189 1518.22 L940.115 1518.22 L940.115 1526.7 Q941.133 1526.35 942.152 1526.19 Q943.17 1526 944.189 1526 Q949.976 1526 953.355 1529.17 Q956.735 1532.34 956.735 1537.76 Q956.735 1543.34 953.263 1546.44 Q949.791 1549.52 943.471 1549.52 Q941.295 1549.52 939.027 1549.15 Q936.781 1548.78 934.374 1548.04 L934.374 1543.34 Q936.457 1544.47 938.68 1545.03 Q940.902 1545.58 943.379 1545.58 Q947.383 1545.58 949.721 1543.48 Q952.059 1541.37 952.059 1537.76 Q952.059 1534.15 949.721 1532.04 Q947.383 1529.94 943.379 1529.94 Q941.504 1529.94 939.629 1530.35 Q937.777 1530.77 935.832 1531.65 L935.832 1514.29 Z\" fill=\"#000000\" fill-rule=\"evenodd\" fill-opacity=\"1\" /><path clip-path=\"url(#clip800)\" d=\"M1265.81 1517.37 Q1262.2 1517.37 1260.37 1520.93 Q1258.57 1524.47 1258.57 1531.6 Q1258.57 1538.71 1260.37 1542.27 Q1262.2 1545.82 1265.81 1545.82 Q1269.45 1545.82 1271.25 1542.27 Q1273.08 1538.71 1273.08 1531.6 Q1273.08 1524.47 1271.25 1520.93 Q1269.45 1517.37 1265.81 1517.37 M1265.81 1513.66 Q1271.62 1513.66 1274.68 1518.27 Q1277.76 1522.85 1277.76 1531.6 Q1277.76 1540.33 1274.68 1544.94 Q1271.62 1549.52 1265.81 1549.52 Q1260 1549.52 1256.92 1544.94 Q1253.87 1540.33 1253.87 1531.6 Q1253.87 1522.85 1256.92 1518.27 Q1260 1513.66 1265.81 1513.66 Z\" fill=\"#000000\" fill-rule=\"evenodd\" fill-opacity=\"1\" /><path clip-path=\"url(#clip800)\" d=\"M1595.52 1514.29 L1613.88 1514.29 L1613.88 1518.22 L1599.81 1518.22 L1599.81 1526.7 Q1600.82 1526.35 1601.84 1526.19 Q1602.86 1526 1603.88 1526 Q1609.67 1526 1613.05 1529.17 Q1616.43 1532.34 1616.43 1537.76 Q1616.43 1543.34 1612.95 1546.44 Q1609.48 1549.52 1603.16 1549.52 Q1600.99 1549.52 1598.72 1549.15 Q1596.47 1548.78 1594.07 1548.04 L1594.07 1543.34 Q1596.15 1544.47 1598.37 1545.03 Q1600.59 1545.58 1603.07 1545.58 Q1607.07 1545.58 1609.41 1543.48 Q1611.75 1541.37 1611.75 1537.76 Q1611.75 1534.15 1609.41 1532.04 Q1607.07 1529.94 1603.07 1529.94 Q1601.2 1529.94 1599.32 1530.35 Q1597.47 1530.77 1595.52 1531.65 L1595.52 1514.29 Z\" fill=\"#000000\" fill-rule=\"evenodd\" fill-opacity=\"1\" /><path clip-path=\"url(#clip800)\" d=\"M1919.37 1544.91 L1927.01 1544.91 L1927.01 1518.55 L1918.7 1520.21 L1918.7 1515.95 L1926.96 1514.29 L1931.64 1514.29 L1931.64 1544.91 L1939.28 1544.91 L1939.28 1548.85 L1919.37 1548.85 L1919.37 1544.91 Z\" fill=\"#000000\" fill-rule=\"evenodd\" fill-opacity=\"1\" /><path clip-path=\"url(#clip800)\" d=\"M1958.72 1517.37 Q1955.11 1517.37 1953.28 1520.93 Q1951.47 1524.47 1951.47 1531.6 Q1951.47 1538.71 1953.28 1542.27 Q1955.11 1545.82 1958.72 1545.82 Q1962.35 1545.82 1964.16 1542.27 Q1965.99 1538.71 1965.99 1531.6 Q1965.99 1524.47 1964.16 1520.93 Q1962.35 1517.37 1958.72 1517.37 M1958.72 1513.66 Q1964.53 1513.66 1967.59 1518.27 Q1970.66 1522.85 1970.66 1531.6 Q1970.66 1540.33 1967.59 1544.94 Q1964.53 1549.52 1958.72 1549.52 Q1952.91 1549.52 1949.83 1544.94 Q1946.78 1540.33 1946.78 1531.6 Q1946.78 1522.85 1949.83 1518.27 Q1952.91 1513.66 1958.72 1513.66 Z\" fill=\"#000000\" fill-rule=\"evenodd\" fill-opacity=\"1\" /><path clip-path=\"url(#clip800)\" d=\"M2259.3 1544.91 L2266.94 1544.91 L2266.94 1518.55 L2258.63 1520.21 L2258.63 1515.95 L2266.89 1514.29 L2271.57 1514.29 L2271.57 1544.91 L2279.21 1544.91 L2279.21 1548.85 L2259.3 1548.85 L2259.3 1544.91 Z\" fill=\"#000000\" fill-rule=\"evenodd\" fill-opacity=\"1\" /><path clip-path=\"url(#clip800)\" d=\"M2288.7 1514.29 L2307.06 1514.29 L2307.06 1518.22 L2292.98 1518.22 L2292.98 1526.7 Q2294 1526.35 2295.02 1526.19 Q2296.04 1526 2297.06 1526 Q2302.84 1526 2306.22 1529.17 Q2309.6 1532.34 2309.6 1537.76 Q2309.6 1543.34 2306.13 1546.44 Q2302.66 1549.52 2296.34 1549.52 Q2294.16 1549.52 2291.89 1549.15 Q2289.65 1548.78 2287.24 1548.04 L2287.24 1543.34 Q2289.32 1544.47 2291.55 1545.03 Q2293.77 1545.58 2296.25 1545.58 Q2300.25 1545.58 2302.59 1543.48 Q2304.93 1541.37 2304.93 1537.76 Q2304.93 1534.15 2302.59 1532.04 Q2300.25 1529.94 2296.25 1529.94 Q2294.37 1529.94 2292.5 1530.35 Q2290.64 1530.77 2288.7 1531.65 L2288.7 1514.29 Z\" fill=\"#000000\" fill-rule=\"evenodd\" fill-opacity=\"1\" /><polyline clip-path=\"url(#clip802)\" style=\"stroke:#000000; stroke-linecap:round; stroke-linejoin:round; stroke-width:2; stroke-opacity:0.1; fill:none\" points=\"178.867,1377.83 2352.76,1377.83 \"/>\n",
       "<polyline clip-path=\"url(#clip802)\" style=\"stroke:#000000; stroke-linecap:round; stroke-linejoin:round; stroke-width:2; stroke-opacity:0.1; fill:none\" points=\"178.867,1038.39 2352.76,1038.39 \"/>\n",
       "<polyline clip-path=\"url(#clip802)\" style=\"stroke:#000000; stroke-linecap:round; stroke-linejoin:round; stroke-width:2; stroke-opacity:0.1; fill:none\" points=\"178.867,698.959 2352.76,698.959 \"/>\n",
       "<polyline clip-path=\"url(#clip802)\" style=\"stroke:#000000; stroke-linecap:round; stroke-linejoin:round; stroke-width:2; stroke-opacity:0.1; fill:none\" points=\"178.867,359.524 2352.76,359.524 \"/>\n",
       "<polyline clip-path=\"url(#clip800)\" style=\"stroke:#000000; stroke-linecap:round; stroke-linejoin:round; stroke-width:4; stroke-opacity:1; fill:none\" points=\"178.867,1486.45 178.867,47.2441 \"/>\n",
       "<polyline clip-path=\"url(#clip800)\" style=\"stroke:#000000; stroke-linecap:round; stroke-linejoin:round; stroke-width:4; stroke-opacity:1; fill:none\" points=\"178.867,1377.83 197.764,1377.83 \"/>\n",
       "<polyline clip-path=\"url(#clip800)\" style=\"stroke:#000000; stroke-linecap:round; stroke-linejoin:round; stroke-width:4; stroke-opacity:1; fill:none\" points=\"178.867,1038.39 197.764,1038.39 \"/>\n",
       "<polyline clip-path=\"url(#clip800)\" style=\"stroke:#000000; stroke-linecap:round; stroke-linejoin:round; stroke-width:4; stroke-opacity:1; fill:none\" points=\"178.867,698.959 197.764,698.959 \"/>\n",
       "<polyline clip-path=\"url(#clip800)\" style=\"stroke:#000000; stroke-linecap:round; stroke-linejoin:round; stroke-width:4; stroke-opacity:1; fill:none\" points=\"178.867,359.524 197.764,359.524 \"/>\n",
       "<path clip-path=\"url(#clip800)\" d=\"M50.9921 1378.28 L80.6679 1378.28 L80.6679 1382.22 L50.9921 1382.22 L50.9921 1378.28 Z\" fill=\"#000000\" fill-rule=\"evenodd\" fill-opacity=\"1\" /><path clip-path=\"url(#clip800)\" d=\"M91.5706 1391.17 L99.2095 1391.17 L99.2095 1364.81 L90.8993 1366.47 L90.8993 1362.22 L99.1632 1360.55 L103.839 1360.55 L103.839 1391.17 L111.478 1391.17 L111.478 1395.11 L91.5706 1395.11 L91.5706 1391.17 Z\" fill=\"#000000\" fill-rule=\"evenodd\" fill-opacity=\"1\" /><path clip-path=\"url(#clip800)\" d=\"M130.922 1363.63 Q127.311 1363.63 125.482 1367.19 Q123.677 1370.73 123.677 1377.86 Q123.677 1384.97 125.482 1388.53 Q127.311 1392.08 130.922 1392.08 Q134.556 1392.08 136.362 1388.53 Q138.191 1384.97 138.191 1377.86 Q138.191 1370.73 136.362 1367.19 Q134.556 1363.63 130.922 1363.63 M130.922 1359.92 Q136.732 1359.92 139.788 1364.53 Q142.867 1369.11 142.867 1377.86 Q142.867 1386.59 139.788 1391.2 Q136.732 1395.78 130.922 1395.78 Q125.112 1395.78 122.033 1391.2 Q118.978 1386.59 118.978 1377.86 Q118.978 1369.11 122.033 1364.53 Q125.112 1359.92 130.922 1359.92 Z\" fill=\"#000000\" fill-rule=\"evenodd\" fill-opacity=\"1\" /><path clip-path=\"url(#clip800)\" d=\"M82.1494 1038.85 L111.825 1038.85 L111.825 1042.78 L82.1494 1042.78 L82.1494 1038.85 Z\" fill=\"#000000\" fill-rule=\"evenodd\" fill-opacity=\"1\" /><path clip-path=\"url(#clip800)\" d=\"M121.964 1021.11 L140.32 1021.11 L140.32 1025.05 L126.246 1025.05 L126.246 1033.52 Q127.265 1033.17 128.283 1033.01 Q129.302 1032.83 130.32 1032.83 Q136.107 1032.83 139.487 1036 Q142.867 1039.17 142.867 1044.59 Q142.867 1050.16 139.394 1053.27 Q135.922 1056.35 129.603 1056.35 Q127.427 1056.35 125.158 1055.97 Q122.913 1055.6 120.506 1054.86 L120.506 1050.16 Q122.589 1051.3 124.811 1051.85 Q127.033 1052.41 129.51 1052.41 Q133.515 1052.41 135.853 1050.3 Q138.191 1048.2 138.191 1044.59 Q138.191 1040.97 135.853 1038.87 Q133.515 1036.76 129.51 1036.76 Q127.635 1036.76 125.76 1037.18 Q123.908 1037.6 121.964 1038.47 L121.964 1021.11 Z\" fill=\"#000000\" fill-rule=\"evenodd\" fill-opacity=\"1\" /><path clip-path=\"url(#clip800)\" d=\"M130.922 684.758 Q127.311 684.758 125.482 688.322 Q123.677 691.864 123.677 698.994 Q123.677 706.1 125.482 709.665 Q127.311 713.207 130.922 713.207 Q134.556 713.207 136.362 709.665 Q138.191 706.1 138.191 698.994 Q138.191 691.864 136.362 688.322 Q134.556 684.758 130.922 684.758 M130.922 681.054 Q136.732 681.054 139.788 685.66 Q142.867 690.244 142.867 698.994 Q142.867 707.721 139.788 712.327 Q136.732 716.91 130.922 716.91 Q125.112 716.91 122.033 712.327 Q118.978 707.721 118.978 698.994 Q118.978 690.244 122.033 685.66 Q125.112 681.054 130.922 681.054 Z\" fill=\"#000000\" fill-rule=\"evenodd\" fill-opacity=\"1\" /><path clip-path=\"url(#clip800)\" d=\"M121.964 342.244 L140.32 342.244 L140.32 346.179 L126.246 346.179 L126.246 354.652 Q127.265 354.304 128.283 354.142 Q129.302 353.957 130.32 353.957 Q136.107 353.957 139.487 357.128 Q142.867 360.3 142.867 365.716 Q142.867 371.295 139.394 374.397 Q135.922 377.475 129.603 377.475 Q127.427 377.475 125.158 377.105 Q122.913 376.735 120.506 375.994 L120.506 371.295 Q122.589 372.429 124.811 372.985 Q127.033 373.54 129.51 373.54 Q133.515 373.54 135.853 371.434 Q138.191 369.327 138.191 365.716 Q138.191 362.105 135.853 359.999 Q133.515 357.892 129.51 357.892 Q127.635 357.892 125.76 358.309 Q123.908 358.726 121.964 359.605 L121.964 342.244 Z\" fill=\"#000000\" fill-rule=\"evenodd\" fill-opacity=\"1\" /><polyline clip-path=\"url(#clip802)\" style=\"stroke:#009af9; stroke-linecap:round; stroke-linejoin:round; stroke-width:4; stroke-opacity:1; fill:none\" points=\"926.376,1445.72 994.263,1309.94 1062.15,1174.17 1130.04,1038.39 1197.92,902.62 1265.81,766.846 1333.7,631.072 1401.59,495.298 1469.47,359.524 1537.36,223.75 1605.25,87.9763 \"/>\n",
       "<line clip-path=\"url(#clip802)\" x1=\"1333.7\" y1=\"631.072\" x2=\"1333.7\" y2=\"615.072\" style=\"stroke:#009af9; stroke-width:3.2; stroke-opacity:1\"/>\n",
       "<line clip-path=\"url(#clip802)\" x1=\"1333.7\" y1=\"631.072\" x2=\"1317.7\" y2=\"631.072\" style=\"stroke:#009af9; stroke-width:3.2; stroke-opacity:1\"/>\n",
       "<line clip-path=\"url(#clip802)\" x1=\"1333.7\" y1=\"631.072\" x2=\"1333.7\" y2=\"647.072\" style=\"stroke:#009af9; stroke-width:3.2; stroke-opacity:1\"/>\n",
       "<line clip-path=\"url(#clip802)\" x1=\"1333.7\" y1=\"631.072\" x2=\"1349.7\" y2=\"631.072\" style=\"stroke:#009af9; stroke-width:3.2; stroke-opacity:1\"/>\n",
       "<line clip-path=\"url(#clip802)\" x1=\"1401.59\" y1=\"495.298\" x2=\"1401.59\" y2=\"479.298\" style=\"stroke:#009af9; stroke-width:3.2; stroke-opacity:1\"/>\n",
       "<line clip-path=\"url(#clip802)\" x1=\"1401.59\" y1=\"495.298\" x2=\"1385.59\" y2=\"495.298\" style=\"stroke:#009af9; stroke-width:3.2; stroke-opacity:1\"/>\n",
       "<line clip-path=\"url(#clip802)\" x1=\"1401.59\" y1=\"495.298\" x2=\"1401.59\" y2=\"511.298\" style=\"stroke:#009af9; stroke-width:3.2; stroke-opacity:1\"/>\n",
       "<line clip-path=\"url(#clip802)\" x1=\"1401.59\" y1=\"495.298\" x2=\"1417.59\" y2=\"495.298\" style=\"stroke:#009af9; stroke-width:3.2; stroke-opacity:1\"/>\n",
       "<polyline clip-path=\"url(#clip802)\" style=\"stroke:#e26f46; stroke-linecap:round; stroke-linejoin:round; stroke-width:4; stroke-opacity:1; fill:none\" points=\"926.376,246.379 994.263,291.637 1062.15,336.895 1130.04,382.153 1197.92,427.411 1265.81,472.669 1333.7,517.927 1401.59,563.185 1469.47,608.443 1537.36,653.701 1605.25,698.959 \"/>\n",
       "<line clip-path=\"url(#clip802)\" x1=\"1401.59\" y1=\"563.185\" x2=\"1401.59\" y2=\"547.185\" style=\"stroke:#e26f46; stroke-width:3.2; stroke-opacity:1\"/>\n",
       "<line clip-path=\"url(#clip802)\" x1=\"1401.59\" y1=\"563.185\" x2=\"1385.59\" y2=\"563.185\" style=\"stroke:#e26f46; stroke-width:3.2; stroke-opacity:1\"/>\n",
       "<line clip-path=\"url(#clip802)\" x1=\"1401.59\" y1=\"563.185\" x2=\"1401.59\" y2=\"579.185\" style=\"stroke:#e26f46; stroke-width:3.2; stroke-opacity:1\"/>\n",
       "<line clip-path=\"url(#clip802)\" x1=\"1401.59\" y1=\"563.185\" x2=\"1417.59\" y2=\"563.185\" style=\"stroke:#e26f46; stroke-width:3.2; stroke-opacity:1\"/>\n",
       "<line clip-path=\"url(#clip802)\" x1=\"1605.25\" y1=\"698.959\" x2=\"1605.25\" y2=\"682.959\" style=\"stroke:#e26f46; stroke-width:3.2; stroke-opacity:1\"/>\n",
       "<line clip-path=\"url(#clip802)\" x1=\"1605.25\" y1=\"698.959\" x2=\"1589.25\" y2=\"698.959\" style=\"stroke:#e26f46; stroke-width:3.2; stroke-opacity:1\"/>\n",
       "<line clip-path=\"url(#clip802)\" x1=\"1605.25\" y1=\"698.959\" x2=\"1605.25\" y2=\"714.959\" style=\"stroke:#e26f46; stroke-width:3.2; stroke-opacity:1\"/>\n",
       "<line clip-path=\"url(#clip802)\" x1=\"1605.25\" y1=\"698.959\" x2=\"1621.25\" y2=\"698.959\" style=\"stroke:#e26f46; stroke-width:3.2; stroke-opacity:1\"/>\n",
       "<circle clip-path=\"url(#clip802)\" cx=\"1376.13\" cy=\"546.213\" r=\"14.4\" fill=\"#3da44d\" fill-rule=\"evenodd\" fill-opacity=\"1\" stroke=\"#000000\" stroke-opacity=\"1\" stroke-width=\"3.2\"/>\n",
       "<path clip-path=\"url(#clip800)\" d=\"M2008.76 406.258 L2280.29 406.258 L2280.29 95.2176 L2008.76 95.2176  Z\" fill=\"#ffffff\" fill-rule=\"evenodd\" fill-opacity=\"1\"/>\n",
       "<polyline clip-path=\"url(#clip800)\" style=\"stroke:#000000; stroke-linecap:round; stroke-linejoin:round; stroke-width:4; stroke-opacity:1; fill:none\" points=\"2008.76,406.258 2280.29,406.258 2280.29,95.2176 2008.76,95.2176 2008.76,406.258 \"/>\n",
       "<polyline clip-path=\"url(#clip800)\" style=\"stroke:#009af9; stroke-linecap:round; stroke-linejoin:round; stroke-width:4; stroke-opacity:1; fill:none\" points=\"2032.92,147.058 2177.84,147.058 \"/>\n",
       "<path clip-path=\"url(#clip800)\" d=\"M2215.84 166.745 Q2214.03 171.375 2212.32 172.787 Q2210.61 174.199 2207.74 174.199 L2204.33 174.199 L2204.33 170.634 L2206.83 170.634 Q2208.59 170.634 2209.56 169.8 Q2210.54 168.967 2211.72 165.865 L2212.48 163.921 L2202 138.412 L2206.51 138.412 L2214.61 158.689 L2222.71 138.412 L2227.23 138.412 L2215.84 166.745 Z\" fill=\"#000000\" fill-rule=\"evenodd\" fill-opacity=\"1\" /><path clip-path=\"url(#clip800)\" d=\"M2234.52 160.402 L2242.16 160.402 L2242.16 134.037 L2233.85 135.703 L2233.85 131.444 L2242.11 129.778 L2246.79 129.778 L2246.79 160.402 L2254.43 160.402 L2254.43 164.338 L2234.52 164.338 L2234.52 160.402 Z\" fill=\"#000000\" fill-rule=\"evenodd\" fill-opacity=\"1\" /><line clip-path=\"url(#clip800)\" x1=\"2105.38\" y1=\"198.898\" x2=\"2105.38\" y2=\"173.298\" style=\"stroke:#009af9; stroke-width:5.12; stroke-opacity:1\"/>\n",
       "<line clip-path=\"url(#clip800)\" x1=\"2105.38\" y1=\"198.898\" x2=\"2079.78\" y2=\"198.898\" style=\"stroke:#009af9; stroke-width:5.12; stroke-opacity:1\"/>\n",
       "<line clip-path=\"url(#clip800)\" x1=\"2105.38\" y1=\"198.898\" x2=\"2105.38\" y2=\"224.498\" style=\"stroke:#009af9; stroke-width:5.12; stroke-opacity:1\"/>\n",
       "<line clip-path=\"url(#clip800)\" x1=\"2105.38\" y1=\"198.898\" x2=\"2130.98\" y2=\"198.898\" style=\"stroke:#009af9; stroke-width:5.12; stroke-opacity:1\"/>\n",
       "<path clip-path=\"url(#clip800)\" d=\"M2215.84 218.585 Q2214.03 223.215 2212.32 224.627 Q2210.61 226.039 2207.74 226.039 L2204.33 226.039 L2204.33 222.474 L2206.83 222.474 Q2208.59 222.474 2209.56 221.64 Q2210.54 220.807 2211.72 217.705 L2212.48 215.761 L2202 190.252 L2206.51 190.252 L2214.61 210.529 L2222.71 190.252 L2227.23 190.252 L2215.84 218.585 Z\" fill=\"#000000\" fill-rule=\"evenodd\" fill-opacity=\"1\" /><path clip-path=\"url(#clip800)\" d=\"M2237.74 212.242 L2254.06 212.242 L2254.06 216.178 L2232.11 216.178 L2232.11 212.242 Q2234.77 209.488 2239.36 204.858 Q2243.96 200.205 2245.14 198.863 Q2247.39 196.34 2248.27 194.604 Q2249.17 192.844 2249.17 191.155 Q2249.17 188.4 2247.23 186.664 Q2245.31 184.928 2242.2 184.928 Q2240 184.928 2237.55 185.692 Q2235.12 186.455 2232.34 188.006 L2232.34 183.284 Q2235.17 182.15 2237.62 181.571 Q2240.07 180.993 2242.11 180.993 Q2247.48 180.993 2250.68 183.678 Q2253.87 186.363 2253.87 190.854 Q2253.87 192.983 2253.06 194.905 Q2252.27 196.803 2250.17 199.395 Q2249.59 200.067 2246.49 203.284 Q2243.38 206.479 2237.74 212.242 Z\" fill=\"#000000\" fill-rule=\"evenodd\" fill-opacity=\"1\" /><polyline clip-path=\"url(#clip800)\" style=\"stroke:#e26f46; stroke-linecap:round; stroke-linejoin:round; stroke-width:4; stroke-opacity:1; fill:none\" points=\"2032.92,250.738 2177.84,250.738 \"/>\n",
       "<path clip-path=\"url(#clip800)\" d=\"M2215.84 270.425 Q2214.03 275.055 2212.32 276.467 Q2210.61 277.879 2207.74 277.879 L2204.33 277.879 L2204.33 274.314 L2206.83 274.314 Q2208.59 274.314 2209.56 273.48 Q2210.54 272.647 2211.72 269.545 L2212.48 267.601 L2202 242.092 L2206.51 242.092 L2214.61 262.369 L2222.71 242.092 L2227.23 242.092 L2215.84 270.425 Z\" fill=\"#000000\" fill-rule=\"evenodd\" fill-opacity=\"1\" /><path clip-path=\"url(#clip800)\" d=\"M2247.87 249.383 Q2251.23 250.101 2253.11 252.369 Q2255 254.638 2255 257.971 Q2255 263.087 2251.49 265.888 Q2247.97 268.689 2241.49 268.689 Q2239.31 268.689 2237 268.249 Q2234.7 267.832 2232.25 266.976 L2232.25 262.462 Q2234.19 263.596 2236.51 264.175 Q2238.82 264.754 2241.35 264.754 Q2245.75 264.754 2248.04 263.018 Q2250.35 261.281 2250.35 257.971 Q2250.35 254.916 2248.2 253.203 Q2246.07 251.467 2242.25 251.467 L2238.22 251.467 L2238.22 247.624 L2242.43 247.624 Q2245.88 247.624 2247.71 246.258 Q2249.54 244.87 2249.54 242.277 Q2249.54 239.615 2247.64 238.203 Q2245.77 236.768 2242.25 236.768 Q2240.33 236.768 2238.13 237.184 Q2235.93 237.601 2233.29 238.481 L2233.29 234.314 Q2235.95 233.573 2238.27 233.203 Q2240.61 232.833 2242.67 232.833 Q2247.99 232.833 2251.09 235.263 Q2254.19 237.67 2254.19 241.791 Q2254.19 244.661 2252.55 246.652 Q2250.91 248.62 2247.87 249.383 Z\" fill=\"#000000\" fill-rule=\"evenodd\" fill-opacity=\"1\" /><line clip-path=\"url(#clip800)\" x1=\"2105.38\" y1=\"302.578\" x2=\"2105.38\" y2=\"276.978\" style=\"stroke:#e26f46; stroke-width:5.12; stroke-opacity:1\"/>\n",
       "<line clip-path=\"url(#clip800)\" x1=\"2105.38\" y1=\"302.578\" x2=\"2079.78\" y2=\"302.578\" style=\"stroke:#e26f46; stroke-width:5.12; stroke-opacity:1\"/>\n",
       "<line clip-path=\"url(#clip800)\" x1=\"2105.38\" y1=\"302.578\" x2=\"2105.38\" y2=\"328.178\" style=\"stroke:#e26f46; stroke-width:5.12; stroke-opacity:1\"/>\n",
       "<line clip-path=\"url(#clip800)\" x1=\"2105.38\" y1=\"302.578\" x2=\"2130.98\" y2=\"302.578\" style=\"stroke:#e26f46; stroke-width:5.12; stroke-opacity:1\"/>\n",
       "<path clip-path=\"url(#clip800)\" d=\"M2215.84 322.265 Q2214.03 326.895 2212.32 328.307 Q2210.61 329.719 2207.74 329.719 L2204.33 329.719 L2204.33 326.154 L2206.83 326.154 Q2208.59 326.154 2209.56 325.32 Q2210.54 324.487 2211.72 321.385 L2212.48 319.441 L2202 293.932 L2206.51 293.932 L2214.61 314.209 L2222.71 293.932 L2227.23 293.932 L2215.84 322.265 Z\" fill=\"#000000\" fill-rule=\"evenodd\" fill-opacity=\"1\" /><path clip-path=\"url(#clip800)\" d=\"M2246.56 289.372 L2234.75 307.821 L2246.56 307.821 L2246.56 289.372 M2245.33 285.298 L2251.21 285.298 L2251.21 307.821 L2256.14 307.821 L2256.14 311.709 L2251.21 311.709 L2251.21 319.858 L2246.56 319.858 L2246.56 311.709 L2230.95 311.709 L2230.95 307.196 L2245.33 285.298 Z\" fill=\"#000000\" fill-rule=\"evenodd\" fill-opacity=\"1\" /><circle clip-path=\"url(#clip800)\" cx=\"2105.38\" cy=\"354.418\" r=\"23.04\" fill=\"#3da44d\" fill-rule=\"evenodd\" fill-opacity=\"1\" stroke=\"#000000\" stroke-opacity=\"1\" stroke-width=\"5.12\"/>\n",
       "<path clip-path=\"url(#clip800)\" d=\"M2215.84 374.105 Q2214.03 378.735 2212.32 380.147 Q2210.61 381.559 2207.74 381.559 L2204.33 381.559 L2204.33 377.994 L2206.83 377.994 Q2208.59 377.994 2209.56 377.16 Q2210.54 376.327 2211.72 373.225 L2212.48 371.281 L2202 345.772 L2206.51 345.772 L2214.61 366.049 L2222.71 345.772 L2227.23 345.772 L2215.84 374.105 Z\" fill=\"#000000\" fill-rule=\"evenodd\" fill-opacity=\"1\" /><path clip-path=\"url(#clip800)\" d=\"M2233.75 337.138 L2252.11 337.138 L2252.11 341.073 L2238.04 341.073 L2238.04 349.545 Q2239.06 349.198 2240.07 349.036 Q2241.09 348.85 2242.11 348.85 Q2247.9 348.85 2251.28 352.022 Q2254.66 355.193 2254.66 360.61 Q2254.66 366.188 2251.18 369.29 Q2247.71 372.369 2241.39 372.369 Q2239.22 372.369 2236.95 371.998 Q2234.7 371.628 2232.3 370.887 L2232.3 366.188 Q2234.38 367.323 2236.6 367.878 Q2238.82 368.434 2241.3 368.434 Q2245.31 368.434 2247.64 366.327 Q2249.98 364.221 2249.98 360.61 Q2249.98 356.999 2247.64 354.892 Q2245.31 352.786 2241.3 352.786 Q2239.43 352.786 2237.55 353.202 Q2235.7 353.619 2233.75 354.499 L2233.75 337.138 Z\" fill=\"#000000\" fill-rule=\"evenodd\" fill-opacity=\"1\" /></svg>\n"
      ]
     },
     "execution_count": null,
     "metadata": {},
     "output_type": "execute_result"
    }
   ],
   "source": [
    "line1 = PolygonAlgorithms.line_from_segment(seg1)\n",
    "line2 = PolygonAlgorithms.line_from_segment(seg2)\n",
    "point = intersect_geometry(line1, line2)\n",
    "\n",
    "colors = get_color_palette(:auto, 3)\n",
    "\n",
    "x = -5:1:5\n",
    "plot(x, (line1[3] .- line1[1] .* x) / line1[2], colour=colors[1], aspectratio=:equal)\n",
    "scatter!([seg1[1][1], seg1[2][1]], [seg1[1][2], seg1[2][2]], color=colors[1], marker=:cross)\n",
    "plot!(x, (line2[3] .- line2[1] .* x) / line2[2], color=colors[2])\n",
    "scatter!([seg2[1][1], seg2[2][1]], [seg2[1][2], seg2[2][2]], color=colors[2], marker=:cross)\n",
    "if !isnothing(point)\n",
    "    scatter!([point[1]], [point[2]], color=colors[3])\n",
    "end\n",
    "plot!()"
   ]
  },
  {
   "cell_type": "markdown",
   "id": "dee6286a",
   "metadata": {},
   "source": [
    "## Convex Polygons"
   ]
  },
  {
   "cell_type": "code",
   "execution_count": null,
   "id": "03bad550",
   "metadata": {},
   "outputs": [],
   "source": [
    "## star of david\n",
    "h = sqrt(3)\n",
    "poly1 = PolygonAlgorithms.translate([\n",
    "        (-1.0, 0.0), (0.0, h), (1.0, 0.0)\n",
    "        ], (0.0, -h/3)\n",
    ")\n",
    "poly2 = PolygonAlgorithms.translate([\n",
    "    (-1.0, 0.0), (0.0, -h), (1.0, 0.0)\n",
    "    ], (0.0, h/3)\n",
    ")\n",
    ";\n",
    "\n",
    "## random convex\n",
    "# t1 = 2π * rand(5)\n",
    "# t2 = 2π * rand(15)\n",
    "# a1, b1 = 2.0, 2.0\n",
    "# a2, b2 = 3.0, 1.0\n",
    "# poly1 = PolygonAlgorithms.sort_clockwise([(a1 * cos(t), b1 * sin(t)) for t in t1]);\n",
    "# poly2 = PolygonAlgorithms.sort_clockwise([(a2 * cos(t), b2 * sin(t)) for t in t2]);"
   ]
  },
  {
   "cell_type": "code",
   "execution_count": null,
   "id": "04e3a8f6",
   "metadata": {},
   "outputs": [
    {
     "data": {
      "image/svg+xml": [
       "<?xml version=\"1.0\" encoding=\"utf-8\"?>\n",
       "<svg xmlns=\"http://www.w3.org/2000/svg\" xmlns:xlink=\"http://www.w3.org/1999/xlink\" width=\"600\" height=\"400\" viewBox=\"0 0 2400 1600\">\n",
       "<defs>\n",
       "  <clipPath id=\"clip840\">\n",
       "    <rect x=\"0\" y=\"0\" width=\"2400\" height=\"1600\"/>\n",
       "  </clipPath>\n",
       "</defs>\n",
       "<path clip-path=\"url(#clip840)\" d=\"M0 1600 L2400 1600 L2400 0 L0 0  Z\" fill=\"#ffffff\" fill-rule=\"evenodd\" fill-opacity=\"1\"/>\n",
       "<defs>\n",
       "  <clipPath id=\"clip841\">\n",
       "    <rect x=\"480\" y=\"0\" width=\"1681\" height=\"1600\"/>\n",
       "  </clipPath>\n",
       "</defs>\n",
       "<path clip-path=\"url(#clip840)\" d=\"M193.936 1486.45 L2352.76 1486.45 L2352.76 47.2441 L193.936 47.2441  Z\" fill=\"#ffffff\" fill-rule=\"evenodd\" fill-opacity=\"1\"/>\n",
       "<defs>\n",
       "  <clipPath id=\"clip842\">\n",
       "    <rect x=\"193\" y=\"47\" width=\"2160\" height=\"1440\"/>\n",
       "  </clipPath>\n",
       "</defs>\n",
       "<polyline clip-path=\"url(#clip842)\" style=\"stroke:#000000; stroke-linecap:round; stroke-linejoin:round; stroke-width:2; stroke-opacity:0.1; fill:none\" points=\"391.468,1486.45 391.468,47.2441 \"/>\n",
       "<polyline clip-path=\"url(#clip842)\" style=\"stroke:#000000; stroke-linecap:round; stroke-linejoin:round; stroke-width:2; stroke-opacity:0.1; fill:none\" points=\"685.428,1486.45 685.428,47.2441 \"/>\n",
       "<polyline clip-path=\"url(#clip842)\" style=\"stroke:#000000; stroke-linecap:round; stroke-linejoin:round; stroke-width:2; stroke-opacity:0.1; fill:none\" points=\"979.387,1486.45 979.387,47.2441 \"/>\n",
       "<polyline clip-path=\"url(#clip842)\" style=\"stroke:#000000; stroke-linecap:round; stroke-linejoin:round; stroke-width:2; stroke-opacity:0.1; fill:none\" points=\"1273.35,1486.45 1273.35,47.2441 \"/>\n",
       "<polyline clip-path=\"url(#clip842)\" style=\"stroke:#000000; stroke-linecap:round; stroke-linejoin:round; stroke-width:2; stroke-opacity:0.1; fill:none\" points=\"1567.31,1486.45 1567.31,47.2441 \"/>\n",
       "<polyline clip-path=\"url(#clip842)\" style=\"stroke:#000000; stroke-linecap:round; stroke-linejoin:round; stroke-width:2; stroke-opacity:0.1; fill:none\" points=\"1861.26,1486.45 1861.26,47.2441 \"/>\n",
       "<polyline clip-path=\"url(#clip842)\" style=\"stroke:#000000; stroke-linecap:round; stroke-linejoin:round; stroke-width:2; stroke-opacity:0.1; fill:none\" points=\"2155.22,1486.45 2155.22,47.2441 \"/>\n",
       "<polyline clip-path=\"url(#clip840)\" style=\"stroke:#000000; stroke-linecap:round; stroke-linejoin:round; stroke-width:4; stroke-opacity:1; fill:none\" points=\"193.936,1486.45 2352.76,1486.45 \"/>\n",
       "<polyline clip-path=\"url(#clip840)\" style=\"stroke:#000000; stroke-linecap:round; stroke-linejoin:round; stroke-width:4; stroke-opacity:1; fill:none\" points=\"391.468,1486.45 391.468,1467.55 \"/>\n",
       "<polyline clip-path=\"url(#clip840)\" style=\"stroke:#000000; stroke-linecap:round; stroke-linejoin:round; stroke-width:4; stroke-opacity:1; fill:none\" points=\"685.428,1486.45 685.428,1467.55 \"/>\n",
       "<polyline clip-path=\"url(#clip840)\" style=\"stroke:#000000; stroke-linecap:round; stroke-linejoin:round; stroke-width:4; stroke-opacity:1; fill:none\" points=\"979.387,1486.45 979.387,1467.55 \"/>\n",
       "<polyline clip-path=\"url(#clip840)\" style=\"stroke:#000000; stroke-linecap:round; stroke-linejoin:round; stroke-width:4; stroke-opacity:1; fill:none\" points=\"1273.35,1486.45 1273.35,1467.55 \"/>\n",
       "<polyline clip-path=\"url(#clip840)\" style=\"stroke:#000000; stroke-linecap:round; stroke-linejoin:round; stroke-width:4; stroke-opacity:1; fill:none\" points=\"1567.31,1486.45 1567.31,1467.55 \"/>\n",
       "<polyline clip-path=\"url(#clip840)\" style=\"stroke:#000000; stroke-linecap:round; stroke-linejoin:round; stroke-width:4; stroke-opacity:1; fill:none\" points=\"1861.26,1486.45 1861.26,1467.55 \"/>\n",
       "<polyline clip-path=\"url(#clip840)\" style=\"stroke:#000000; stroke-linecap:round; stroke-linejoin:round; stroke-width:4; stroke-opacity:1; fill:none\" points=\"2155.22,1486.45 2155.22,1467.55 \"/>\n",
       "<path clip-path=\"url(#clip840)\" d=\"M338.494 1532.02 L368.17 1532.02 L368.17 1535.95 L338.494 1535.95 L338.494 1532.02 Z\" fill=\"#000000\" fill-rule=\"evenodd\" fill-opacity=\"1\" /><path clip-path=\"url(#clip840)\" d=\"M379.073 1544.91 L386.711 1544.91 L386.711 1518.55 L378.401 1520.21 L378.401 1515.95 L386.665 1514.29 L391.341 1514.29 L391.341 1544.91 L398.98 1544.91 L398.98 1548.85 L379.073 1548.85 L379.073 1544.91 Z\" fill=\"#000000\" fill-rule=\"evenodd\" fill-opacity=\"1\" /><path clip-path=\"url(#clip840)\" d=\"M408.424 1542.97 L413.308 1542.97 L413.308 1548.85 L408.424 1548.85 L408.424 1542.97 Z\" fill=\"#000000\" fill-rule=\"evenodd\" fill-opacity=\"1\" /><path clip-path=\"url(#clip840)\" d=\"M423.54 1514.29 L441.896 1514.29 L441.896 1518.22 L427.822 1518.22 L427.822 1526.7 Q428.841 1526.35 429.859 1526.19 Q430.878 1526 431.896 1526 Q437.683 1526 441.063 1529.17 Q444.443 1532.34 444.443 1537.76 Q444.443 1543.34 440.97 1546.44 Q437.498 1549.52 431.179 1549.52 Q429.003 1549.52 426.734 1549.15 Q424.489 1548.78 422.082 1548.04 L422.082 1543.34 Q424.165 1544.47 426.387 1545.03 Q428.609 1545.58 431.086 1545.58 Q435.091 1545.58 437.429 1543.48 Q439.767 1541.37 439.767 1537.76 Q439.767 1534.15 437.429 1532.04 Q435.091 1529.94 431.086 1529.94 Q429.211 1529.94 427.336 1530.35 Q425.484 1530.77 423.54 1531.65 L423.54 1514.29 Z\" fill=\"#000000\" fill-rule=\"evenodd\" fill-opacity=\"1\" /><path clip-path=\"url(#clip840)\" d=\"M631.956 1532.02 L661.631 1532.02 L661.631 1535.95 L631.956 1535.95 L631.956 1532.02 Z\" fill=\"#000000\" fill-rule=\"evenodd\" fill-opacity=\"1\" /><path clip-path=\"url(#clip840)\" d=\"M672.534 1544.91 L680.173 1544.91 L680.173 1518.55 L671.863 1520.21 L671.863 1515.95 L680.127 1514.29 L684.803 1514.29 L684.803 1544.91 L692.441 1544.91 L692.441 1548.85 L672.534 1548.85 L672.534 1544.91 Z\" fill=\"#000000\" fill-rule=\"evenodd\" fill-opacity=\"1\" /><path clip-path=\"url(#clip840)\" d=\"M701.886 1542.97 L706.77 1542.97 L706.77 1548.85 L701.886 1548.85 L701.886 1542.97 Z\" fill=\"#000000\" fill-rule=\"evenodd\" fill-opacity=\"1\" /><path clip-path=\"url(#clip840)\" d=\"M726.955 1517.37 Q723.344 1517.37 721.515 1520.93 Q719.71 1524.47 719.71 1531.6 Q719.71 1538.71 721.515 1542.27 Q723.344 1545.82 726.955 1545.82 Q730.589 1545.82 732.395 1542.27 Q734.224 1538.71 734.224 1531.6 Q734.224 1524.47 732.395 1520.93 Q730.589 1517.37 726.955 1517.37 M726.955 1513.66 Q732.765 1513.66 735.821 1518.27 Q738.899 1522.85 738.899 1531.6 Q738.899 1540.33 735.821 1544.94 Q732.765 1549.52 726.955 1549.52 Q721.145 1549.52 718.066 1544.94 Q715.011 1540.33 715.011 1531.6 Q715.011 1522.85 718.066 1518.27 Q721.145 1513.66 726.955 1513.66 Z\" fill=\"#000000\" fill-rule=\"evenodd\" fill-opacity=\"1\" /><path clip-path=\"url(#clip840)\" d=\"M926.412 1532.02 L956.088 1532.02 L956.088 1535.95 L926.412 1535.95 L926.412 1532.02 Z\" fill=\"#000000\" fill-rule=\"evenodd\" fill-opacity=\"1\" /><path clip-path=\"url(#clip840)\" d=\"M976.181 1517.37 Q972.57 1517.37 970.741 1520.93 Q968.935 1524.47 968.935 1531.6 Q968.935 1538.71 970.741 1542.27 Q972.57 1545.82 976.181 1545.82 Q979.815 1545.82 981.621 1542.27 Q983.449 1538.71 983.449 1531.6 Q983.449 1524.47 981.621 1520.93 Q979.815 1517.37 976.181 1517.37 M976.181 1513.66 Q981.991 1513.66 985.046 1518.27 Q988.125 1522.85 988.125 1531.6 Q988.125 1540.33 985.046 1544.94 Q981.991 1549.52 976.181 1549.52 Q970.371 1549.52 967.292 1544.94 Q964.236 1540.33 964.236 1531.6 Q964.236 1522.85 967.292 1518.27 Q970.371 1513.66 976.181 1513.66 Z\" fill=\"#000000\" fill-rule=\"evenodd\" fill-opacity=\"1\" /><path clip-path=\"url(#clip840)\" d=\"M996.343 1542.97 L1001.23 1542.97 L1001.23 1548.85 L996.343 1548.85 L996.343 1542.97 Z\" fill=\"#000000\" fill-rule=\"evenodd\" fill-opacity=\"1\" /><path clip-path=\"url(#clip840)\" d=\"M1011.46 1514.29 L1029.81 1514.29 L1029.81 1518.22 L1015.74 1518.22 L1015.74 1526.7 Q1016.76 1526.35 1017.78 1526.19 Q1018.8 1526 1019.81 1526 Q1025.6 1526 1028.98 1529.17 Q1032.36 1532.34 1032.36 1537.76 Q1032.36 1543.34 1028.89 1546.44 Q1025.42 1549.52 1019.1 1549.52 Q1016.92 1549.52 1014.65 1549.15 Q1012.41 1548.78 1010 1548.04 L1010 1543.34 Q1012.08 1544.47 1014.31 1545.03 Q1016.53 1545.58 1019 1545.58 Q1023.01 1545.58 1025.35 1543.48 Q1027.69 1541.37 1027.69 1537.76 Q1027.69 1534.15 1025.35 1532.04 Q1023.01 1529.94 1019 1529.94 Q1017.13 1529.94 1015.25 1530.35 Q1013.4 1530.77 1011.46 1531.65 L1011.46 1514.29 Z\" fill=\"#000000\" fill-rule=\"evenodd\" fill-opacity=\"1\" /><path clip-path=\"url(#clip840)\" d=\"M1250.73 1517.37 Q1247.12 1517.37 1245.29 1520.93 Q1243.49 1524.47 1243.49 1531.6 Q1243.49 1538.71 1245.29 1542.27 Q1247.12 1545.82 1250.73 1545.82 Q1254.36 1545.82 1256.17 1542.27 Q1258 1538.71 1258 1531.6 Q1258 1524.47 1256.17 1520.93 Q1254.36 1517.37 1250.73 1517.37 M1250.73 1513.66 Q1256.54 1513.66 1259.6 1518.27 Q1262.67 1522.85 1262.67 1531.6 Q1262.67 1540.33 1259.6 1544.94 Q1256.54 1549.52 1250.73 1549.52 Q1244.92 1549.52 1241.84 1544.94 Q1238.79 1540.33 1238.79 1531.6 Q1238.79 1522.85 1241.84 1518.27 Q1244.92 1513.66 1250.73 1513.66 Z\" fill=\"#000000\" fill-rule=\"evenodd\" fill-opacity=\"1\" /><path clip-path=\"url(#clip840)\" d=\"M1270.89 1542.97 L1275.78 1542.97 L1275.78 1548.85 L1270.89 1548.85 L1270.89 1542.97 Z\" fill=\"#000000\" fill-rule=\"evenodd\" fill-opacity=\"1\" /><path clip-path=\"url(#clip840)\" d=\"M1295.96 1517.37 Q1292.35 1517.37 1290.52 1520.93 Q1288.72 1524.47 1288.72 1531.6 Q1288.72 1538.71 1290.52 1542.27 Q1292.35 1545.82 1295.96 1545.82 Q1299.6 1545.82 1301.4 1542.27 Q1303.23 1538.71 1303.23 1531.6 Q1303.23 1524.47 1301.4 1520.93 Q1299.6 1517.37 1295.96 1517.37 M1295.96 1513.66 Q1301.77 1513.66 1304.83 1518.27 Q1307.91 1522.85 1307.91 1531.6 Q1307.91 1540.33 1304.83 1544.94 Q1301.77 1549.52 1295.96 1549.52 Q1290.15 1549.52 1287.07 1544.94 Q1284.02 1540.33 1284.02 1531.6 Q1284.02 1522.85 1287.07 1518.27 Q1290.15 1513.66 1295.96 1513.66 Z\" fill=\"#000000\" fill-rule=\"evenodd\" fill-opacity=\"1\" /><path clip-path=\"url(#clip840)\" d=\"M1545.19 1517.37 Q1541.58 1517.37 1539.75 1520.93 Q1537.94 1524.47 1537.94 1531.6 Q1537.94 1538.71 1539.75 1542.27 Q1541.58 1545.82 1545.19 1545.82 Q1548.82 1545.82 1550.63 1542.27 Q1552.46 1538.71 1552.46 1531.6 Q1552.46 1524.47 1550.63 1520.93 Q1548.82 1517.37 1545.19 1517.37 M1545.19 1513.66 Q1551 1513.66 1554.05 1518.27 Q1557.13 1522.85 1557.13 1531.6 Q1557.13 1540.33 1554.05 1544.94 Q1551 1549.52 1545.19 1549.52 Q1539.38 1549.52 1536.3 1544.94 Q1533.24 1540.33 1533.24 1531.6 Q1533.24 1522.85 1536.3 1518.27 Q1539.38 1513.66 1545.19 1513.66 Z\" fill=\"#000000\" fill-rule=\"evenodd\" fill-opacity=\"1\" /><path clip-path=\"url(#clip840)\" d=\"M1565.35 1542.97 L1570.23 1542.97 L1570.23 1548.85 L1565.35 1548.85 L1565.35 1542.97 Z\" fill=\"#000000\" fill-rule=\"evenodd\" fill-opacity=\"1\" /><path clip-path=\"url(#clip840)\" d=\"M1580.46 1514.29 L1598.82 1514.29 L1598.82 1518.22 L1584.75 1518.22 L1584.75 1526.7 Q1585.77 1526.35 1586.78 1526.19 Q1587.8 1526 1588.82 1526 Q1594.61 1526 1597.99 1529.17 Q1601.37 1532.34 1601.37 1537.76 Q1601.37 1543.34 1597.9 1546.44 Q1594.42 1549.52 1588.1 1549.52 Q1585.93 1549.52 1583.66 1549.15 Q1581.41 1548.78 1579.01 1548.04 L1579.01 1543.34 Q1581.09 1544.47 1583.31 1545.03 Q1585.53 1545.58 1588.01 1545.58 Q1592.02 1545.58 1594.35 1543.48 Q1596.69 1541.37 1596.69 1537.76 Q1596.69 1534.15 1594.35 1532.04 Q1592.02 1529.94 1588.01 1529.94 Q1586.14 1529.94 1584.26 1530.35 Q1582.41 1530.77 1580.46 1531.65 L1580.46 1514.29 Z\" fill=\"#000000\" fill-rule=\"evenodd\" fill-opacity=\"1\" /><path clip-path=\"url(#clip840)\" d=\"M1828.42 1544.91 L1836.06 1544.91 L1836.06 1518.55 L1827.75 1520.21 L1827.75 1515.95 L1836.01 1514.29 L1840.69 1514.29 L1840.69 1544.91 L1848.32 1544.91 L1848.32 1548.85 L1828.42 1548.85 L1828.42 1544.91 Z\" fill=\"#000000\" fill-rule=\"evenodd\" fill-opacity=\"1\" /><path clip-path=\"url(#clip840)\" d=\"M1857.77 1542.97 L1862.65 1542.97 L1862.65 1548.85 L1857.77 1548.85 L1857.77 1542.97 Z\" fill=\"#000000\" fill-rule=\"evenodd\" fill-opacity=\"1\" /><path clip-path=\"url(#clip840)\" d=\"M1882.84 1517.37 Q1879.23 1517.37 1877.4 1520.93 Q1875.59 1524.47 1875.59 1531.6 Q1875.59 1538.71 1877.4 1542.27 Q1879.23 1545.82 1882.84 1545.82 Q1886.47 1545.82 1888.28 1542.27 Q1890.11 1538.71 1890.11 1531.6 Q1890.11 1524.47 1888.28 1520.93 Q1886.47 1517.37 1882.84 1517.37 M1882.84 1513.66 Q1888.65 1513.66 1891.7 1518.27 Q1894.78 1522.85 1894.78 1531.6 Q1894.78 1540.33 1891.7 1544.94 Q1888.65 1549.52 1882.84 1549.52 Q1877.03 1549.52 1873.95 1544.94 Q1870.89 1540.33 1870.89 1531.6 Q1870.89 1522.85 1873.95 1518.27 Q1877.03 1513.66 1882.84 1513.66 Z\" fill=\"#000000\" fill-rule=\"evenodd\" fill-opacity=\"1\" /><path clip-path=\"url(#clip840)\" d=\"M2122.87 1544.91 L2130.51 1544.91 L2130.51 1518.55 L2122.2 1520.21 L2122.2 1515.95 L2130.47 1514.29 L2135.14 1514.29 L2135.14 1544.91 L2142.78 1544.91 L2142.78 1548.85 L2122.87 1548.85 L2122.87 1544.91 Z\" fill=\"#000000\" fill-rule=\"evenodd\" fill-opacity=\"1\" /><path clip-path=\"url(#clip840)\" d=\"M2152.23 1542.97 L2157.11 1542.97 L2157.11 1548.85 L2152.23 1548.85 L2152.23 1542.97 Z\" fill=\"#000000\" fill-rule=\"evenodd\" fill-opacity=\"1\" /><path clip-path=\"url(#clip840)\" d=\"M2167.34 1514.29 L2185.7 1514.29 L2185.7 1518.22 L2171.62 1518.22 L2171.62 1526.7 Q2172.64 1526.35 2173.66 1526.19 Q2174.68 1526 2175.7 1526 Q2181.49 1526 2184.86 1529.17 Q2188.24 1532.34 2188.24 1537.76 Q2188.24 1543.34 2184.77 1546.44 Q2181.3 1549.52 2174.98 1549.52 Q2172.8 1549.52 2170.54 1549.15 Q2168.29 1548.78 2165.88 1548.04 L2165.88 1543.34 Q2167.97 1544.47 2170.19 1545.03 Q2172.41 1545.58 2174.89 1545.58 Q2178.89 1545.58 2181.23 1543.48 Q2183.57 1541.37 2183.57 1537.76 Q2183.57 1534.15 2181.23 1532.04 Q2178.89 1529.94 2174.89 1529.94 Q2173.01 1529.94 2171.14 1530.35 Q2169.29 1530.77 2167.34 1531.65 L2167.34 1514.29 Z\" fill=\"#000000\" fill-rule=\"evenodd\" fill-opacity=\"1\" /><polyline clip-path=\"url(#clip842)\" style=\"stroke:#000000; stroke-linecap:round; stroke-linejoin:round; stroke-width:2; stroke-opacity:0.1; fill:none\" points=\"193.936,1354.76 2352.76,1354.76 \"/>\n",
       "<polyline clip-path=\"url(#clip842)\" style=\"stroke:#000000; stroke-linecap:round; stroke-linejoin:round; stroke-width:2; stroke-opacity:0.1; fill:none\" points=\"193.936,1060.81 2352.76,1060.81 \"/>\n",
       "<polyline clip-path=\"url(#clip842)\" style=\"stroke:#000000; stroke-linecap:round; stroke-linejoin:round; stroke-width:2; stroke-opacity:0.1; fill:none\" points=\"193.936,766.846 2352.76,766.846 \"/>\n",
       "<polyline clip-path=\"url(#clip842)\" style=\"stroke:#000000; stroke-linecap:round; stroke-linejoin:round; stroke-width:2; stroke-opacity:0.1; fill:none\" points=\"193.936,472.887 2352.76,472.887 \"/>\n",
       "<polyline clip-path=\"url(#clip842)\" style=\"stroke:#000000; stroke-linecap:round; stroke-linejoin:round; stroke-width:2; stroke-opacity:0.1; fill:none\" points=\"193.936,178.928 2352.76,178.928 \"/>\n",
       "<polyline clip-path=\"url(#clip840)\" style=\"stroke:#000000; stroke-linecap:round; stroke-linejoin:round; stroke-width:4; stroke-opacity:1; fill:none\" points=\"193.936,1486.45 193.936,47.2441 \"/>\n",
       "<polyline clip-path=\"url(#clip840)\" style=\"stroke:#000000; stroke-linecap:round; stroke-linejoin:round; stroke-width:4; stroke-opacity:1; fill:none\" points=\"193.936,1354.76 212.834,1354.76 \"/>\n",
       "<polyline clip-path=\"url(#clip840)\" style=\"stroke:#000000; stroke-linecap:round; stroke-linejoin:round; stroke-width:4; stroke-opacity:1; fill:none\" points=\"193.936,1060.81 212.834,1060.81 \"/>\n",
       "<polyline clip-path=\"url(#clip840)\" style=\"stroke:#000000; stroke-linecap:round; stroke-linejoin:round; stroke-width:4; stroke-opacity:1; fill:none\" points=\"193.936,766.846 212.834,766.846 \"/>\n",
       "<polyline clip-path=\"url(#clip840)\" style=\"stroke:#000000; stroke-linecap:round; stroke-linejoin:round; stroke-width:4; stroke-opacity:1; fill:none\" points=\"193.936,472.887 212.834,472.887 \"/>\n",
       "<polyline clip-path=\"url(#clip840)\" style=\"stroke:#000000; stroke-linecap:round; stroke-linejoin:round; stroke-width:4; stroke-opacity:1; fill:none\" points=\"193.936,178.928 212.834,178.928 \"/>\n",
       "<path clip-path=\"url(#clip840)\" d=\"M50.9921 1355.22 L80.6679 1355.22 L80.6679 1359.15 L50.9921 1359.15 L50.9921 1355.22 Z\" fill=\"#000000\" fill-rule=\"evenodd\" fill-opacity=\"1\" /><path clip-path=\"url(#clip840)\" d=\"M91.5706 1368.11 L99.2095 1368.11 L99.2095 1341.74 L90.8993 1343.41 L90.8993 1339.15 L99.1632 1337.48 L103.839 1337.48 L103.839 1368.11 L111.478 1368.11 L111.478 1372.04 L91.5706 1372.04 L91.5706 1368.11 Z\" fill=\"#000000\" fill-rule=\"evenodd\" fill-opacity=\"1\" /><path clip-path=\"url(#clip840)\" d=\"M120.922 1366.16 L125.807 1366.16 L125.807 1372.04 L120.922 1372.04 L120.922 1366.16 Z\" fill=\"#000000\" fill-rule=\"evenodd\" fill-opacity=\"1\" /><path clip-path=\"url(#clip840)\" d=\"M145.992 1340.56 Q142.381 1340.56 140.552 1344.13 Q138.746 1347.67 138.746 1354.8 Q138.746 1361.91 140.552 1365.47 Q142.381 1369.01 145.992 1369.01 Q149.626 1369.01 151.431 1365.47 Q153.26 1361.91 153.26 1354.8 Q153.26 1347.67 151.431 1344.13 Q149.626 1340.56 145.992 1340.56 M145.992 1336.86 Q151.802 1336.86 154.857 1341.47 Q157.936 1346.05 157.936 1354.8 Q157.936 1363.53 154.857 1368.13 Q151.802 1372.72 145.992 1372.72 Q140.181 1372.72 137.103 1368.13 Q134.047 1363.53 134.047 1354.8 Q134.047 1346.05 137.103 1341.47 Q140.181 1336.86 145.992 1336.86 Z\" fill=\"#000000\" fill-rule=\"evenodd\" fill-opacity=\"1\" /><path clip-path=\"url(#clip840)\" d=\"M51.9875 1061.26 L81.6633 1061.26 L81.6633 1065.19 L51.9875 1065.19 L51.9875 1061.26 Z\" fill=\"#000000\" fill-rule=\"evenodd\" fill-opacity=\"1\" /><path clip-path=\"url(#clip840)\" d=\"M101.756 1046.6 Q98.1447 1046.6 96.316 1050.17 Q94.5104 1053.71 94.5104 1060.84 Q94.5104 1067.95 96.316 1071.51 Q98.1447 1075.05 101.756 1075.05 Q105.39 1075.05 107.196 1071.51 Q109.024 1067.95 109.024 1060.84 Q109.024 1053.71 107.196 1050.17 Q105.39 1046.6 101.756 1046.6 M101.756 1042.9 Q107.566 1042.9 110.621 1047.51 Q113.7 1052.09 113.7 1060.84 Q113.7 1069.57 110.621 1074.17 Q107.566 1078.76 101.756 1078.76 Q95.9456 1078.76 92.8669 1074.17 Q89.8114 1069.57 89.8114 1060.84 Q89.8114 1052.09 92.8669 1047.51 Q95.9456 1042.9 101.756 1042.9 Z\" fill=\"#000000\" fill-rule=\"evenodd\" fill-opacity=\"1\" /><path clip-path=\"url(#clip840)\" d=\"M121.918 1072.21 L126.802 1072.21 L126.802 1078.09 L121.918 1078.09 L121.918 1072.21 Z\" fill=\"#000000\" fill-rule=\"evenodd\" fill-opacity=\"1\" /><path clip-path=\"url(#clip840)\" d=\"M137.033 1043.53 L155.39 1043.53 L155.39 1047.46 L141.316 1047.46 L141.316 1055.93 Q142.334 1055.59 143.353 1055.42 Q144.371 1055.24 145.39 1055.24 Q151.177 1055.24 154.556 1058.41 Q157.936 1061.58 157.936 1067 Q157.936 1072.58 154.464 1075.68 Q150.992 1078.76 144.672 1078.76 Q142.496 1078.76 140.228 1078.39 Q137.982 1078.02 135.575 1077.28 L135.575 1072.58 Q137.658 1073.71 139.881 1074.27 Q142.103 1074.82 144.58 1074.82 Q148.584 1074.82 150.922 1072.71 Q153.26 1070.61 153.26 1067 Q153.26 1063.39 150.922 1061.28 Q148.584 1059.17 144.58 1059.17 Q142.705 1059.17 140.83 1059.59 Q138.978 1060.01 137.033 1060.89 L137.033 1043.53 Z\" fill=\"#000000\" fill-rule=\"evenodd\" fill-opacity=\"1\" /><path clip-path=\"url(#clip840)\" d=\"M100.76 752.645 Q97.1493 752.645 95.3206 756.209 Q93.515 759.751 93.515 766.881 Q93.515 773.987 95.3206 777.552 Q97.1493 781.094 100.76 781.094 Q104.395 781.094 106.2 777.552 Q108.029 773.987 108.029 766.881 Q108.029 759.751 106.2 756.209 Q104.395 752.645 100.76 752.645 M100.76 748.941 Q106.571 748.941 109.626 753.547 Q112.705 758.131 112.705 766.881 Q112.705 775.608 109.626 780.214 Q106.571 784.797 100.76 784.797 Q94.9502 784.797 91.8715 780.214 Q88.816 775.608 88.816 766.881 Q88.816 758.131 91.8715 753.547 Q94.9502 748.941 100.76 748.941 Z\" fill=\"#000000\" fill-rule=\"evenodd\" fill-opacity=\"1\" /><path clip-path=\"url(#clip840)\" d=\"M120.922 778.246 L125.807 778.246 L125.807 784.126 L120.922 784.126 L120.922 778.246 Z\" fill=\"#000000\" fill-rule=\"evenodd\" fill-opacity=\"1\" /><path clip-path=\"url(#clip840)\" d=\"M145.992 752.645 Q142.381 752.645 140.552 756.209 Q138.746 759.751 138.746 766.881 Q138.746 773.987 140.552 777.552 Q142.381 781.094 145.992 781.094 Q149.626 781.094 151.431 777.552 Q153.26 773.987 153.26 766.881 Q153.26 759.751 151.431 756.209 Q149.626 752.645 145.992 752.645 M145.992 748.941 Q151.802 748.941 154.857 753.547 Q157.936 758.131 157.936 766.881 Q157.936 775.608 154.857 780.214 Q151.802 784.797 145.992 784.797 Q140.181 784.797 137.103 780.214 Q134.047 775.608 134.047 766.881 Q134.047 758.131 137.103 753.547 Q140.181 748.941 145.992 748.941 Z\" fill=\"#000000\" fill-rule=\"evenodd\" fill-opacity=\"1\" /><path clip-path=\"url(#clip840)\" d=\"M101.756 458.685 Q98.1447 458.685 96.316 462.25 Q94.5104 465.792 94.5104 472.922 Q94.5104 480.028 96.316 483.593 Q98.1447 487.134 101.756 487.134 Q105.39 487.134 107.196 483.593 Q109.024 480.028 109.024 472.922 Q109.024 465.792 107.196 462.25 Q105.39 458.685 101.756 458.685 M101.756 454.982 Q107.566 454.982 110.621 459.588 Q113.7 464.172 113.7 472.922 Q113.7 481.648 110.621 486.255 Q107.566 490.838 101.756 490.838 Q95.9456 490.838 92.8669 486.255 Q89.8114 481.648 89.8114 472.922 Q89.8114 464.172 92.8669 459.588 Q95.9456 454.982 101.756 454.982 Z\" fill=\"#000000\" fill-rule=\"evenodd\" fill-opacity=\"1\" /><path clip-path=\"url(#clip840)\" d=\"M121.918 484.287 L126.802 484.287 L126.802 490.167 L121.918 490.167 L121.918 484.287 Z\" fill=\"#000000\" fill-rule=\"evenodd\" fill-opacity=\"1\" /><path clip-path=\"url(#clip840)\" d=\"M137.033 455.607 L155.39 455.607 L155.39 459.542 L141.316 459.542 L141.316 468.014 Q142.334 467.667 143.353 467.505 Q144.371 467.32 145.39 467.32 Q151.177 467.32 154.556 470.491 Q157.936 473.662 157.936 479.079 Q157.936 484.658 154.464 487.759 Q150.992 490.838 144.672 490.838 Q142.496 490.838 140.228 490.468 Q137.982 490.097 135.575 489.357 L135.575 484.658 Q137.658 485.792 139.881 486.347 Q142.103 486.903 144.58 486.903 Q148.584 486.903 150.922 484.796 Q153.26 482.69 153.26 479.079 Q153.26 475.468 150.922 473.361 Q148.584 471.255 144.58 471.255 Q142.705 471.255 140.83 471.672 Q138.978 472.088 137.033 472.968 L137.033 455.607 Z\" fill=\"#000000\" fill-rule=\"evenodd\" fill-opacity=\"1\" /><path clip-path=\"url(#clip840)\" d=\"M91.5706 192.272 L99.2095 192.272 L99.2095 165.907 L90.8993 167.573 L90.8993 163.314 L99.1632 161.648 L103.839 161.648 L103.839 192.272 L111.478 192.272 L111.478 196.208 L91.5706 196.208 L91.5706 192.272 Z\" fill=\"#000000\" fill-rule=\"evenodd\" fill-opacity=\"1\" /><path clip-path=\"url(#clip840)\" d=\"M120.922 190.328 L125.807 190.328 L125.807 196.208 L120.922 196.208 L120.922 190.328 Z\" fill=\"#000000\" fill-rule=\"evenodd\" fill-opacity=\"1\" /><path clip-path=\"url(#clip840)\" d=\"M145.992 164.726 Q142.381 164.726 140.552 168.291 Q138.746 171.833 138.746 178.962 Q138.746 186.069 140.552 189.634 Q142.381 193.175 145.992 193.175 Q149.626 193.175 151.431 189.634 Q153.26 186.069 153.26 178.962 Q153.26 171.833 151.431 168.291 Q149.626 164.726 145.992 164.726 M145.992 161.023 Q151.802 161.023 154.857 165.629 Q157.936 170.212 157.936 178.962 Q157.936 187.689 154.857 192.296 Q151.802 196.879 145.992 196.879 Q140.181 196.879 137.103 192.296 Q134.047 187.689 134.047 178.962 Q134.047 170.212 137.103 165.629 Q140.181 161.023 145.992 161.023 Z\" fill=\"#000000\" fill-rule=\"evenodd\" fill-opacity=\"1\" /><path clip-path=\"url(#clip842)\" d=\"M685.428 1106.28 L1273.35 87.9763 L1861.26 1106.28 L685.428 1106.28 L685.428 766.846 L1861.26 766.846 L1273.35 766.846 L685.428 766.846  Z\" fill=\"#009af9\" fill-rule=\"evenodd\" fill-opacity=\"0.5\"/>\n",
       "<polyline clip-path=\"url(#clip842)\" style=\"stroke:#009af9; stroke-linecap:round; stroke-linejoin:round; stroke-width:4; stroke-opacity:1; fill:none\" points=\"685.428,1106.28 1273.35,87.9763 1861.26,1106.28 685.428,1106.28 \"/>\n",
       "<polyline clip-path=\"url(#clip842)\" style=\"stroke:#009af9; stroke-linecap:round; stroke-linejoin:round; stroke-width:4; stroke-opacity:1; fill:none\" points=\"721.428,1124.28 685.428,1106.28 721.428,1088.28 \"/>\n",
       "<polyline clip-path=\"url(#clip842)\" style=\"stroke:#009af9; stroke-linecap:round; stroke-linejoin:round; stroke-width:4; stroke-opacity:1; fill:none\" points=\"685.428,1106.28 1861.26,1106.28 \"/>\n",
       "<path clip-path=\"url(#clip842)\" d=\"M685.428 427.411 L1273.35 1445.72 L1861.26 427.411 L685.428 427.411 L685.428 766.846 L1861.26 766.846 L1273.35 766.846 L685.428 766.846  Z\" fill=\"#e26f46\" fill-rule=\"evenodd\" fill-opacity=\"0.5\"/>\n",
       "<polyline clip-path=\"url(#clip842)\" style=\"stroke:#e26f46; stroke-linecap:round; stroke-linejoin:round; stroke-width:4; stroke-opacity:1; fill:none\" points=\"685.428,427.411 1273.35,1445.72 1861.26,427.411 685.428,427.411 \"/>\n",
       "<polyline clip-path=\"url(#clip842)\" style=\"stroke:#e26f46; stroke-linecap:round; stroke-linejoin:round; stroke-width:4; stroke-opacity:1; fill:none\" points=\"721.428,445.411 685.428,427.411 721.428,409.411 \"/>\n",
       "<polyline clip-path=\"url(#clip842)\" style=\"stroke:#e26f46; stroke-linecap:round; stroke-linejoin:round; stroke-width:4; stroke-opacity:1; fill:none\" points=\"685.428,427.411 1861.26,427.411 \"/>\n",
       "<path clip-path=\"url(#clip840)\" d=\"M2012.48 250.738 L2280.8 250.738 L2280.8 95.2176 L2012.48 95.2176  Z\" fill=\"#ffffff\" fill-rule=\"evenodd\" fill-opacity=\"1\"/>\n",
       "<polyline clip-path=\"url(#clip840)\" style=\"stroke:#000000; stroke-linecap:round; stroke-linejoin:round; stroke-width:4; stroke-opacity:1; fill:none\" points=\"2012.48,250.738 2280.8,250.738 2280.8,95.2176 2012.48,95.2176 2012.48,250.738 \"/>\n",
       "<path clip-path=\"url(#clip840)\" d=\"M2036.47 167.794 L2180.39 167.794 L2180.39 126.322 L2036.47 126.322 L2036.47 167.794  Z\" fill=\"#009af9\" fill-rule=\"evenodd\" fill-opacity=\"0.5\"/>\n",
       "<polyline clip-path=\"url(#clip840)\" style=\"stroke:#009af9; stroke-linecap:round; stroke-linejoin:round; stroke-width:4; stroke-opacity:1; fill:none\" points=\"2036.47,126.322 2180.39,126.322 \"/>\n",
       "<path clip-path=\"url(#clip840)\" d=\"M2218.22 166.745 Q2216.42 171.375 2214.7 172.787 Q2212.99 174.199 2210.12 174.199 L2206.72 174.199 L2206.72 170.634 L2209.22 170.634 Q2210.98 170.634 2211.95 169.8 Q2212.92 168.967 2214.1 165.865 L2214.86 163.921 L2204.38 138.412 L2208.89 138.412 L2216.99 158.689 L2225.1 138.412 L2229.61 138.412 L2218.22 166.745 Z\" fill=\"#000000\" fill-rule=\"evenodd\" fill-opacity=\"1\" /><path clip-path=\"url(#clip840)\" d=\"M2236.9 160.402 L2244.54 160.402 L2244.54 134.037 L2236.23 135.703 L2236.23 131.444 L2244.49 129.778 L2249.17 129.778 L2249.17 160.402 L2256.81 160.402 L2256.81 164.338 L2236.9 164.338 L2236.9 160.402 Z\" fill=\"#000000\" fill-rule=\"evenodd\" fill-opacity=\"1\" /><path clip-path=\"url(#clip840)\" d=\"M2036.47 219.634 L2180.39 219.634 L2180.39 178.162 L2036.47 178.162 L2036.47 219.634  Z\" fill=\"#e26f46\" fill-rule=\"evenodd\" fill-opacity=\"0.5\"/>\n",
       "<polyline clip-path=\"url(#clip840)\" style=\"stroke:#e26f46; stroke-linecap:round; stroke-linejoin:round; stroke-width:4; stroke-opacity:1; fill:none\" points=\"2036.47,178.162 2180.39,178.162 \"/>\n",
       "<path clip-path=\"url(#clip840)\" d=\"M2218.22 218.585 Q2216.42 223.215 2214.7 224.627 Q2212.99 226.039 2210.12 226.039 L2206.72 226.039 L2206.72 222.474 L2209.22 222.474 Q2210.98 222.474 2211.95 221.64 Q2212.92 220.807 2214.1 217.705 L2214.86 215.761 L2204.38 190.252 L2208.89 190.252 L2216.99 210.529 L2225.1 190.252 L2229.61 190.252 L2218.22 218.585 Z\" fill=\"#000000\" fill-rule=\"evenodd\" fill-opacity=\"1\" /><path clip-path=\"url(#clip840)\" d=\"M2240.12 212.242 L2256.44 212.242 L2256.44 216.178 L2234.49 216.178 L2234.49 212.242 Q2237.16 209.488 2241.74 204.858 Q2246.35 200.205 2247.53 198.863 Q2249.77 196.34 2250.65 194.604 Q2251.55 192.844 2251.55 191.155 Q2251.55 188.4 2249.61 186.664 Q2247.69 184.928 2244.59 184.928 Q2242.39 184.928 2239.93 185.692 Q2237.5 186.455 2234.73 188.006 L2234.73 183.284 Q2237.55 182.15 2240 181.571 Q2242.46 180.993 2244.49 180.993 Q2249.86 180.993 2253.06 183.678 Q2256.25 186.363 2256.25 190.854 Q2256.25 192.983 2255.44 194.905 Q2254.66 196.803 2252.55 199.395 Q2251.97 200.067 2248.87 203.284 Q2245.77 206.479 2240.12 212.242 Z\" fill=\"#000000\" fill-rule=\"evenodd\" fill-opacity=\"1\" /></svg>\n"
      ]
     },
     "execution_count": null,
     "metadata": {},
     "output_type": "execute_result"
    }
   ],
   "source": [
    "idxs1 = vcat(1:length(poly1), 1)\n",
    "idxs2 = vcat(1:length(poly2), 1)\n",
    "plot(x_coords(poly1[idxs1]), y_coords(poly1[idxs1]), aspectratio=:equal, fill=(0, 0.5), arrow=true)\n",
    "plot!(x_coords(poly2[idxs2]), y_coords(poly2[idxs2]), fill=(0, 0.5), arrow=true)"
   ]
  },
  {
   "cell_type": "code",
   "execution_count": null,
   "id": "975b71e2",
   "metadata": {},
   "outputs": [],
   "source": [
    "points = PolygonAlgorithms.intersect_convex(poly1, poly2, PolygonAlgorithms.ChasingEdgesAlg());"
   ]
  },
  {
   "cell_type": "code",
   "execution_count": null,
   "id": "f83e7ad9",
   "metadata": {},
   "outputs": [
    {
     "data": {
      "image/svg+xml": [
       "<?xml version=\"1.0\" encoding=\"utf-8\"?>\n",
       "<svg xmlns=\"http://www.w3.org/2000/svg\" xmlns:xlink=\"http://www.w3.org/1999/xlink\" width=\"600\" height=\"400\" viewBox=\"0 0 2400 1600\">\n",
       "<defs>\n",
       "  <clipPath id=\"clip880\">\n",
       "    <rect x=\"0\" y=\"0\" width=\"2400\" height=\"1600\"/>\n",
       "  </clipPath>\n",
       "</defs>\n",
       "<path clip-path=\"url(#clip880)\" d=\"M0 1600 L2400 1600 L2400 0 L0 0  Z\" fill=\"#ffffff\" fill-rule=\"evenodd\" fill-opacity=\"1\"/>\n",
       "<defs>\n",
       "  <clipPath id=\"clip881\">\n",
       "    <rect x=\"480\" y=\"0\" width=\"1681\" height=\"1600\"/>\n",
       "  </clipPath>\n",
       "</defs>\n",
       "<path clip-path=\"url(#clip880)\" d=\"M193.936 1486.45 L2352.76 1486.45 L2352.76 47.2441 L193.936 47.2441  Z\" fill=\"#ffffff\" fill-rule=\"evenodd\" fill-opacity=\"1\"/>\n",
       "<defs>\n",
       "  <clipPath id=\"clip882\">\n",
       "    <rect x=\"193\" y=\"47\" width=\"2160\" height=\"1440\"/>\n",
       "  </clipPath>\n",
       "</defs>\n",
       "<polyline clip-path=\"url(#clip882)\" style=\"stroke:#000000; stroke-linecap:round; stroke-linejoin:round; stroke-width:2; stroke-opacity:0.1; fill:none\" points=\"391.468,1486.45 391.468,47.2441 \"/>\n",
       "<polyline clip-path=\"url(#clip882)\" style=\"stroke:#000000; stroke-linecap:round; stroke-linejoin:round; stroke-width:2; stroke-opacity:0.1; fill:none\" points=\"685.428,1486.45 685.428,47.2441 \"/>\n",
       "<polyline clip-path=\"url(#clip882)\" style=\"stroke:#000000; stroke-linecap:round; stroke-linejoin:round; stroke-width:2; stroke-opacity:0.1; fill:none\" points=\"979.387,1486.45 979.387,47.2441 \"/>\n",
       "<polyline clip-path=\"url(#clip882)\" style=\"stroke:#000000; stroke-linecap:round; stroke-linejoin:round; stroke-width:2; stroke-opacity:0.1; fill:none\" points=\"1273.35,1486.45 1273.35,47.2441 \"/>\n",
       "<polyline clip-path=\"url(#clip882)\" style=\"stroke:#000000; stroke-linecap:round; stroke-linejoin:round; stroke-width:2; stroke-opacity:0.1; fill:none\" points=\"1567.31,1486.45 1567.31,47.2441 \"/>\n",
       "<polyline clip-path=\"url(#clip882)\" style=\"stroke:#000000; stroke-linecap:round; stroke-linejoin:round; stroke-width:2; stroke-opacity:0.1; fill:none\" points=\"1861.26,1486.45 1861.26,47.2441 \"/>\n",
       "<polyline clip-path=\"url(#clip882)\" style=\"stroke:#000000; stroke-linecap:round; stroke-linejoin:round; stroke-width:2; stroke-opacity:0.1; fill:none\" points=\"2155.22,1486.45 2155.22,47.2441 \"/>\n",
       "<polyline clip-path=\"url(#clip880)\" style=\"stroke:#000000; stroke-linecap:round; stroke-linejoin:round; stroke-width:4; stroke-opacity:1; fill:none\" points=\"193.936,1486.45 2352.76,1486.45 \"/>\n",
       "<polyline clip-path=\"url(#clip880)\" style=\"stroke:#000000; stroke-linecap:round; stroke-linejoin:round; stroke-width:4; stroke-opacity:1; fill:none\" points=\"391.468,1486.45 391.468,1467.55 \"/>\n",
       "<polyline clip-path=\"url(#clip880)\" style=\"stroke:#000000; stroke-linecap:round; stroke-linejoin:round; stroke-width:4; stroke-opacity:1; fill:none\" points=\"685.428,1486.45 685.428,1467.55 \"/>\n",
       "<polyline clip-path=\"url(#clip880)\" style=\"stroke:#000000; stroke-linecap:round; stroke-linejoin:round; stroke-width:4; stroke-opacity:1; fill:none\" points=\"979.387,1486.45 979.387,1467.55 \"/>\n",
       "<polyline clip-path=\"url(#clip880)\" style=\"stroke:#000000; stroke-linecap:round; stroke-linejoin:round; stroke-width:4; stroke-opacity:1; fill:none\" points=\"1273.35,1486.45 1273.35,1467.55 \"/>\n",
       "<polyline clip-path=\"url(#clip880)\" style=\"stroke:#000000; stroke-linecap:round; stroke-linejoin:round; stroke-width:4; stroke-opacity:1; fill:none\" points=\"1567.31,1486.45 1567.31,1467.55 \"/>\n",
       "<polyline clip-path=\"url(#clip880)\" style=\"stroke:#000000; stroke-linecap:round; stroke-linejoin:round; stroke-width:4; stroke-opacity:1; fill:none\" points=\"1861.26,1486.45 1861.26,1467.55 \"/>\n",
       "<polyline clip-path=\"url(#clip880)\" style=\"stroke:#000000; stroke-linecap:round; stroke-linejoin:round; stroke-width:4; stroke-opacity:1; fill:none\" points=\"2155.22,1486.45 2155.22,1467.55 \"/>\n",
       "<path clip-path=\"url(#clip880)\" d=\"M338.494 1532.02 L368.17 1532.02 L368.17 1535.95 L338.494 1535.95 L338.494 1532.02 Z\" fill=\"#000000\" fill-rule=\"evenodd\" fill-opacity=\"1\" /><path clip-path=\"url(#clip880)\" d=\"M379.073 1544.91 L386.711 1544.91 L386.711 1518.55 L378.401 1520.21 L378.401 1515.95 L386.665 1514.29 L391.341 1514.29 L391.341 1544.91 L398.98 1544.91 L398.98 1548.85 L379.073 1548.85 L379.073 1544.91 Z\" fill=\"#000000\" fill-rule=\"evenodd\" fill-opacity=\"1\" /><path clip-path=\"url(#clip880)\" d=\"M408.424 1542.97 L413.308 1542.97 L413.308 1548.85 L408.424 1548.85 L408.424 1542.97 Z\" fill=\"#000000\" fill-rule=\"evenodd\" fill-opacity=\"1\" /><path clip-path=\"url(#clip880)\" d=\"M423.54 1514.29 L441.896 1514.29 L441.896 1518.22 L427.822 1518.22 L427.822 1526.7 Q428.841 1526.35 429.859 1526.19 Q430.878 1526 431.896 1526 Q437.683 1526 441.063 1529.17 Q444.443 1532.34 444.443 1537.76 Q444.443 1543.34 440.97 1546.44 Q437.498 1549.52 431.179 1549.52 Q429.003 1549.52 426.734 1549.15 Q424.489 1548.78 422.082 1548.04 L422.082 1543.34 Q424.165 1544.47 426.387 1545.03 Q428.609 1545.58 431.086 1545.58 Q435.091 1545.58 437.429 1543.48 Q439.767 1541.37 439.767 1537.76 Q439.767 1534.15 437.429 1532.04 Q435.091 1529.94 431.086 1529.94 Q429.211 1529.94 427.336 1530.35 Q425.484 1530.77 423.54 1531.65 L423.54 1514.29 Z\" fill=\"#000000\" fill-rule=\"evenodd\" fill-opacity=\"1\" /><path clip-path=\"url(#clip880)\" d=\"M631.956 1532.02 L661.631 1532.02 L661.631 1535.95 L631.956 1535.95 L631.956 1532.02 Z\" fill=\"#000000\" fill-rule=\"evenodd\" fill-opacity=\"1\" /><path clip-path=\"url(#clip880)\" d=\"M672.534 1544.91 L680.173 1544.91 L680.173 1518.55 L671.863 1520.21 L671.863 1515.95 L680.127 1514.29 L684.803 1514.29 L684.803 1544.91 L692.441 1544.91 L692.441 1548.85 L672.534 1548.85 L672.534 1544.91 Z\" fill=\"#000000\" fill-rule=\"evenodd\" fill-opacity=\"1\" /><path clip-path=\"url(#clip880)\" d=\"M701.886 1542.97 L706.77 1542.97 L706.77 1548.85 L701.886 1548.85 L701.886 1542.97 Z\" fill=\"#000000\" fill-rule=\"evenodd\" fill-opacity=\"1\" /><path clip-path=\"url(#clip880)\" d=\"M726.955 1517.37 Q723.344 1517.37 721.515 1520.93 Q719.71 1524.47 719.71 1531.6 Q719.71 1538.71 721.515 1542.27 Q723.344 1545.82 726.955 1545.82 Q730.589 1545.82 732.395 1542.27 Q734.224 1538.71 734.224 1531.6 Q734.224 1524.47 732.395 1520.93 Q730.589 1517.37 726.955 1517.37 M726.955 1513.66 Q732.765 1513.66 735.821 1518.27 Q738.899 1522.85 738.899 1531.6 Q738.899 1540.33 735.821 1544.94 Q732.765 1549.52 726.955 1549.52 Q721.145 1549.52 718.066 1544.94 Q715.011 1540.33 715.011 1531.6 Q715.011 1522.85 718.066 1518.27 Q721.145 1513.66 726.955 1513.66 Z\" fill=\"#000000\" fill-rule=\"evenodd\" fill-opacity=\"1\" /><path clip-path=\"url(#clip880)\" d=\"M926.412 1532.02 L956.088 1532.02 L956.088 1535.95 L926.412 1535.95 L926.412 1532.02 Z\" fill=\"#000000\" fill-rule=\"evenodd\" fill-opacity=\"1\" /><path clip-path=\"url(#clip880)\" d=\"M976.181 1517.37 Q972.57 1517.37 970.741 1520.93 Q968.935 1524.47 968.935 1531.6 Q968.935 1538.71 970.741 1542.27 Q972.57 1545.82 976.181 1545.82 Q979.815 1545.82 981.621 1542.27 Q983.449 1538.71 983.449 1531.6 Q983.449 1524.47 981.621 1520.93 Q979.815 1517.37 976.181 1517.37 M976.181 1513.66 Q981.991 1513.66 985.046 1518.27 Q988.125 1522.85 988.125 1531.6 Q988.125 1540.33 985.046 1544.94 Q981.991 1549.52 976.181 1549.52 Q970.371 1549.52 967.292 1544.94 Q964.236 1540.33 964.236 1531.6 Q964.236 1522.85 967.292 1518.27 Q970.371 1513.66 976.181 1513.66 Z\" fill=\"#000000\" fill-rule=\"evenodd\" fill-opacity=\"1\" /><path clip-path=\"url(#clip880)\" d=\"M996.343 1542.97 L1001.23 1542.97 L1001.23 1548.85 L996.343 1548.85 L996.343 1542.97 Z\" fill=\"#000000\" fill-rule=\"evenodd\" fill-opacity=\"1\" /><path clip-path=\"url(#clip880)\" d=\"M1011.46 1514.29 L1029.81 1514.29 L1029.81 1518.22 L1015.74 1518.22 L1015.74 1526.7 Q1016.76 1526.35 1017.78 1526.19 Q1018.8 1526 1019.81 1526 Q1025.6 1526 1028.98 1529.17 Q1032.36 1532.34 1032.36 1537.76 Q1032.36 1543.34 1028.89 1546.44 Q1025.42 1549.52 1019.1 1549.52 Q1016.92 1549.52 1014.65 1549.15 Q1012.41 1548.78 1010 1548.04 L1010 1543.34 Q1012.08 1544.47 1014.31 1545.03 Q1016.53 1545.58 1019 1545.58 Q1023.01 1545.58 1025.35 1543.48 Q1027.69 1541.37 1027.69 1537.76 Q1027.69 1534.15 1025.35 1532.04 Q1023.01 1529.94 1019 1529.94 Q1017.13 1529.94 1015.25 1530.35 Q1013.4 1530.77 1011.46 1531.65 L1011.46 1514.29 Z\" fill=\"#000000\" fill-rule=\"evenodd\" fill-opacity=\"1\" /><path clip-path=\"url(#clip880)\" d=\"M1250.73 1517.37 Q1247.12 1517.37 1245.29 1520.93 Q1243.49 1524.47 1243.49 1531.6 Q1243.49 1538.71 1245.29 1542.27 Q1247.12 1545.82 1250.73 1545.82 Q1254.36 1545.82 1256.17 1542.27 Q1258 1538.71 1258 1531.6 Q1258 1524.47 1256.17 1520.93 Q1254.36 1517.37 1250.73 1517.37 M1250.73 1513.66 Q1256.54 1513.66 1259.6 1518.27 Q1262.67 1522.85 1262.67 1531.6 Q1262.67 1540.33 1259.6 1544.94 Q1256.54 1549.52 1250.73 1549.52 Q1244.92 1549.52 1241.84 1544.94 Q1238.79 1540.33 1238.79 1531.6 Q1238.79 1522.85 1241.84 1518.27 Q1244.92 1513.66 1250.73 1513.66 Z\" fill=\"#000000\" fill-rule=\"evenodd\" fill-opacity=\"1\" /><path clip-path=\"url(#clip880)\" d=\"M1270.89 1542.97 L1275.78 1542.97 L1275.78 1548.85 L1270.89 1548.85 L1270.89 1542.97 Z\" fill=\"#000000\" fill-rule=\"evenodd\" fill-opacity=\"1\" /><path clip-path=\"url(#clip880)\" d=\"M1295.96 1517.37 Q1292.35 1517.37 1290.52 1520.93 Q1288.72 1524.47 1288.72 1531.6 Q1288.72 1538.71 1290.52 1542.27 Q1292.35 1545.82 1295.96 1545.82 Q1299.6 1545.82 1301.4 1542.27 Q1303.23 1538.71 1303.23 1531.6 Q1303.23 1524.47 1301.4 1520.93 Q1299.6 1517.37 1295.96 1517.37 M1295.96 1513.66 Q1301.77 1513.66 1304.83 1518.27 Q1307.91 1522.85 1307.91 1531.6 Q1307.91 1540.33 1304.83 1544.94 Q1301.77 1549.52 1295.96 1549.52 Q1290.15 1549.52 1287.07 1544.94 Q1284.02 1540.33 1284.02 1531.6 Q1284.02 1522.85 1287.07 1518.27 Q1290.15 1513.66 1295.96 1513.66 Z\" fill=\"#000000\" fill-rule=\"evenodd\" fill-opacity=\"1\" /><path clip-path=\"url(#clip880)\" d=\"M1545.19 1517.37 Q1541.58 1517.37 1539.75 1520.93 Q1537.94 1524.47 1537.94 1531.6 Q1537.94 1538.71 1539.75 1542.27 Q1541.58 1545.82 1545.19 1545.82 Q1548.82 1545.82 1550.63 1542.27 Q1552.46 1538.71 1552.46 1531.6 Q1552.46 1524.47 1550.63 1520.93 Q1548.82 1517.37 1545.19 1517.37 M1545.19 1513.66 Q1551 1513.66 1554.05 1518.27 Q1557.13 1522.85 1557.13 1531.6 Q1557.13 1540.33 1554.05 1544.94 Q1551 1549.52 1545.19 1549.52 Q1539.38 1549.52 1536.3 1544.94 Q1533.24 1540.33 1533.24 1531.6 Q1533.24 1522.85 1536.3 1518.27 Q1539.38 1513.66 1545.19 1513.66 Z\" fill=\"#000000\" fill-rule=\"evenodd\" fill-opacity=\"1\" /><path clip-path=\"url(#clip880)\" d=\"M1565.35 1542.97 L1570.23 1542.97 L1570.23 1548.85 L1565.35 1548.85 L1565.35 1542.97 Z\" fill=\"#000000\" fill-rule=\"evenodd\" fill-opacity=\"1\" /><path clip-path=\"url(#clip880)\" d=\"M1580.46 1514.29 L1598.82 1514.29 L1598.82 1518.22 L1584.75 1518.22 L1584.75 1526.7 Q1585.77 1526.35 1586.78 1526.19 Q1587.8 1526 1588.82 1526 Q1594.61 1526 1597.99 1529.17 Q1601.37 1532.34 1601.37 1537.76 Q1601.37 1543.34 1597.9 1546.44 Q1594.42 1549.52 1588.1 1549.52 Q1585.93 1549.52 1583.66 1549.15 Q1581.41 1548.78 1579.01 1548.04 L1579.01 1543.34 Q1581.09 1544.47 1583.31 1545.03 Q1585.53 1545.58 1588.01 1545.58 Q1592.02 1545.58 1594.35 1543.48 Q1596.69 1541.37 1596.69 1537.76 Q1596.69 1534.15 1594.35 1532.04 Q1592.02 1529.94 1588.01 1529.94 Q1586.14 1529.94 1584.26 1530.35 Q1582.41 1530.77 1580.46 1531.65 L1580.46 1514.29 Z\" fill=\"#000000\" fill-rule=\"evenodd\" fill-opacity=\"1\" /><path clip-path=\"url(#clip880)\" d=\"M1828.42 1544.91 L1836.06 1544.91 L1836.06 1518.55 L1827.75 1520.21 L1827.75 1515.95 L1836.01 1514.29 L1840.69 1514.29 L1840.69 1544.91 L1848.32 1544.91 L1848.32 1548.85 L1828.42 1548.85 L1828.42 1544.91 Z\" fill=\"#000000\" fill-rule=\"evenodd\" fill-opacity=\"1\" /><path clip-path=\"url(#clip880)\" d=\"M1857.77 1542.97 L1862.65 1542.97 L1862.65 1548.85 L1857.77 1548.85 L1857.77 1542.97 Z\" fill=\"#000000\" fill-rule=\"evenodd\" fill-opacity=\"1\" /><path clip-path=\"url(#clip880)\" d=\"M1882.84 1517.37 Q1879.23 1517.37 1877.4 1520.93 Q1875.59 1524.47 1875.59 1531.6 Q1875.59 1538.71 1877.4 1542.27 Q1879.23 1545.82 1882.84 1545.82 Q1886.47 1545.82 1888.28 1542.27 Q1890.11 1538.71 1890.11 1531.6 Q1890.11 1524.47 1888.28 1520.93 Q1886.47 1517.37 1882.84 1517.37 M1882.84 1513.66 Q1888.65 1513.66 1891.7 1518.27 Q1894.78 1522.85 1894.78 1531.6 Q1894.78 1540.33 1891.7 1544.94 Q1888.65 1549.52 1882.84 1549.52 Q1877.03 1549.52 1873.95 1544.94 Q1870.89 1540.33 1870.89 1531.6 Q1870.89 1522.85 1873.95 1518.27 Q1877.03 1513.66 1882.84 1513.66 Z\" fill=\"#000000\" fill-rule=\"evenodd\" fill-opacity=\"1\" /><path clip-path=\"url(#clip880)\" d=\"M2122.87 1544.91 L2130.51 1544.91 L2130.51 1518.55 L2122.2 1520.21 L2122.2 1515.95 L2130.47 1514.29 L2135.14 1514.29 L2135.14 1544.91 L2142.78 1544.91 L2142.78 1548.85 L2122.87 1548.85 L2122.87 1544.91 Z\" fill=\"#000000\" fill-rule=\"evenodd\" fill-opacity=\"1\" /><path clip-path=\"url(#clip880)\" d=\"M2152.23 1542.97 L2157.11 1542.97 L2157.11 1548.85 L2152.23 1548.85 L2152.23 1542.97 Z\" fill=\"#000000\" fill-rule=\"evenodd\" fill-opacity=\"1\" /><path clip-path=\"url(#clip880)\" d=\"M2167.34 1514.29 L2185.7 1514.29 L2185.7 1518.22 L2171.62 1518.22 L2171.62 1526.7 Q2172.64 1526.35 2173.66 1526.19 Q2174.68 1526 2175.7 1526 Q2181.49 1526 2184.86 1529.17 Q2188.24 1532.34 2188.24 1537.76 Q2188.24 1543.34 2184.77 1546.44 Q2181.3 1549.52 2174.98 1549.52 Q2172.8 1549.52 2170.54 1549.15 Q2168.29 1548.78 2165.88 1548.04 L2165.88 1543.34 Q2167.97 1544.47 2170.19 1545.03 Q2172.41 1545.58 2174.89 1545.58 Q2178.89 1545.58 2181.23 1543.48 Q2183.57 1541.37 2183.57 1537.76 Q2183.57 1534.15 2181.23 1532.04 Q2178.89 1529.94 2174.89 1529.94 Q2173.01 1529.94 2171.14 1530.35 Q2169.29 1530.77 2167.34 1531.65 L2167.34 1514.29 Z\" fill=\"#000000\" fill-rule=\"evenodd\" fill-opacity=\"1\" /><polyline clip-path=\"url(#clip882)\" style=\"stroke:#000000; stroke-linecap:round; stroke-linejoin:round; stroke-width:2; stroke-opacity:0.1; fill:none\" points=\"193.936,1354.76 2352.76,1354.76 \"/>\n",
       "<polyline clip-path=\"url(#clip882)\" style=\"stroke:#000000; stroke-linecap:round; stroke-linejoin:round; stroke-width:2; stroke-opacity:0.1; fill:none\" points=\"193.936,1060.81 2352.76,1060.81 \"/>\n",
       "<polyline clip-path=\"url(#clip882)\" style=\"stroke:#000000; stroke-linecap:round; stroke-linejoin:round; stroke-width:2; stroke-opacity:0.1; fill:none\" points=\"193.936,766.846 2352.76,766.846 \"/>\n",
       "<polyline clip-path=\"url(#clip882)\" style=\"stroke:#000000; stroke-linecap:round; stroke-linejoin:round; stroke-width:2; stroke-opacity:0.1; fill:none\" points=\"193.936,472.887 2352.76,472.887 \"/>\n",
       "<polyline clip-path=\"url(#clip882)\" style=\"stroke:#000000; stroke-linecap:round; stroke-linejoin:round; stroke-width:2; stroke-opacity:0.1; fill:none\" points=\"193.936,178.928 2352.76,178.928 \"/>\n",
       "<polyline clip-path=\"url(#clip880)\" style=\"stroke:#000000; stroke-linecap:round; stroke-linejoin:round; stroke-width:4; stroke-opacity:1; fill:none\" points=\"193.936,1486.45 193.936,47.2441 \"/>\n",
       "<polyline clip-path=\"url(#clip880)\" style=\"stroke:#000000; stroke-linecap:round; stroke-linejoin:round; stroke-width:4; stroke-opacity:1; fill:none\" points=\"193.936,1354.76 212.834,1354.76 \"/>\n",
       "<polyline clip-path=\"url(#clip880)\" style=\"stroke:#000000; stroke-linecap:round; stroke-linejoin:round; stroke-width:4; stroke-opacity:1; fill:none\" points=\"193.936,1060.81 212.834,1060.81 \"/>\n",
       "<polyline clip-path=\"url(#clip880)\" style=\"stroke:#000000; stroke-linecap:round; stroke-linejoin:round; stroke-width:4; stroke-opacity:1; fill:none\" points=\"193.936,766.846 212.834,766.846 \"/>\n",
       "<polyline clip-path=\"url(#clip880)\" style=\"stroke:#000000; stroke-linecap:round; stroke-linejoin:round; stroke-width:4; stroke-opacity:1; fill:none\" points=\"193.936,472.887 212.834,472.887 \"/>\n",
       "<polyline clip-path=\"url(#clip880)\" style=\"stroke:#000000; stroke-linecap:round; stroke-linejoin:round; stroke-width:4; stroke-opacity:1; fill:none\" points=\"193.936,178.928 212.834,178.928 \"/>\n",
       "<path clip-path=\"url(#clip880)\" d=\"M50.9921 1355.22 L80.6679 1355.22 L80.6679 1359.15 L50.9921 1359.15 L50.9921 1355.22 Z\" fill=\"#000000\" fill-rule=\"evenodd\" fill-opacity=\"1\" /><path clip-path=\"url(#clip880)\" d=\"M91.5706 1368.11 L99.2095 1368.11 L99.2095 1341.74 L90.8993 1343.41 L90.8993 1339.15 L99.1632 1337.48 L103.839 1337.48 L103.839 1368.11 L111.478 1368.11 L111.478 1372.04 L91.5706 1372.04 L91.5706 1368.11 Z\" fill=\"#000000\" fill-rule=\"evenodd\" fill-opacity=\"1\" /><path clip-path=\"url(#clip880)\" d=\"M120.922 1366.16 L125.807 1366.16 L125.807 1372.04 L120.922 1372.04 L120.922 1366.16 Z\" fill=\"#000000\" fill-rule=\"evenodd\" fill-opacity=\"1\" /><path clip-path=\"url(#clip880)\" d=\"M145.992 1340.56 Q142.381 1340.56 140.552 1344.13 Q138.746 1347.67 138.746 1354.8 Q138.746 1361.91 140.552 1365.47 Q142.381 1369.01 145.992 1369.01 Q149.626 1369.01 151.431 1365.47 Q153.26 1361.91 153.26 1354.8 Q153.26 1347.67 151.431 1344.13 Q149.626 1340.56 145.992 1340.56 M145.992 1336.86 Q151.802 1336.86 154.857 1341.47 Q157.936 1346.05 157.936 1354.8 Q157.936 1363.53 154.857 1368.13 Q151.802 1372.72 145.992 1372.72 Q140.181 1372.72 137.103 1368.13 Q134.047 1363.53 134.047 1354.8 Q134.047 1346.05 137.103 1341.47 Q140.181 1336.86 145.992 1336.86 Z\" fill=\"#000000\" fill-rule=\"evenodd\" fill-opacity=\"1\" /><path clip-path=\"url(#clip880)\" d=\"M51.9875 1061.26 L81.6633 1061.26 L81.6633 1065.19 L51.9875 1065.19 L51.9875 1061.26 Z\" fill=\"#000000\" fill-rule=\"evenodd\" fill-opacity=\"1\" /><path clip-path=\"url(#clip880)\" d=\"M101.756 1046.6 Q98.1447 1046.6 96.316 1050.17 Q94.5104 1053.71 94.5104 1060.84 Q94.5104 1067.95 96.316 1071.51 Q98.1447 1075.05 101.756 1075.05 Q105.39 1075.05 107.196 1071.51 Q109.024 1067.95 109.024 1060.84 Q109.024 1053.71 107.196 1050.17 Q105.39 1046.6 101.756 1046.6 M101.756 1042.9 Q107.566 1042.9 110.621 1047.51 Q113.7 1052.09 113.7 1060.84 Q113.7 1069.57 110.621 1074.17 Q107.566 1078.76 101.756 1078.76 Q95.9456 1078.76 92.8669 1074.17 Q89.8114 1069.57 89.8114 1060.84 Q89.8114 1052.09 92.8669 1047.51 Q95.9456 1042.9 101.756 1042.9 Z\" fill=\"#000000\" fill-rule=\"evenodd\" fill-opacity=\"1\" /><path clip-path=\"url(#clip880)\" d=\"M121.918 1072.21 L126.802 1072.21 L126.802 1078.09 L121.918 1078.09 L121.918 1072.21 Z\" fill=\"#000000\" fill-rule=\"evenodd\" fill-opacity=\"1\" /><path clip-path=\"url(#clip880)\" d=\"M137.033 1043.53 L155.39 1043.53 L155.39 1047.46 L141.316 1047.46 L141.316 1055.93 Q142.334 1055.59 143.353 1055.42 Q144.371 1055.24 145.39 1055.24 Q151.177 1055.24 154.556 1058.41 Q157.936 1061.58 157.936 1067 Q157.936 1072.58 154.464 1075.68 Q150.992 1078.76 144.672 1078.76 Q142.496 1078.76 140.228 1078.39 Q137.982 1078.02 135.575 1077.28 L135.575 1072.58 Q137.658 1073.71 139.881 1074.27 Q142.103 1074.82 144.58 1074.82 Q148.584 1074.82 150.922 1072.71 Q153.26 1070.61 153.26 1067 Q153.26 1063.39 150.922 1061.28 Q148.584 1059.17 144.58 1059.17 Q142.705 1059.17 140.83 1059.59 Q138.978 1060.01 137.033 1060.89 L137.033 1043.53 Z\" fill=\"#000000\" fill-rule=\"evenodd\" fill-opacity=\"1\" /><path clip-path=\"url(#clip880)\" d=\"M100.76 752.645 Q97.1493 752.645 95.3206 756.209 Q93.515 759.751 93.515 766.881 Q93.515 773.987 95.3206 777.552 Q97.1493 781.094 100.76 781.094 Q104.395 781.094 106.2 777.552 Q108.029 773.987 108.029 766.881 Q108.029 759.751 106.2 756.209 Q104.395 752.645 100.76 752.645 M100.76 748.941 Q106.571 748.941 109.626 753.547 Q112.705 758.131 112.705 766.881 Q112.705 775.608 109.626 780.214 Q106.571 784.797 100.76 784.797 Q94.9502 784.797 91.8715 780.214 Q88.816 775.608 88.816 766.881 Q88.816 758.131 91.8715 753.547 Q94.9502 748.941 100.76 748.941 Z\" fill=\"#000000\" fill-rule=\"evenodd\" fill-opacity=\"1\" /><path clip-path=\"url(#clip880)\" d=\"M120.922 778.246 L125.807 778.246 L125.807 784.126 L120.922 784.126 L120.922 778.246 Z\" fill=\"#000000\" fill-rule=\"evenodd\" fill-opacity=\"1\" /><path clip-path=\"url(#clip880)\" d=\"M145.992 752.645 Q142.381 752.645 140.552 756.209 Q138.746 759.751 138.746 766.881 Q138.746 773.987 140.552 777.552 Q142.381 781.094 145.992 781.094 Q149.626 781.094 151.431 777.552 Q153.26 773.987 153.26 766.881 Q153.26 759.751 151.431 756.209 Q149.626 752.645 145.992 752.645 M145.992 748.941 Q151.802 748.941 154.857 753.547 Q157.936 758.131 157.936 766.881 Q157.936 775.608 154.857 780.214 Q151.802 784.797 145.992 784.797 Q140.181 784.797 137.103 780.214 Q134.047 775.608 134.047 766.881 Q134.047 758.131 137.103 753.547 Q140.181 748.941 145.992 748.941 Z\" fill=\"#000000\" fill-rule=\"evenodd\" fill-opacity=\"1\" /><path clip-path=\"url(#clip880)\" d=\"M101.756 458.685 Q98.1447 458.685 96.316 462.25 Q94.5104 465.792 94.5104 472.922 Q94.5104 480.028 96.316 483.593 Q98.1447 487.134 101.756 487.134 Q105.39 487.134 107.196 483.593 Q109.024 480.028 109.024 472.922 Q109.024 465.792 107.196 462.25 Q105.39 458.685 101.756 458.685 M101.756 454.982 Q107.566 454.982 110.621 459.588 Q113.7 464.172 113.7 472.922 Q113.7 481.648 110.621 486.255 Q107.566 490.838 101.756 490.838 Q95.9456 490.838 92.8669 486.255 Q89.8114 481.648 89.8114 472.922 Q89.8114 464.172 92.8669 459.588 Q95.9456 454.982 101.756 454.982 Z\" fill=\"#000000\" fill-rule=\"evenodd\" fill-opacity=\"1\" /><path clip-path=\"url(#clip880)\" d=\"M121.918 484.287 L126.802 484.287 L126.802 490.167 L121.918 490.167 L121.918 484.287 Z\" fill=\"#000000\" fill-rule=\"evenodd\" fill-opacity=\"1\" /><path clip-path=\"url(#clip880)\" d=\"M137.033 455.607 L155.39 455.607 L155.39 459.542 L141.316 459.542 L141.316 468.014 Q142.334 467.667 143.353 467.505 Q144.371 467.32 145.39 467.32 Q151.177 467.32 154.556 470.491 Q157.936 473.662 157.936 479.079 Q157.936 484.658 154.464 487.759 Q150.992 490.838 144.672 490.838 Q142.496 490.838 140.228 490.468 Q137.982 490.097 135.575 489.357 L135.575 484.658 Q137.658 485.792 139.881 486.347 Q142.103 486.903 144.58 486.903 Q148.584 486.903 150.922 484.796 Q153.26 482.69 153.26 479.079 Q153.26 475.468 150.922 473.361 Q148.584 471.255 144.58 471.255 Q142.705 471.255 140.83 471.672 Q138.978 472.088 137.033 472.968 L137.033 455.607 Z\" fill=\"#000000\" fill-rule=\"evenodd\" fill-opacity=\"1\" /><path clip-path=\"url(#clip880)\" d=\"M91.5706 192.272 L99.2095 192.272 L99.2095 165.907 L90.8993 167.573 L90.8993 163.314 L99.1632 161.648 L103.839 161.648 L103.839 192.272 L111.478 192.272 L111.478 196.208 L91.5706 196.208 L91.5706 192.272 Z\" fill=\"#000000\" fill-rule=\"evenodd\" fill-opacity=\"1\" /><path clip-path=\"url(#clip880)\" d=\"M120.922 190.328 L125.807 190.328 L125.807 196.208 L120.922 196.208 L120.922 190.328 Z\" fill=\"#000000\" fill-rule=\"evenodd\" fill-opacity=\"1\" /><path clip-path=\"url(#clip880)\" d=\"M145.992 164.726 Q142.381 164.726 140.552 168.291 Q138.746 171.833 138.746 178.962 Q138.746 186.069 140.552 189.634 Q142.381 193.175 145.992 193.175 Q149.626 193.175 151.431 189.634 Q153.26 186.069 153.26 178.962 Q153.26 171.833 151.431 168.291 Q149.626 164.726 145.992 164.726 M145.992 161.023 Q151.802 161.023 154.857 165.629 Q157.936 170.212 157.936 178.962 Q157.936 187.689 154.857 192.296 Q151.802 196.879 145.992 196.879 Q140.181 196.879 137.103 192.296 Q134.047 187.689 134.047 178.962 Q134.047 170.212 137.103 165.629 Q140.181 161.023 145.992 161.023 Z\" fill=\"#000000\" fill-rule=\"evenodd\" fill-opacity=\"1\" /><path clip-path=\"url(#clip882)\" d=\"M685.428 1106.28 L1273.35 87.9763 L1861.26 1106.28 L685.428 1106.28 L685.428 766.846 L1861.26 766.846 L1273.35 766.846 L685.428 766.846  Z\" fill=\"#009af9\" fill-rule=\"evenodd\" fill-opacity=\"0.5\"/>\n",
       "<polyline clip-path=\"url(#clip882)\" style=\"stroke:#009af9; stroke-linecap:round; stroke-linejoin:round; stroke-width:4; stroke-opacity:1; fill:none\" points=\"685.428,1106.28 1273.35,87.9763 1861.26,1106.28 685.428,1106.28 \"/>\n",
       "<polyline clip-path=\"url(#clip882)\" style=\"stroke:#009af9; stroke-linecap:round; stroke-linejoin:round; stroke-width:4; stroke-opacity:1; fill:none\" points=\"721.428,1124.28 685.428,1106.28 721.428,1088.28 \"/>\n",
       "<polyline clip-path=\"url(#clip882)\" style=\"stroke:#009af9; stroke-linecap:round; stroke-linejoin:round; stroke-width:4; stroke-opacity:1; fill:none\" points=\"685.428,1106.28 1861.26,1106.28 \"/>\n",
       "<path clip-path=\"url(#clip882)\" d=\"M685.428 427.411 L1273.35 1445.72 L1861.26 427.411 L685.428 427.411 L685.428 766.846 L1861.26 766.846 L1273.35 766.846 L685.428 766.846  Z\" fill=\"#e26f46\" fill-rule=\"evenodd\" fill-opacity=\"0.5\"/>\n",
       "<polyline clip-path=\"url(#clip882)\" style=\"stroke:#e26f46; stroke-linecap:round; stroke-linejoin:round; stroke-width:4; stroke-opacity:1; fill:none\" points=\"685.428,427.411 1273.35,1445.72 1861.26,427.411 685.428,427.411 \"/>\n",
       "<polyline clip-path=\"url(#clip882)\" style=\"stroke:#e26f46; stroke-linecap:round; stroke-linejoin:round; stroke-width:4; stroke-opacity:1; fill:none\" points=\"721.428,445.411 685.428,427.411 721.428,409.411 \"/>\n",
       "<polyline clip-path=\"url(#clip882)\" style=\"stroke:#e26f46; stroke-linecap:round; stroke-linejoin:round; stroke-width:4; stroke-opacity:1; fill:none\" points=\"685.428,427.411 1861.26,427.411 \"/>\n",
       "<path clip-path=\"url(#clip882)\" d=\"M1469.32 1106.28 L1077.37 1106.28 L881.4 766.846 L1077.37 427.411 L1469.32 427.411 L1665.29 766.846 L1469.32 1106.28 L1469.32 766.846 L1665.29 766.846 L1469.32 766.846 L1077.37 766.846 L881.4 766.846 L1077.37 766.846 L1469.32 766.846  Z\" fill=\"#008000\" fill-rule=\"evenodd\" fill-opacity=\"0.4\"/>\n",
       "<polyline clip-path=\"url(#clip882)\" style=\"stroke:#000000; stroke-linecap:round; stroke-linejoin:round; stroke-width:4; stroke-opacity:1; fill:none\" points=\"1469.32,1106.28 1077.37,1106.28 881.4,766.846 1077.37,427.411 1469.32,427.411 1665.29,766.846 1469.32,1106.28 \"/>\n",
       "<path clip-path=\"url(#clip880)\" d=\"M2011.9 302.578 L2280.8 302.578 L2280.8 95.2176 L2011.9 95.2176  Z\" fill=\"#ffffff\" fill-rule=\"evenodd\" fill-opacity=\"1\"/>\n",
       "<polyline clip-path=\"url(#clip880)\" style=\"stroke:#000000; stroke-linecap:round; stroke-linejoin:round; stroke-width:4; stroke-opacity:1; fill:none\" points=\"2011.9,302.578 2280.8,302.578 2280.8,95.2176 2011.9,95.2176 2011.9,302.578 \"/>\n",
       "<path clip-path=\"url(#clip880)\" d=\"M2035.89 167.794 L2179.81 167.794 L2179.81 126.322 L2035.89 126.322 L2035.89 167.794  Z\" fill=\"#009af9\" fill-rule=\"evenodd\" fill-opacity=\"0.5\"/>\n",
       "<polyline clip-path=\"url(#clip880)\" style=\"stroke:#009af9; stroke-linecap:round; stroke-linejoin:round; stroke-width:4; stroke-opacity:1; fill:none\" points=\"2035.89,126.322 2179.81,126.322 \"/>\n",
       "<path clip-path=\"url(#clip880)\" d=\"M2217.64 166.745 Q2215.84 171.375 2214.12 172.787 Q2212.41 174.199 2209.54 174.199 L2206.14 174.199 L2206.14 170.634 L2208.64 170.634 Q2210.4 170.634 2211.37 169.8 Q2212.34 168.967 2213.52 165.865 L2214.29 163.921 L2203.8 138.412 L2208.31 138.412 L2216.42 158.689 L2224.52 138.412 L2229.03 138.412 L2217.64 166.745 Z\" fill=\"#000000\" fill-rule=\"evenodd\" fill-opacity=\"1\" /><path clip-path=\"url(#clip880)\" d=\"M2236.32 160.402 L2243.96 160.402 L2243.96 134.037 L2235.65 135.703 L2235.65 131.444 L2243.91 129.778 L2248.59 129.778 L2248.59 160.402 L2256.23 160.402 L2256.23 164.338 L2236.32 164.338 L2236.32 160.402 Z\" fill=\"#000000\" fill-rule=\"evenodd\" fill-opacity=\"1\" /><path clip-path=\"url(#clip880)\" d=\"M2035.89 219.634 L2179.81 219.634 L2179.81 178.162 L2035.89 178.162 L2035.89 219.634  Z\" fill=\"#e26f46\" fill-rule=\"evenodd\" fill-opacity=\"0.5\"/>\n",
       "<polyline clip-path=\"url(#clip880)\" style=\"stroke:#e26f46; stroke-linecap:round; stroke-linejoin:round; stroke-width:4; stroke-opacity:1; fill:none\" points=\"2035.89,178.162 2179.81,178.162 \"/>\n",
       "<path clip-path=\"url(#clip880)\" d=\"M2217.64 218.585 Q2215.84 223.215 2214.12 224.627 Q2212.41 226.039 2209.54 226.039 L2206.14 226.039 L2206.14 222.474 L2208.64 222.474 Q2210.4 222.474 2211.37 221.64 Q2212.34 220.807 2213.52 217.705 L2214.29 215.761 L2203.8 190.252 L2208.31 190.252 L2216.42 210.529 L2224.52 190.252 L2229.03 190.252 L2217.64 218.585 Z\" fill=\"#000000\" fill-rule=\"evenodd\" fill-opacity=\"1\" /><path clip-path=\"url(#clip880)\" d=\"M2239.54 212.242 L2255.86 212.242 L2255.86 216.178 L2233.91 216.178 L2233.91 212.242 Q2236.58 209.488 2241.16 204.858 Q2245.77 200.205 2246.95 198.863 Q2249.19 196.34 2250.07 194.604 Q2250.98 192.844 2250.98 191.155 Q2250.98 188.4 2249.03 186.664 Q2247.11 184.928 2244.01 184.928 Q2241.81 184.928 2239.35 185.692 Q2236.92 186.455 2234.15 188.006 L2234.15 183.284 Q2236.97 182.15 2239.42 181.571 Q2241.88 180.993 2243.91 180.993 Q2249.29 180.993 2252.48 183.678 Q2255.67 186.363 2255.67 190.854 Q2255.67 192.983 2254.86 194.905 Q2254.08 196.803 2251.97 199.395 Q2251.39 200.067 2248.29 203.284 Q2245.19 206.479 2239.54 212.242 Z\" fill=\"#000000\" fill-rule=\"evenodd\" fill-opacity=\"1\" /><path clip-path=\"url(#clip880)\" d=\"M2035.89 271.474 L2179.81 271.474 L2179.81 230.002 L2035.89 230.002 L2035.89 271.474  Z\" fill=\"#008000\" fill-rule=\"evenodd\" fill-opacity=\"0.4\"/>\n",
       "<polyline clip-path=\"url(#clip880)\" style=\"stroke:#000000; stroke-linecap:round; stroke-linejoin:round; stroke-width:4; stroke-opacity:1; fill:none\" points=\"2035.89,230.002 2179.81,230.002 \"/>\n",
       "<path clip-path=\"url(#clip880)\" d=\"M2217.64 270.425 Q2215.84 275.055 2214.12 276.467 Q2212.41 277.879 2209.54 277.879 L2206.14 277.879 L2206.14 274.314 L2208.64 274.314 Q2210.4 274.314 2211.37 273.48 Q2212.34 272.647 2213.52 269.545 L2214.29 267.601 L2203.8 242.092 L2208.31 242.092 L2216.42 262.369 L2224.52 242.092 L2229.03 242.092 L2217.64 270.425 Z\" fill=\"#000000\" fill-rule=\"evenodd\" fill-opacity=\"1\" /><path clip-path=\"url(#clip880)\" d=\"M2249.68 249.383 Q2253.04 250.101 2254.91 252.369 Q2256.81 254.638 2256.81 257.971 Q2256.81 263.087 2253.29 265.888 Q2249.77 268.689 2243.29 268.689 Q2241.11 268.689 2238.8 268.249 Q2236.51 267.832 2234.05 266.976 L2234.05 262.462 Q2236 263.596 2238.31 264.175 Q2240.63 264.754 2243.15 264.754 Q2247.55 264.754 2249.84 263.018 Q2252.16 261.281 2252.16 257.971 Q2252.16 254.916 2250 253.203 Q2247.87 251.467 2244.05 251.467 L2240.03 251.467 L2240.03 247.624 L2244.24 247.624 Q2247.69 247.624 2249.52 246.258 Q2251.35 244.87 2251.35 242.277 Q2251.35 239.615 2249.45 238.203 Q2247.57 236.768 2244.05 236.768 Q2242.13 236.768 2239.93 237.184 Q2237.73 237.601 2235.1 238.481 L2235.1 234.314 Q2237.76 233.573 2240.07 233.203 Q2242.41 232.833 2244.47 232.833 Q2249.79 232.833 2252.9 235.263 Q2256 237.67 2256 241.791 Q2256 244.661 2254.35 246.652 Q2252.71 248.62 2249.68 249.383 Z\" fill=\"#000000\" fill-rule=\"evenodd\" fill-opacity=\"1\" /></svg>\n"
      ]
     },
     "execution_count": null,
     "metadata": {},
     "output_type": "execute_result"
    }
   ],
   "source": [
    "if !isempty(points)\n",
    "    #scatter!(x_coords(points), y_coords(points), color=:black, marker=:xcross)\n",
    "    idxs = vcat(1:length(points), 1)\n",
    "    plot!(x_coords(points[idxs]), y_coords(points[idxs]), fill=(0, 0.4, :green), color=:black)\n",
    "end"
   ]
  },
  {
   "cell_type": "code",
   "execution_count": null,
   "id": "5ba978d3",
   "metadata": {},
   "outputs": [
    {
     "name": "stdout",
     "output_type": "stream",
     "text": [
      "  0.000009 seconds (3 allocations: 320 bytes)\n",
      "  0.339409 seconds (517.69 k allocations: 26.301 MiB, 5.34% gc time, 99.98% compilation time)\n",
      "  0.778038 seconds (2.24 M allocations: 114.516 MiB, 2.56% gc time, 99.95% compilation time)\n"
     ]
    }
   ],
   "source": [
    "@time PolygonAlgorithms.intersect_convex(poly1, poly2, PolygonAlgorithms.ChasingEdgesAlg());\n",
    "@time PolygonAlgorithms.intersect_convex(poly1, poly2, PolygonAlgorithms.PointSearchAlg());\n",
    "@time PolygonAlgorithms.intersect_convex(poly1, poly2, PolygonAlgorithms.WeilerAthertonAlg());"
   ]
  },
  {
   "cell_type": "markdown",
   "id": "cff143ce",
   "metadata": {},
   "source": [
    "## Concave Polygons"
   ]
  },
  {
   "cell_type": "code",
   "execution_count": null,
   "id": "60c57d2c",
   "metadata": {},
   "outputs": [],
   "source": [
    "# spiral\n",
    "θs = 0.0:0.01:6π\n",
    "rs = θs\n",
    "poly1 = [(r * cos(θ), r * sin(θ)) for (r, θ) in zip(rs, θs)] \n",
    "poly1 = vcat(poly1, reverse([0.8 .* p for p in poly1]))\n",
    "\n",
    "# star\n",
    "poly2 = [\n",
    "    (0.0, 18.0), (3.0, 5.0), (15.0, 5.0), (5.0, 0.0), (10.0, -12.0), (0.0, -2.0),\n",
    "    (-10.0, -12.0), (-5.0, 0.0), (-15.0, 5.0), (-3.0, 5.0)\n",
    "]\n",
    ";\n",
    "poly1 = PolygonAlgorithms.rotate(poly2, π/1.0);\n",
    "#poly1 = translate(poly1, (0.0, 1.0))\n",
    "\n",
    "# Random\n",
    "#poly1 = PolygonAlgorithms.sort_clockwise([(rand(), rand()) for i in 1:100])\n",
    "#poly2 = PolygonAlgorithms.sort_clockwise([(0.3+rand(), rand()) for i in 1:40])\n",
    "  \n",
    "## Intersecting forks\n",
    "poly1 = [\n",
    "    (0.0, 0.0), (0.0, 8.0), (1.0, 8.0), (1.0, 1.0),\n",
    "    (2.0, 1.0), (2.0, 8.0), (3.0, 8.0), (3.0, 1.0),\n",
    "    (4.0, 1.0), (4.0, 8.0), (5.0, 8.0), (5.0, 0.0),\n",
    "]\n",
    "poly2 = PolygonAlgorithms.rotate(poly1, π/2.0, (2.5, 4.0))\n",
    "\n",
    "    poly1 = [\n",
    "        (0.0, 0.0), (0.0, 1.0), (-1.0, 1.0), (-1.0, 2.0), (1.0, 2.0), (1.0, 0.0)\n",
    "    ]\n",
    "    poly2 = [\n",
    "        (-2.0, 0.0), (0.0, 1.0), (-1.0, -1.0)\n",
    "    ]\n",
    "\n",
    "if is_counter_clockwise(poly1)\n",
    "    poly1 = reverse(poly1)\n",
    "end\n",
    "if is_counter_clockwise(poly2)\n",
    "    poly2 = reverse(poly2)\n",
    "end\n",
    ";"
   ]
  },
  {
   "cell_type": "code",
   "execution_count": null,
   "id": "02edf5b1",
   "metadata": {},
   "outputs": [
    {
     "data": {
      "image/svg+xml": [
       "<?xml version=\"1.0\" encoding=\"utf-8\"?>\n",
       "<svg xmlns=\"http://www.w3.org/2000/svg\" xmlns:xlink=\"http://www.w3.org/1999/xlink\" width=\"600\" height=\"400\" viewBox=\"0 0 2400 1600\">\n",
       "<defs>\n",
       "  <clipPath id=\"clip920\">\n",
       "    <rect x=\"0\" y=\"0\" width=\"2400\" height=\"1600\"/>\n",
       "  </clipPath>\n",
       "</defs>\n",
       "<path clip-path=\"url(#clip920)\" d=\"M0 1600 L2400 1600 L2400 0 L0 0  Z\" fill=\"#ffffff\" fill-rule=\"evenodd\" fill-opacity=\"1\"/>\n",
       "<defs>\n",
       "  <clipPath id=\"clip921\">\n",
       "    <rect x=\"480\" y=\"0\" width=\"1681\" height=\"1600\"/>\n",
       "  </clipPath>\n",
       "</defs>\n",
       "<path clip-path=\"url(#clip920)\" d=\"M147.478 1486.45 L2352.76 1486.45 L2352.76 47.2441 L147.478 47.2441  Z\" fill=\"#ffffff\" fill-rule=\"evenodd\" fill-opacity=\"1\"/>\n",
       "<defs>\n",
       "  <clipPath id=\"clip922\">\n",
       "    <rect x=\"147\" y=\"47\" width=\"2206\" height=\"1440\"/>\n",
       "  </clipPath>\n",
       "</defs>\n",
       "<polyline clip-path=\"url(#clip922)\" style=\"stroke:#000000; stroke-linecap:round; stroke-linejoin:round; stroke-width:2; stroke-opacity:0.1; fill:none\" points=\"571.247,1486.45 571.247,47.2441 \"/>\n",
       "<polyline clip-path=\"url(#clip922)\" style=\"stroke:#000000; stroke-linecap:round; stroke-linejoin:round; stroke-width:2; stroke-opacity:0.1; fill:none\" points=\"1023.83,1486.45 1023.83,47.2441 \"/>\n",
       "<polyline clip-path=\"url(#clip922)\" style=\"stroke:#000000; stroke-linecap:round; stroke-linejoin:round; stroke-width:2; stroke-opacity:0.1; fill:none\" points=\"1476.41,1486.45 1476.41,47.2441 \"/>\n",
       "<polyline clip-path=\"url(#clip922)\" style=\"stroke:#000000; stroke-linecap:round; stroke-linejoin:round; stroke-width:2; stroke-opacity:0.1; fill:none\" points=\"1928.99,1486.45 1928.99,47.2441 \"/>\n",
       "<polyline clip-path=\"url(#clip920)\" style=\"stroke:#000000; stroke-linecap:round; stroke-linejoin:round; stroke-width:4; stroke-opacity:1; fill:none\" points=\"147.478,1486.45 2352.76,1486.45 \"/>\n",
       "<polyline clip-path=\"url(#clip920)\" style=\"stroke:#000000; stroke-linecap:round; stroke-linejoin:round; stroke-width:4; stroke-opacity:1; fill:none\" points=\"571.247,1486.45 571.247,1467.55 \"/>\n",
       "<polyline clip-path=\"url(#clip920)\" style=\"stroke:#000000; stroke-linecap:round; stroke-linejoin:round; stroke-width:4; stroke-opacity:1; fill:none\" points=\"1023.83,1486.45 1023.83,1467.55 \"/>\n",
       "<polyline clip-path=\"url(#clip920)\" style=\"stroke:#000000; stroke-linecap:round; stroke-linejoin:round; stroke-width:4; stroke-opacity:1; fill:none\" points=\"1476.41,1486.45 1476.41,1467.55 \"/>\n",
       "<polyline clip-path=\"url(#clip920)\" style=\"stroke:#000000; stroke-linecap:round; stroke-linejoin:round; stroke-width:4; stroke-opacity:1; fill:none\" points=\"1928.99,1486.45 1928.99,1467.55 \"/>\n",
       "<path clip-path=\"url(#clip920)\" d=\"M541.189 1532.02 L570.865 1532.02 L570.865 1535.95 L541.189 1535.95 L541.189 1532.02 Z\" fill=\"#000000\" fill-rule=\"evenodd\" fill-opacity=\"1\" /><path clip-path=\"url(#clip920)\" d=\"M584.986 1544.91 L601.305 1544.91 L601.305 1548.85 L579.361 1548.85 L579.361 1544.91 Q582.023 1542.16 586.606 1537.53 Q591.212 1532.88 592.393 1531.53 Q594.638 1529.01 595.518 1527.27 Q596.421 1525.51 596.421 1523.82 Q596.421 1521.07 594.476 1519.33 Q592.555 1517.6 589.453 1517.6 Q587.254 1517.6 584.8 1518.36 Q582.37 1519.13 579.592 1520.68 L579.592 1515.95 Q582.416 1514.82 584.87 1514.24 Q587.324 1513.66 589.361 1513.66 Q594.731 1513.66 597.925 1516.35 Q601.12 1519.03 601.12 1523.52 Q601.12 1525.65 600.31 1527.57 Q599.523 1529.47 597.416 1532.07 Q596.837 1532.74 593.736 1535.95 Q590.634 1539.15 584.986 1544.91 Z\" fill=\"#000000\" fill-rule=\"evenodd\" fill-opacity=\"1\" /><path clip-path=\"url(#clip920)\" d=\"M993.584 1532.02 L1023.26 1532.02 L1023.26 1535.95 L993.584 1535.95 L993.584 1532.02 Z\" fill=\"#000000\" fill-rule=\"evenodd\" fill-opacity=\"1\" /><path clip-path=\"url(#clip920)\" d=\"M1034.16 1544.91 L1041.8 1544.91 L1041.8 1518.55 L1033.49 1520.21 L1033.49 1515.95 L1041.76 1514.29 L1046.43 1514.29 L1046.43 1544.91 L1054.07 1544.91 L1054.07 1548.85 L1034.16 1548.85 L1034.16 1544.91 Z\" fill=\"#000000\" fill-rule=\"evenodd\" fill-opacity=\"1\" /><path clip-path=\"url(#clip920)\" d=\"M1476.41 1517.37 Q1472.8 1517.37 1470.97 1520.93 Q1469.16 1524.47 1469.16 1531.6 Q1469.16 1538.71 1470.97 1542.27 Q1472.8 1545.82 1476.41 1545.82 Q1480.04 1545.82 1481.85 1542.27 Q1483.68 1538.71 1483.68 1531.6 Q1483.68 1524.47 1481.85 1520.93 Q1480.04 1517.37 1476.41 1517.37 M1476.41 1513.66 Q1482.22 1513.66 1485.27 1518.27 Q1488.35 1522.85 1488.35 1531.6 Q1488.35 1540.33 1485.27 1544.94 Q1482.22 1549.52 1476.41 1549.52 Q1470.6 1549.52 1467.52 1544.94 Q1464.46 1540.33 1464.46 1531.6 Q1464.46 1522.85 1467.52 1518.27 Q1470.6 1513.66 1476.41 1513.66 Z\" fill=\"#000000\" fill-rule=\"evenodd\" fill-opacity=\"1\" /><path clip-path=\"url(#clip920)\" d=\"M1919.37 1544.91 L1927.01 1544.91 L1927.01 1518.55 L1918.7 1520.21 L1918.7 1515.95 L1926.96 1514.29 L1931.64 1514.29 L1931.64 1544.91 L1939.28 1544.91 L1939.28 1548.85 L1919.37 1548.85 L1919.37 1544.91 Z\" fill=\"#000000\" fill-rule=\"evenodd\" fill-opacity=\"1\" /><polyline clip-path=\"url(#clip922)\" style=\"stroke:#000000; stroke-linecap:round; stroke-linejoin:round; stroke-width:2; stroke-opacity:0.1; fill:none\" points=\"147.478,1445.72 2352.76,1445.72 \"/>\n",
       "<polyline clip-path=\"url(#clip922)\" style=\"stroke:#000000; stroke-linecap:round; stroke-linejoin:round; stroke-width:2; stroke-opacity:0.1; fill:none\" points=\"147.478,993.136 2352.76,993.136 \"/>\n",
       "<polyline clip-path=\"url(#clip922)\" style=\"stroke:#000000; stroke-linecap:round; stroke-linejoin:round; stroke-width:2; stroke-opacity:0.1; fill:none\" points=\"147.478,540.556 2352.76,540.556 \"/>\n",
       "<polyline clip-path=\"url(#clip922)\" style=\"stroke:#000000; stroke-linecap:round; stroke-linejoin:round; stroke-width:2; stroke-opacity:0.1; fill:none\" points=\"147.478,87.9763 2352.76,87.9763 \"/>\n",
       "<polyline clip-path=\"url(#clip920)\" style=\"stroke:#000000; stroke-linecap:round; stroke-linejoin:round; stroke-width:4; stroke-opacity:1; fill:none\" points=\"147.478,1486.45 147.478,47.2441 \"/>\n",
       "<polyline clip-path=\"url(#clip920)\" style=\"stroke:#000000; stroke-linecap:round; stroke-linejoin:round; stroke-width:4; stroke-opacity:1; fill:none\" points=\"147.478,1445.72 166.376,1445.72 \"/>\n",
       "<polyline clip-path=\"url(#clip920)\" style=\"stroke:#000000; stroke-linecap:round; stroke-linejoin:round; stroke-width:4; stroke-opacity:1; fill:none\" points=\"147.478,993.136 166.376,993.136 \"/>\n",
       "<polyline clip-path=\"url(#clip920)\" style=\"stroke:#000000; stroke-linecap:round; stroke-linejoin:round; stroke-width:4; stroke-opacity:1; fill:none\" points=\"147.478,540.556 166.376,540.556 \"/>\n",
       "<polyline clip-path=\"url(#clip920)\" style=\"stroke:#000000; stroke-linecap:round; stroke-linejoin:round; stroke-width:4; stroke-opacity:1; fill:none\" points=\"147.478,87.9763 166.376,87.9763 \"/>\n",
       "<path clip-path=\"url(#clip920)\" d=\"M50.9921 1446.17 L80.6679 1446.17 L80.6679 1450.1 L50.9921 1450.1 L50.9921 1446.17 Z\" fill=\"#000000\" fill-rule=\"evenodd\" fill-opacity=\"1\" /><path clip-path=\"url(#clip920)\" d=\"M91.5706 1459.06 L99.2095 1459.06 L99.2095 1432.69 L90.8993 1434.36 L90.8993 1430.1 L99.1632 1428.44 L103.839 1428.44 L103.839 1459.06 L111.478 1459.06 L111.478 1463 L91.5706 1463 L91.5706 1459.06 Z\" fill=\"#000000\" fill-rule=\"evenodd\" fill-opacity=\"1\" /><path clip-path=\"url(#clip920)\" d=\"M99.5335 978.935 Q95.9224 978.935 94.0937 982.499 Q92.2882 986.041 92.2882 993.171 Q92.2882 1000.28 94.0937 1003.84 Q95.9224 1007.38 99.5335 1007.38 Q103.168 1007.38 104.973 1003.84 Q106.802 1000.28 106.802 993.171 Q106.802 986.041 104.973 982.499 Q103.168 978.935 99.5335 978.935 M99.5335 975.231 Q105.344 975.231 108.399 979.837 Q111.478 984.421 111.478 993.171 Q111.478 1001.9 108.399 1006.5 Q105.344 1011.09 99.5335 1011.09 Q93.7234 1011.09 90.6447 1006.5 Q87.5892 1001.9 87.5892 993.171 Q87.5892 984.421 90.6447 979.837 Q93.7234 975.231 99.5335 975.231 Z\" fill=\"#000000\" fill-rule=\"evenodd\" fill-opacity=\"1\" /><path clip-path=\"url(#clip920)\" d=\"M91.5706 553.901 L99.2095 553.901 L99.2095 527.535 L90.8993 529.202 L90.8993 524.943 L99.1632 523.276 L103.839 523.276 L103.839 553.901 L111.478 553.901 L111.478 557.836 L91.5706 557.836 L91.5706 553.901 Z\" fill=\"#000000\" fill-rule=\"evenodd\" fill-opacity=\"1\" /><path clip-path=\"url(#clip920)\" d=\"M95.1586 101.321 L111.478 101.321 L111.478 105.256 L89.5336 105.256 L89.5336 101.321 Q92.1956 98.5665 96.7789 93.9369 Q101.385 89.2841 102.566 87.9416 Q104.811 85.4184 105.691 83.6823 Q106.594 81.9231 106.594 80.2333 Q106.594 77.4786 104.649 75.7425 Q102.728 74.0064 99.6261 74.0064 Q97.4271 74.0064 94.9734 74.7703 Q92.5428 75.5342 89.7651 77.0851 L89.7651 72.3629 Q92.5891 71.2287 95.0428 70.65 Q97.4965 70.0713 99.5335 70.0713 Q104.904 70.0713 108.098 72.7565 Q111.293 75.4416 111.293 79.9323 Q111.293 82.062 110.483 83.9832 Q109.696 85.8814 107.589 88.474 Q107.01 89.1453 103.909 92.3628 Q100.807 95.5573 95.1586 101.321 Z\" fill=\"#000000\" fill-rule=\"evenodd\" fill-opacity=\"1\" /><path clip-path=\"url(#clip922)\" d=\"M1476.41 993.136 L1476.41 540.556 L1023.83 540.556 L1023.83 87.9763 L1928.99 87.9763 L1928.99 993.136 L1476.41 993.136 L1476.41 993.136 L1928.99 993.136 L1928.99 993.136 L1023.83 993.136 L1023.83 993.136 L1476.41 993.136 L1476.41 993.136  Z\" fill=\"#009af9\" fill-rule=\"evenodd\" fill-opacity=\"0.5\"/>\n",
       "<polyline clip-path=\"url(#clip922)\" style=\"stroke:#009af9; stroke-linecap:round; stroke-linejoin:round; stroke-width:4; stroke-opacity:1; fill:none\" points=\"1476.41,993.136 1476.41,540.556 1023.83,540.556 1023.83,87.9763 1928.99,87.9763 1928.99,993.136 1476.41,993.136 \"/>\n",
       "<polyline clip-path=\"url(#clip922)\" style=\"stroke:#009af9; stroke-linecap:round; stroke-linejoin:round; stroke-width:4; stroke-opacity:1; fill:none\" points=\"1512.41,1011.14 1476.41,993.136 1512.41,975.136 \"/>\n",
       "<polyline clip-path=\"url(#clip922)\" style=\"stroke:#009af9; stroke-linecap:round; stroke-linejoin:round; stroke-width:4; stroke-opacity:1; fill:none\" points=\"1476.41,993.136 1928.99,993.136 \"/>\n",
       "<path clip-path=\"url(#clip922)\" d=\"M571.247 993.136 L1476.41 540.556 L1023.83 1445.72 L571.247 993.136 L571.247 993.136 L1023.83 993.136 L1476.41 993.136 L571.247 993.136  Z\" fill=\"#e26f46\" fill-rule=\"evenodd\" fill-opacity=\"0.5\"/>\n",
       "<polyline clip-path=\"url(#clip922)\" style=\"stroke:#e26f46; stroke-linecap:round; stroke-linejoin:round; stroke-width:4; stroke-opacity:1; fill:none\" points=\"571.247,993.136 1476.41,540.556 1023.83,1445.72 571.247,993.136 \"/>\n",
       "<polyline clip-path=\"url(#clip922)\" style=\"stroke:#e26f46; stroke-linecap:round; stroke-linejoin:round; stroke-width:4; stroke-opacity:1; fill:none\" points=\"583.975,1031.32 571.247,993.136 609.431,1005.86 \"/>\n",
       "<polyline clip-path=\"url(#clip922)\" style=\"stroke:#e26f46; stroke-linecap:round; stroke-linejoin:round; stroke-width:4; stroke-opacity:1; fill:none\" points=\"571.247,993.136 1023.83,1445.72 \"/>\n",
       "<path clip-path=\"url(#clip920)\" d=\"M220.987 250.738 L493.945 250.738 L493.945 95.2176 L220.987 95.2176  Z\" fill=\"#ffffff\" fill-rule=\"evenodd\" fill-opacity=\"1\"/>\n",
       "<polyline clip-path=\"url(#clip920)\" style=\"stroke:#000000; stroke-linecap:round; stroke-linejoin:round; stroke-width:4; stroke-opacity:1; fill:none\" points=\"220.987,250.738 493.945,250.738 493.945,95.2176 220.987,95.2176 220.987,250.738 \"/>\n",
       "<path clip-path=\"url(#clip920)\" d=\"M245.49 167.794 L392.509 167.794 L392.509 126.322 L245.49 126.322 L245.49 167.794  Z\" fill=\"#009af9\" fill-rule=\"evenodd\" fill-opacity=\"0.5\"/>\n",
       "<polyline clip-path=\"url(#clip920)\" style=\"stroke:#009af9; stroke-linecap:round; stroke-linejoin:round; stroke-width:4; stroke-opacity:1; fill:none\" points=\"245.49,126.322 392.509,126.322 \"/>\n",
       "<path clip-path=\"url(#clip920)\" d=\"M430.854 166.745 Q429.049 171.375 427.336 172.787 Q425.623 174.199 422.753 174.199 L419.35 174.199 L419.35 170.634 L421.85 170.634 Q423.609 170.634 424.581 169.8 Q425.554 168.967 426.734 165.865 L427.498 163.921 L417.012 138.412 L421.526 138.412 L429.628 158.689 L437.729 138.412 L442.243 138.412 L430.854 166.745 Z\" fill=\"#000000\" fill-rule=\"evenodd\" fill-opacity=\"1\" /><path clip-path=\"url(#clip920)\" d=\"M449.535 160.402 L457.174 160.402 L457.174 134.037 L448.864 135.703 L448.864 131.444 L457.127 129.778 L461.803 129.778 L461.803 160.402 L469.442 160.402 L469.442 164.338 L449.535 164.338 L449.535 160.402 Z\" fill=\"#000000\" fill-rule=\"evenodd\" fill-opacity=\"1\" /><path clip-path=\"url(#clip920)\" d=\"M245.49 219.634 L392.509 219.634 L392.509 178.162 L245.49 178.162 L245.49 219.634  Z\" fill=\"#e26f46\" fill-rule=\"evenodd\" fill-opacity=\"0.5\"/>\n",
       "<polyline clip-path=\"url(#clip920)\" style=\"stroke:#e26f46; stroke-linecap:round; stroke-linejoin:round; stroke-width:4; stroke-opacity:1; fill:none\" points=\"245.49,178.162 392.509,178.162 \"/>\n",
       "<path clip-path=\"url(#clip920)\" d=\"M430.854 218.585 Q429.049 223.215 427.336 224.627 Q425.623 226.039 422.753 226.039 L419.35 226.039 L419.35 222.474 L421.85 222.474 Q423.609 222.474 424.581 221.64 Q425.554 220.807 426.734 217.705 L427.498 215.761 L417.012 190.252 L421.526 190.252 L429.628 210.529 L437.729 190.252 L442.243 190.252 L430.854 218.585 Z\" fill=\"#000000\" fill-rule=\"evenodd\" fill-opacity=\"1\" /><path clip-path=\"url(#clip920)\" d=\"M452.752 212.242 L469.072 212.242 L469.072 216.178 L447.127 216.178 L447.127 212.242 Q449.789 209.488 454.373 204.858 Q458.979 200.205 460.16 198.863 Q462.405 196.34 463.285 194.604 Q464.188 192.844 464.188 191.155 Q464.188 188.4 462.243 186.664 Q460.322 184.928 457.22 184.928 Q455.021 184.928 452.567 185.692 Q450.137 186.455 447.359 188.006 L447.359 183.284 Q450.183 182.15 452.637 181.571 Q455.09 180.993 457.127 180.993 Q462.498 180.993 465.692 183.678 Q468.887 186.363 468.887 190.854 Q468.887 192.983 468.076 194.905 Q467.289 196.803 465.183 199.395 Q464.604 200.067 461.502 203.284 Q458.401 206.479 452.752 212.242 Z\" fill=\"#000000\" fill-rule=\"evenodd\" fill-opacity=\"1\" /></svg>\n"
      ]
     },
     "execution_count": null,
     "metadata": {},
     "output_type": "execute_result"
    }
   ],
   "source": [
    "idxs1 = vcat(1:length(poly1), 1)\n",
    "idxs2 = vcat(1:length(poly2), 1)\n",
    "plot(x_coords(poly1[idxs1]), y_coords(poly1[idxs1]), aspectratio=:equal, arrow=true, fill=(0, 0.5))\n",
    "plot!(x_coords(poly2[idxs2]), y_coords(poly2[idxs2]), arrow=true, fill=(0, 0.5))"
   ]
  },
  {
   "cell_type": "code",
   "execution_count": null,
   "id": "de64f5d6",
   "metadata": {},
   "outputs": [],
   "source": [
    "regions = intersect_geometry(poly1, poly2);"
   ]
  },
  {
   "cell_type": "code",
   "execution_count": null,
   "id": "d67fa787",
   "metadata": {},
   "outputs": [],
   "source": [
    "# list1 = generate_list(poly1)\n",
    "# list2 = generate_list(poly2)\n",
    "# # insert intersections\n",
    "# find_and_insert_intersections!(list1, list2)\n",
    "\n",
    "# display(list1)\n",
    "# display(list2)"
   ]
  },
  {
   "cell_type": "code",
   "execution_count": null,
   "id": "52e57c91",
   "metadata": {},
   "outputs": [
    {
     "data": {
      "image/svg+xml": [
       "<?xml version=\"1.0\" encoding=\"utf-8\"?>\n",
       "<svg xmlns=\"http://www.w3.org/2000/svg\" xmlns:xlink=\"http://www.w3.org/1999/xlink\" width=\"600\" height=\"400\" viewBox=\"0 0 2400 1600\">\n",
       "<defs>\n",
       "  <clipPath id=\"clip960\">\n",
       "    <rect x=\"0\" y=\"0\" width=\"2400\" height=\"1600\"/>\n",
       "  </clipPath>\n",
       "</defs>\n",
       "<path clip-path=\"url(#clip960)\" d=\"M0 1600 L2400 1600 L2400 0 L0 0  Z\" fill=\"#ffffff\" fill-rule=\"evenodd\" fill-opacity=\"1\"/>\n",
       "<defs>\n",
       "  <clipPath id=\"clip961\">\n",
       "    <rect x=\"480\" y=\"0\" width=\"1681\" height=\"1600\"/>\n",
       "  </clipPath>\n",
       "</defs>\n",
       "<path clip-path=\"url(#clip960)\" d=\"M147.478 1486.45 L2352.76 1486.45 L2352.76 47.2441 L147.478 47.2441  Z\" fill=\"#ffffff\" fill-rule=\"evenodd\" fill-opacity=\"1\"/>\n",
       "<defs>\n",
       "  <clipPath id=\"clip962\">\n",
       "    <rect x=\"147\" y=\"47\" width=\"2206\" height=\"1440\"/>\n",
       "  </clipPath>\n",
       "</defs>\n",
       "<polyline clip-path=\"url(#clip962)\" style=\"stroke:#000000; stroke-linecap:round; stroke-linejoin:round; stroke-width:2; stroke-opacity:0.1; fill:none\" points=\"571.247,1486.45 571.247,47.2441 \"/>\n",
       "<polyline clip-path=\"url(#clip962)\" style=\"stroke:#000000; stroke-linecap:round; stroke-linejoin:round; stroke-width:2; stroke-opacity:0.1; fill:none\" points=\"1023.83,1486.45 1023.83,47.2441 \"/>\n",
       "<polyline clip-path=\"url(#clip962)\" style=\"stroke:#000000; stroke-linecap:round; stroke-linejoin:round; stroke-width:2; stroke-opacity:0.1; fill:none\" points=\"1476.41,1486.45 1476.41,47.2441 \"/>\n",
       "<polyline clip-path=\"url(#clip962)\" style=\"stroke:#000000; stroke-linecap:round; stroke-linejoin:round; stroke-width:2; stroke-opacity:0.1; fill:none\" points=\"1928.99,1486.45 1928.99,47.2441 \"/>\n",
       "<polyline clip-path=\"url(#clip960)\" style=\"stroke:#000000; stroke-linecap:round; stroke-linejoin:round; stroke-width:4; stroke-opacity:1; fill:none\" points=\"147.478,1486.45 2352.76,1486.45 \"/>\n",
       "<polyline clip-path=\"url(#clip960)\" style=\"stroke:#000000; stroke-linecap:round; stroke-linejoin:round; stroke-width:4; stroke-opacity:1; fill:none\" points=\"571.247,1486.45 571.247,1467.55 \"/>\n",
       "<polyline clip-path=\"url(#clip960)\" style=\"stroke:#000000; stroke-linecap:round; stroke-linejoin:round; stroke-width:4; stroke-opacity:1; fill:none\" points=\"1023.83,1486.45 1023.83,1467.55 \"/>\n",
       "<polyline clip-path=\"url(#clip960)\" style=\"stroke:#000000; stroke-linecap:round; stroke-linejoin:round; stroke-width:4; stroke-opacity:1; fill:none\" points=\"1476.41,1486.45 1476.41,1467.55 \"/>\n",
       "<polyline clip-path=\"url(#clip960)\" style=\"stroke:#000000; stroke-linecap:round; stroke-linejoin:round; stroke-width:4; stroke-opacity:1; fill:none\" points=\"1928.99,1486.45 1928.99,1467.55 \"/>\n",
       "<path clip-path=\"url(#clip960)\" d=\"M541.189 1532.02 L570.865 1532.02 L570.865 1535.95 L541.189 1535.95 L541.189 1532.02 Z\" fill=\"#000000\" fill-rule=\"evenodd\" fill-opacity=\"1\" /><path clip-path=\"url(#clip960)\" d=\"M584.986 1544.91 L601.305 1544.91 L601.305 1548.85 L579.361 1548.85 L579.361 1544.91 Q582.023 1542.16 586.606 1537.53 Q591.212 1532.88 592.393 1531.53 Q594.638 1529.01 595.518 1527.27 Q596.421 1525.51 596.421 1523.82 Q596.421 1521.07 594.476 1519.33 Q592.555 1517.6 589.453 1517.6 Q587.254 1517.6 584.8 1518.36 Q582.37 1519.13 579.592 1520.68 L579.592 1515.95 Q582.416 1514.82 584.87 1514.24 Q587.324 1513.66 589.361 1513.66 Q594.731 1513.66 597.925 1516.35 Q601.12 1519.03 601.12 1523.52 Q601.12 1525.65 600.31 1527.57 Q599.523 1529.47 597.416 1532.07 Q596.837 1532.74 593.736 1535.95 Q590.634 1539.15 584.986 1544.91 Z\" fill=\"#000000\" fill-rule=\"evenodd\" fill-opacity=\"1\" /><path clip-path=\"url(#clip960)\" d=\"M993.584 1532.02 L1023.26 1532.02 L1023.26 1535.95 L993.584 1535.95 L993.584 1532.02 Z\" fill=\"#000000\" fill-rule=\"evenodd\" fill-opacity=\"1\" /><path clip-path=\"url(#clip960)\" d=\"M1034.16 1544.91 L1041.8 1544.91 L1041.8 1518.55 L1033.49 1520.21 L1033.49 1515.95 L1041.76 1514.29 L1046.43 1514.29 L1046.43 1544.91 L1054.07 1544.91 L1054.07 1548.85 L1034.16 1548.85 L1034.16 1544.91 Z\" fill=\"#000000\" fill-rule=\"evenodd\" fill-opacity=\"1\" /><path clip-path=\"url(#clip960)\" d=\"M1476.41 1517.37 Q1472.8 1517.37 1470.97 1520.93 Q1469.16 1524.47 1469.16 1531.6 Q1469.16 1538.71 1470.97 1542.27 Q1472.8 1545.82 1476.41 1545.82 Q1480.04 1545.82 1481.85 1542.27 Q1483.68 1538.71 1483.68 1531.6 Q1483.68 1524.47 1481.85 1520.93 Q1480.04 1517.37 1476.41 1517.37 M1476.41 1513.66 Q1482.22 1513.66 1485.27 1518.27 Q1488.35 1522.85 1488.35 1531.6 Q1488.35 1540.33 1485.27 1544.94 Q1482.22 1549.52 1476.41 1549.52 Q1470.6 1549.52 1467.52 1544.94 Q1464.46 1540.33 1464.46 1531.6 Q1464.46 1522.85 1467.52 1518.27 Q1470.6 1513.66 1476.41 1513.66 Z\" fill=\"#000000\" fill-rule=\"evenodd\" fill-opacity=\"1\" /><path clip-path=\"url(#clip960)\" d=\"M1919.37 1544.91 L1927.01 1544.91 L1927.01 1518.55 L1918.7 1520.21 L1918.7 1515.95 L1926.96 1514.29 L1931.64 1514.29 L1931.64 1544.91 L1939.28 1544.91 L1939.28 1548.85 L1919.37 1548.85 L1919.37 1544.91 Z\" fill=\"#000000\" fill-rule=\"evenodd\" fill-opacity=\"1\" /><polyline clip-path=\"url(#clip962)\" style=\"stroke:#000000; stroke-linecap:round; stroke-linejoin:round; stroke-width:2; stroke-opacity:0.1; fill:none\" points=\"147.478,1445.72 2352.76,1445.72 \"/>\n",
       "<polyline clip-path=\"url(#clip962)\" style=\"stroke:#000000; stroke-linecap:round; stroke-linejoin:round; stroke-width:2; stroke-opacity:0.1; fill:none\" points=\"147.478,993.136 2352.76,993.136 \"/>\n",
       "<polyline clip-path=\"url(#clip962)\" style=\"stroke:#000000; stroke-linecap:round; stroke-linejoin:round; stroke-width:2; stroke-opacity:0.1; fill:none\" points=\"147.478,540.556 2352.76,540.556 \"/>\n",
       "<polyline clip-path=\"url(#clip962)\" style=\"stroke:#000000; stroke-linecap:round; stroke-linejoin:round; stroke-width:2; stroke-opacity:0.1; fill:none\" points=\"147.478,87.9763 2352.76,87.9763 \"/>\n",
       "<polyline clip-path=\"url(#clip960)\" style=\"stroke:#000000; stroke-linecap:round; stroke-linejoin:round; stroke-width:4; stroke-opacity:1; fill:none\" points=\"147.478,1486.45 147.478,47.2441 \"/>\n",
       "<polyline clip-path=\"url(#clip960)\" style=\"stroke:#000000; stroke-linecap:round; stroke-linejoin:round; stroke-width:4; stroke-opacity:1; fill:none\" points=\"147.478,1445.72 166.376,1445.72 \"/>\n",
       "<polyline clip-path=\"url(#clip960)\" style=\"stroke:#000000; stroke-linecap:round; stroke-linejoin:round; stroke-width:4; stroke-opacity:1; fill:none\" points=\"147.478,993.136 166.376,993.136 \"/>\n",
       "<polyline clip-path=\"url(#clip960)\" style=\"stroke:#000000; stroke-linecap:round; stroke-linejoin:round; stroke-width:4; stroke-opacity:1; fill:none\" points=\"147.478,540.556 166.376,540.556 \"/>\n",
       "<polyline clip-path=\"url(#clip960)\" style=\"stroke:#000000; stroke-linecap:round; stroke-linejoin:round; stroke-width:4; stroke-opacity:1; fill:none\" points=\"147.478,87.9763 166.376,87.9763 \"/>\n",
       "<path clip-path=\"url(#clip960)\" d=\"M50.9921 1446.17 L80.6679 1446.17 L80.6679 1450.1 L50.9921 1450.1 L50.9921 1446.17 Z\" fill=\"#000000\" fill-rule=\"evenodd\" fill-opacity=\"1\" /><path clip-path=\"url(#clip960)\" d=\"M91.5706 1459.06 L99.2095 1459.06 L99.2095 1432.69 L90.8993 1434.36 L90.8993 1430.1 L99.1632 1428.44 L103.839 1428.44 L103.839 1459.06 L111.478 1459.06 L111.478 1463 L91.5706 1463 L91.5706 1459.06 Z\" fill=\"#000000\" fill-rule=\"evenodd\" fill-opacity=\"1\" /><path clip-path=\"url(#clip960)\" d=\"M99.5335 978.935 Q95.9224 978.935 94.0937 982.499 Q92.2882 986.041 92.2882 993.171 Q92.2882 1000.28 94.0937 1003.84 Q95.9224 1007.38 99.5335 1007.38 Q103.168 1007.38 104.973 1003.84 Q106.802 1000.28 106.802 993.171 Q106.802 986.041 104.973 982.499 Q103.168 978.935 99.5335 978.935 M99.5335 975.231 Q105.344 975.231 108.399 979.837 Q111.478 984.421 111.478 993.171 Q111.478 1001.9 108.399 1006.5 Q105.344 1011.09 99.5335 1011.09 Q93.7234 1011.09 90.6447 1006.5 Q87.5892 1001.9 87.5892 993.171 Q87.5892 984.421 90.6447 979.837 Q93.7234 975.231 99.5335 975.231 Z\" fill=\"#000000\" fill-rule=\"evenodd\" fill-opacity=\"1\" /><path clip-path=\"url(#clip960)\" d=\"M91.5706 553.901 L99.2095 553.901 L99.2095 527.535 L90.8993 529.202 L90.8993 524.943 L99.1632 523.276 L103.839 523.276 L103.839 553.901 L111.478 553.901 L111.478 557.836 L91.5706 557.836 L91.5706 553.901 Z\" fill=\"#000000\" fill-rule=\"evenodd\" fill-opacity=\"1\" /><path clip-path=\"url(#clip960)\" d=\"M95.1586 101.321 L111.478 101.321 L111.478 105.256 L89.5336 105.256 L89.5336 101.321 Q92.1956 98.5665 96.7789 93.9369 Q101.385 89.2841 102.566 87.9416 Q104.811 85.4184 105.691 83.6823 Q106.594 81.9231 106.594 80.2333 Q106.594 77.4786 104.649 75.7425 Q102.728 74.0064 99.6261 74.0064 Q97.4271 74.0064 94.9734 74.7703 Q92.5428 75.5342 89.7651 77.0851 L89.7651 72.3629 Q92.5891 71.2287 95.0428 70.65 Q97.4965 70.0713 99.5335 70.0713 Q104.904 70.0713 108.098 72.7565 Q111.293 75.4416 111.293 79.9323 Q111.293 82.062 110.483 83.9832 Q109.696 85.8814 107.589 88.474 Q107.01 89.1453 103.909 92.3628 Q100.807 95.5573 95.1586 101.321 Z\" fill=\"#000000\" fill-rule=\"evenodd\" fill-opacity=\"1\" /><path clip-path=\"url(#clip962)\" d=\"M1476.41 993.136 L1476.41 540.556 L1023.83 540.556 L1023.83 87.9763 L1928.99 87.9763 L1928.99 993.136 L1476.41 993.136 L1476.41 993.136 L1928.99 993.136 L1928.99 993.136 L1023.83 993.136 L1023.83 993.136 L1476.41 993.136 L1476.41 993.136  Z\" fill=\"#009af9\" fill-rule=\"evenodd\" fill-opacity=\"0.5\"/>\n",
       "<polyline clip-path=\"url(#clip962)\" style=\"stroke:#009af9; stroke-linecap:round; stroke-linejoin:round; stroke-width:4; stroke-opacity:1; fill:none\" points=\"1476.41,993.136 1476.41,540.556 1023.83,540.556 1023.83,87.9763 1928.99,87.9763 1928.99,993.136 1476.41,993.136 \"/>\n",
       "<polyline clip-path=\"url(#clip962)\" style=\"stroke:#009af9; stroke-linecap:round; stroke-linejoin:round; stroke-width:4; stroke-opacity:1; fill:none\" points=\"1512.41,1011.14 1476.41,993.136 1512.41,975.136 \"/>\n",
       "<polyline clip-path=\"url(#clip962)\" style=\"stroke:#009af9; stroke-linecap:round; stroke-linejoin:round; stroke-width:4; stroke-opacity:1; fill:none\" points=\"1476.41,993.136 1928.99,993.136 \"/>\n",
       "<path clip-path=\"url(#clip962)\" d=\"M571.247 993.136 L1476.41 540.556 L1023.83 1445.72 L571.247 993.136 L571.247 993.136 L1023.83 993.136 L1476.41 993.136 L571.247 993.136  Z\" fill=\"#e26f46\" fill-rule=\"evenodd\" fill-opacity=\"0.5\"/>\n",
       "<polyline clip-path=\"url(#clip962)\" style=\"stroke:#e26f46; stroke-linecap:round; stroke-linejoin:round; stroke-width:4; stroke-opacity:1; fill:none\" points=\"571.247,993.136 1476.41,540.556 1023.83,1445.72 571.247,993.136 \"/>\n",
       "<polyline clip-path=\"url(#clip962)\" style=\"stroke:#e26f46; stroke-linecap:round; stroke-linejoin:round; stroke-width:4; stroke-opacity:1; fill:none\" points=\"583.975,1031.32 571.247,993.136 609.431,1005.86 \"/>\n",
       "<polyline clip-path=\"url(#clip962)\" style=\"stroke:#e26f46; stroke-linecap:round; stroke-linejoin:round; stroke-width:4; stroke-opacity:1; fill:none\" points=\"571.247,993.136 1023.83,1445.72 \"/>\n",
       "<line clip-path=\"url(#clip962)\" x1=\"1476.41\" y1=\"540.556\" x2=\"1460.41\" y2=\"524.556\" style=\"stroke:#000000; stroke-width:3.2; stroke-opacity:1\"/>\n",
       "<line clip-path=\"url(#clip962)\" x1=\"1476.41\" y1=\"540.556\" x2=\"1460.41\" y2=\"556.556\" style=\"stroke:#000000; stroke-width:3.2; stroke-opacity:1\"/>\n",
       "<line clip-path=\"url(#clip962)\" x1=\"1476.41\" y1=\"540.556\" x2=\"1492.41\" y2=\"556.556\" style=\"stroke:#000000; stroke-width:3.2; stroke-opacity:1\"/>\n",
       "<line clip-path=\"url(#clip962)\" x1=\"1476.41\" y1=\"540.556\" x2=\"1492.41\" y2=\"524.556\" style=\"stroke:#000000; stroke-width:3.2; stroke-opacity:1\"/>\n",
       "<path clip-path=\"url(#clip960)\" d=\"M220.987 302.578 L657.787 302.578 L657.787 95.2176 L220.987 95.2176  Z\" fill=\"#ffffff\" fill-rule=\"evenodd\" fill-opacity=\"1\"/>\n",
       "<polyline clip-path=\"url(#clip960)\" style=\"stroke:#000000; stroke-linecap:round; stroke-linejoin:round; stroke-width:4; stroke-opacity:1; fill:none\" points=\"220.987,302.578 657.787,302.578 657.787,95.2176 220.987,95.2176 220.987,302.578 \"/>\n",
       "<path clip-path=\"url(#clip960)\" d=\"M245.49 167.794 L392.509 167.794 L392.509 126.322 L245.49 126.322 L245.49 167.794  Z\" fill=\"#009af9\" fill-rule=\"evenodd\" fill-opacity=\"0.5\"/>\n",
       "<polyline clip-path=\"url(#clip960)\" style=\"stroke:#009af9; stroke-linecap:round; stroke-linejoin:round; stroke-width:4; stroke-opacity:1; fill:none\" points=\"245.49,126.322 392.509,126.322 \"/>\n",
       "<path clip-path=\"url(#clip960)\" d=\"M430.854 166.745 Q429.049 171.375 427.336 172.787 Q425.623 174.199 422.753 174.199 L419.35 174.199 L419.35 170.634 L421.85 170.634 Q423.609 170.634 424.581 169.8 Q425.554 168.967 426.734 165.865 L427.498 163.921 L417.012 138.412 L421.526 138.412 L429.628 158.689 L437.729 138.412 L442.243 138.412 L430.854 166.745 Z\" fill=\"#000000\" fill-rule=\"evenodd\" fill-opacity=\"1\" /><path clip-path=\"url(#clip960)\" d=\"M449.535 160.402 L457.174 160.402 L457.174 134.037 L448.864 135.703 L448.864 131.444 L457.127 129.778 L461.803 129.778 L461.803 160.402 L469.442 160.402 L469.442 164.338 L449.535 164.338 L449.535 160.402 Z\" fill=\"#000000\" fill-rule=\"evenodd\" fill-opacity=\"1\" /><path clip-path=\"url(#clip960)\" d=\"M245.49 219.634 L392.509 219.634 L392.509 178.162 L245.49 178.162 L245.49 219.634  Z\" fill=\"#e26f46\" fill-rule=\"evenodd\" fill-opacity=\"0.5\"/>\n",
       "<polyline clip-path=\"url(#clip960)\" style=\"stroke:#e26f46; stroke-linecap:round; stroke-linejoin:round; stroke-width:4; stroke-opacity:1; fill:none\" points=\"245.49,178.162 392.509,178.162 \"/>\n",
       "<path clip-path=\"url(#clip960)\" d=\"M430.854 218.585 Q429.049 223.215 427.336 224.627 Q425.623 226.039 422.753 226.039 L419.35 226.039 L419.35 222.474 L421.85 222.474 Q423.609 222.474 424.581 221.64 Q425.554 220.807 426.734 217.705 L427.498 215.761 L417.012 190.252 L421.526 190.252 L429.628 210.529 L437.729 190.252 L442.243 190.252 L430.854 218.585 Z\" fill=\"#000000\" fill-rule=\"evenodd\" fill-opacity=\"1\" /><path clip-path=\"url(#clip960)\" d=\"M452.752 212.242 L469.072 212.242 L469.072 216.178 L447.127 216.178 L447.127 212.242 Q449.789 209.488 454.373 204.858 Q458.979 200.205 460.16 198.863 Q462.405 196.34 463.285 194.604 Q464.188 192.844 464.188 191.155 Q464.188 188.4 462.243 186.664 Q460.322 184.928 457.22 184.928 Q455.021 184.928 452.567 185.692 Q450.137 186.455 447.359 188.006 L447.359 183.284 Q450.183 182.15 452.637 181.571 Q455.09 180.993 457.127 180.993 Q462.498 180.993 465.692 183.678 Q468.887 186.363 468.887 190.854 Q468.887 192.983 468.076 194.905 Q467.289 196.803 465.183 199.395 Q464.604 200.067 461.502 203.284 Q458.401 206.479 452.752 212.242 Z\" fill=\"#000000\" fill-rule=\"evenodd\" fill-opacity=\"1\" /><line clip-path=\"url(#clip960)\" x1=\"319\" y1=\"250.738\" x2=\"293.4\" y2=\"225.138\" style=\"stroke:#000000; stroke-width:5.12; stroke-opacity:1\"/>\n",
       "<line clip-path=\"url(#clip960)\" x1=\"319\" y1=\"250.738\" x2=\"293.4\" y2=\"276.338\" style=\"stroke:#000000; stroke-width:5.12; stroke-opacity:1\"/>\n",
       "<line clip-path=\"url(#clip960)\" x1=\"319\" y1=\"250.738\" x2=\"344.6\" y2=\"276.338\" style=\"stroke:#000000; stroke-width:5.12; stroke-opacity:1\"/>\n",
       "<line clip-path=\"url(#clip960)\" x1=\"319\" y1=\"250.738\" x2=\"344.6\" y2=\"225.138\" style=\"stroke:#000000; stroke-width:5.12; stroke-opacity:1\"/>\n",
       "<path clip-path=\"url(#clip960)\" d=\"M428.91 245.078 Q425.484 245.078 423.493 247.763 Q421.503 250.425 421.503 255.078 Q421.503 259.731 423.47 262.416 Q425.461 265.078 428.91 265.078 Q432.313 265.078 434.303 262.393 Q436.294 259.707 436.294 255.078 Q436.294 250.471 434.303 247.786 Q432.313 245.078 428.91 245.078 M428.91 241.467 Q434.466 241.467 437.637 245.078 Q440.808 248.689 440.808 255.078 Q440.808 261.444 437.637 265.078 Q434.466 268.689 428.91 268.689 Q423.331 268.689 420.16 265.078 Q417.012 261.444 417.012 255.078 Q417.012 248.689 420.16 245.078 Q423.331 241.467 428.91 241.467 Z\" fill=\"#000000\" fill-rule=\"evenodd\" fill-opacity=\"1\" /><path clip-path=\"url(#clip960)\" d=\"M444.813 242.092 L449.327 242.092 L457.428 263.851 L465.53 242.092 L470.044 242.092 L460.322 268.018 L454.535 268.018 L444.813 242.092 Z\" fill=\"#000000\" fill-rule=\"evenodd\" fill-opacity=\"1\" /><path clip-path=\"url(#clip960)\" d=\"M498.099 253.99 L498.099 256.073 L478.516 256.073 Q478.794 260.471 481.155 262.786 Q483.539 265.078 487.775 265.078 Q490.229 265.078 492.521 264.476 Q494.836 263.874 497.104 262.67 L497.104 266.698 Q494.812 267.67 492.405 268.18 Q489.998 268.689 487.521 268.689 Q481.317 268.689 477.683 265.078 Q474.072 261.467 474.072 255.309 Q474.072 248.944 477.498 245.217 Q480.947 241.467 486.78 241.467 Q492.011 241.467 495.044 244.846 Q498.099 248.203 498.099 253.99 M493.84 252.74 Q493.794 249.245 491.873 247.161 Q489.974 245.078 486.826 245.078 Q483.262 245.078 481.109 247.092 Q478.979 249.106 478.655 252.763 L493.84 252.74 Z\" fill=\"#000000\" fill-rule=\"evenodd\" fill-opacity=\"1\" /><path clip-path=\"url(#clip960)\" d=\"M520.113 246.073 Q519.396 245.657 518.539 245.471 Q517.706 245.263 516.687 245.263 Q513.076 245.263 511.132 247.624 Q509.21 249.962 509.21 254.36 L509.21 268.018 L504.928 268.018 L504.928 242.092 L509.21 242.092 L509.21 246.12 Q510.553 243.758 512.706 242.624 Q514.859 241.467 517.937 241.467 Q518.377 241.467 518.909 241.536 Q519.442 241.583 520.09 241.698 L520.113 246.073 Z\" fill=\"#000000\" fill-rule=\"evenodd\" fill-opacity=\"1\" /><path clip-path=\"url(#clip960)\" d=\"M524.581 231.999 L528.84 231.999 L528.84 268.018 L524.581 268.018 L524.581 231.999 Z\" fill=\"#000000\" fill-rule=\"evenodd\" fill-opacity=\"1\" /><path clip-path=\"url(#clip960)\" d=\"M549.534 254.985 Q544.372 254.985 542.382 256.166 Q540.391 257.346 540.391 260.194 Q540.391 262.462 541.872 263.805 Q543.377 265.124 545.946 265.124 Q549.488 265.124 551.618 262.624 Q553.77 260.101 553.77 255.934 L553.77 254.985 L549.534 254.985 M558.03 253.226 L558.03 268.018 L553.77 268.018 L553.77 264.082 Q552.312 266.443 550.136 267.578 Q547.96 268.689 544.812 268.689 Q540.831 268.689 538.47 266.467 Q536.132 264.221 536.132 260.471 Q536.132 256.096 539.048 253.874 Q541.988 251.652 547.798 251.652 L553.77 251.652 L553.77 251.235 Q553.77 248.295 551.826 246.698 Q549.905 245.078 546.409 245.078 Q544.187 245.078 542.081 245.61 Q539.974 246.143 538.03 247.207 L538.03 243.272 Q540.368 242.37 542.567 241.93 Q544.766 241.467 546.849 241.467 Q552.474 241.467 555.252 244.383 Q558.03 247.3 558.03 253.226 Z\" fill=\"#000000\" fill-rule=\"evenodd\" fill-opacity=\"1\" /><path clip-path=\"url(#clip960)\" d=\"M570.923 264.129 L570.923 277.879 L566.641 277.879 L566.641 242.092 L570.923 242.092 L570.923 246.027 Q572.266 243.712 574.303 242.601 Q576.363 241.467 579.21 241.467 Q583.932 241.467 586.872 245.217 Q589.835 248.967 589.835 255.078 Q589.835 261.189 586.872 264.939 Q583.932 268.689 579.21 268.689 Q576.363 268.689 574.303 267.578 Q572.266 266.443 570.923 264.129 M585.414 255.078 Q585.414 250.379 583.469 247.717 Q581.548 245.032 578.168 245.032 Q574.789 245.032 572.844 247.717 Q570.923 250.379 570.923 255.078 Q570.923 259.777 572.844 262.462 Q574.789 265.124 578.168 265.124 Q581.548 265.124 583.469 262.462 Q585.414 259.777 585.414 255.078 Z\" fill=\"#000000\" fill-rule=\"evenodd\" fill-opacity=\"1\" /><path clip-path=\"url(#clip960)\" d=\"M613.377 264.082 L621.015 264.082 L621.015 237.717 L612.705 239.383 L612.705 235.124 L620.969 233.458 L625.645 233.458 L625.645 264.082 L633.284 264.082 L633.284 268.018 L613.377 268.018 L613.377 264.082 Z\" fill=\"#000000\" fill-rule=\"evenodd\" fill-opacity=\"1\" /></svg>\n"
      ]
     },
     "execution_count": null,
     "metadata": {},
     "output_type": "execute_result"
    }
   ],
   "source": [
    "for (i, region) in enumerate(regions)\n",
    "    if length(region) == 1\n",
    "        scatter!(x_coords(region), y_coords(region), color=:black, marker=:xcross, label=\"overlap $i\")\n",
    "    else\n",
    "        idxs = vcat(1:length(region), 1)\n",
    "        plot!(x_coords(region[idxs]), y_coords(region[idxs]), fill=(0, 0.4, :green), label=\"overlap $i\", color=:black)\n",
    "    end\n",
    "end\n",
    "plot!()"
   ]
  },
  {
   "cell_type": "code",
   "execution_count": null,
   "id": "1525349d",
   "metadata": {},
   "outputs": [],
   "source": []
  }
 ],
 "metadata": {
  "kernelspec": {
   "display_name": "Julia 1.8.5",
   "language": "julia",
   "name": "julia-1.8"
  }
 },
 "nbformat": 4,
 "nbformat_minor": 5
}
